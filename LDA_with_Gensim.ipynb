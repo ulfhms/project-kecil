{
  "nbformat": 4,
  "nbformat_minor": 0,
  "metadata": {
    "colab": {
      "provenance": [],
      "collapsed_sections": [
        "yL7rFVJ0mjSh"
      ],
      "authorship_tag": "ABX9TyMszoLvlJnADanlM5LeEn+K",
      "include_colab_link": true
    },
    "kernelspec": {
      "name": "python3",
      "display_name": "Python 3"
    },
    "language_info": {
      "name": "python"
    },
    "widgets": {
      "application/vnd.jupyter.widget-state+json": {
        "8347b0e4026442adb7bf405173297a3e": {
          "model_module": "@jupyter-widgets/controls",
          "model_name": "HBoxModel",
          "model_module_version": "1.5.0",
          "state": {
            "_dom_classes": [],
            "_model_module": "@jupyter-widgets/controls",
            "_model_module_version": "1.5.0",
            "_model_name": "HBoxModel",
            "_view_count": null,
            "_view_module": "@jupyter-widgets/controls",
            "_view_module_version": "1.5.0",
            "_view_name": "HBoxView",
            "box_style": "",
            "children": [
              "IPY_MODEL_8ca96c46cb71481e809c550c585ab0b9",
              "IPY_MODEL_e84c81e8342542a58aa5c35d2b2d4274",
              "IPY_MODEL_13a12844d9e14b459d04e3afd2b02107"
            ],
            "layout": "IPY_MODEL_59a962c3a0e54dcca1ca0e2218f5db34"
          }
        },
        "8ca96c46cb71481e809c550c585ab0b9": {
          "model_module": "@jupyter-widgets/controls",
          "model_name": "HTMLModel",
          "model_module_version": "1.5.0",
          "state": {
            "_dom_classes": [],
            "_model_module": "@jupyter-widgets/controls",
            "_model_module_version": "1.5.0",
            "_model_name": "HTMLModel",
            "_view_count": null,
            "_view_module": "@jupyter-widgets/controls",
            "_view_module_version": "1.5.0",
            "_view_name": "HTMLView",
            "description": "",
            "description_tooltip": null,
            "layout": "IPY_MODEL_8bbaaaa8ea404260a2623a3252a42896",
            "placeholder": "​",
            "style": "IPY_MODEL_e415371cde964c73ba0390439bffe10d",
            "value": "Pandas Apply: 100%"
          }
        },
        "e84c81e8342542a58aa5c35d2b2d4274": {
          "model_module": "@jupyter-widgets/controls",
          "model_name": "FloatProgressModel",
          "model_module_version": "1.5.0",
          "state": {
            "_dom_classes": [],
            "_model_module": "@jupyter-widgets/controls",
            "_model_module_version": "1.5.0",
            "_model_name": "FloatProgressModel",
            "_view_count": null,
            "_view_module": "@jupyter-widgets/controls",
            "_view_module_version": "1.5.0",
            "_view_name": "ProgressView",
            "bar_style": "success",
            "description": "",
            "description_tooltip": null,
            "layout": "IPY_MODEL_92f55ce31cbd406ba7d8cee1bd2b6ef3",
            "max": 1797,
            "min": 0,
            "orientation": "horizontal",
            "style": "IPY_MODEL_16a45f7d58594959b1fa1ab8ab663859",
            "value": 1797
          }
        },
        "13a12844d9e14b459d04e3afd2b02107": {
          "model_module": "@jupyter-widgets/controls",
          "model_name": "HTMLModel",
          "model_module_version": "1.5.0",
          "state": {
            "_dom_classes": [],
            "_model_module": "@jupyter-widgets/controls",
            "_model_module_version": "1.5.0",
            "_model_name": "HTMLModel",
            "_view_count": null,
            "_view_module": "@jupyter-widgets/controls",
            "_view_module_version": "1.5.0",
            "_view_name": "HTMLView",
            "description": "",
            "description_tooltip": null,
            "layout": "IPY_MODEL_bd3e6d5f8a534e6a8c2fecfef405d952",
            "placeholder": "​",
            "style": "IPY_MODEL_17719011995043b3b46d8db58381d4f9",
            "value": " 1797/1797 [00:00&lt;00:00, 34878.29it/s]"
          }
        },
        "59a962c3a0e54dcca1ca0e2218f5db34": {
          "model_module": "@jupyter-widgets/base",
          "model_name": "LayoutModel",
          "model_module_version": "1.2.0",
          "state": {
            "_model_module": "@jupyter-widgets/base",
            "_model_module_version": "1.2.0",
            "_model_name": "LayoutModel",
            "_view_count": null,
            "_view_module": "@jupyter-widgets/base",
            "_view_module_version": "1.2.0",
            "_view_name": "LayoutView",
            "align_content": null,
            "align_items": null,
            "align_self": null,
            "border": null,
            "bottom": null,
            "display": null,
            "flex": null,
            "flex_flow": null,
            "grid_area": null,
            "grid_auto_columns": null,
            "grid_auto_flow": null,
            "grid_auto_rows": null,
            "grid_column": null,
            "grid_gap": null,
            "grid_row": null,
            "grid_template_areas": null,
            "grid_template_columns": null,
            "grid_template_rows": null,
            "height": null,
            "justify_content": null,
            "justify_items": null,
            "left": null,
            "margin": null,
            "max_height": null,
            "max_width": null,
            "min_height": null,
            "min_width": null,
            "object_fit": null,
            "object_position": null,
            "order": null,
            "overflow": null,
            "overflow_x": null,
            "overflow_y": null,
            "padding": null,
            "right": null,
            "top": null,
            "visibility": null,
            "width": null
          }
        },
        "8bbaaaa8ea404260a2623a3252a42896": {
          "model_module": "@jupyter-widgets/base",
          "model_name": "LayoutModel",
          "model_module_version": "1.2.0",
          "state": {
            "_model_module": "@jupyter-widgets/base",
            "_model_module_version": "1.2.0",
            "_model_name": "LayoutModel",
            "_view_count": null,
            "_view_module": "@jupyter-widgets/base",
            "_view_module_version": "1.2.0",
            "_view_name": "LayoutView",
            "align_content": null,
            "align_items": null,
            "align_self": null,
            "border": null,
            "bottom": null,
            "display": null,
            "flex": null,
            "flex_flow": null,
            "grid_area": null,
            "grid_auto_columns": null,
            "grid_auto_flow": null,
            "grid_auto_rows": null,
            "grid_column": null,
            "grid_gap": null,
            "grid_row": null,
            "grid_template_areas": null,
            "grid_template_columns": null,
            "grid_template_rows": null,
            "height": null,
            "justify_content": null,
            "justify_items": null,
            "left": null,
            "margin": null,
            "max_height": null,
            "max_width": null,
            "min_height": null,
            "min_width": null,
            "object_fit": null,
            "object_position": null,
            "order": null,
            "overflow": null,
            "overflow_x": null,
            "overflow_y": null,
            "padding": null,
            "right": null,
            "top": null,
            "visibility": null,
            "width": null
          }
        },
        "e415371cde964c73ba0390439bffe10d": {
          "model_module": "@jupyter-widgets/controls",
          "model_name": "DescriptionStyleModel",
          "model_module_version": "1.5.0",
          "state": {
            "_model_module": "@jupyter-widgets/controls",
            "_model_module_version": "1.5.0",
            "_model_name": "DescriptionStyleModel",
            "_view_count": null,
            "_view_module": "@jupyter-widgets/base",
            "_view_module_version": "1.2.0",
            "_view_name": "StyleView",
            "description_width": ""
          }
        },
        "92f55ce31cbd406ba7d8cee1bd2b6ef3": {
          "model_module": "@jupyter-widgets/base",
          "model_name": "LayoutModel",
          "model_module_version": "1.2.0",
          "state": {
            "_model_module": "@jupyter-widgets/base",
            "_model_module_version": "1.2.0",
            "_model_name": "LayoutModel",
            "_view_count": null,
            "_view_module": "@jupyter-widgets/base",
            "_view_module_version": "1.2.0",
            "_view_name": "LayoutView",
            "align_content": null,
            "align_items": null,
            "align_self": null,
            "border": null,
            "bottom": null,
            "display": null,
            "flex": null,
            "flex_flow": null,
            "grid_area": null,
            "grid_auto_columns": null,
            "grid_auto_flow": null,
            "grid_auto_rows": null,
            "grid_column": null,
            "grid_gap": null,
            "grid_row": null,
            "grid_template_areas": null,
            "grid_template_columns": null,
            "grid_template_rows": null,
            "height": null,
            "justify_content": null,
            "justify_items": null,
            "left": null,
            "margin": null,
            "max_height": null,
            "max_width": null,
            "min_height": null,
            "min_width": null,
            "object_fit": null,
            "object_position": null,
            "order": null,
            "overflow": null,
            "overflow_x": null,
            "overflow_y": null,
            "padding": null,
            "right": null,
            "top": null,
            "visibility": null,
            "width": null
          }
        },
        "16a45f7d58594959b1fa1ab8ab663859": {
          "model_module": "@jupyter-widgets/controls",
          "model_name": "ProgressStyleModel",
          "model_module_version": "1.5.0",
          "state": {
            "_model_module": "@jupyter-widgets/controls",
            "_model_module_version": "1.5.0",
            "_model_name": "ProgressStyleModel",
            "_view_count": null,
            "_view_module": "@jupyter-widgets/base",
            "_view_module_version": "1.2.0",
            "_view_name": "StyleView",
            "bar_color": null,
            "description_width": ""
          }
        },
        "bd3e6d5f8a534e6a8c2fecfef405d952": {
          "model_module": "@jupyter-widgets/base",
          "model_name": "LayoutModel",
          "model_module_version": "1.2.0",
          "state": {
            "_model_module": "@jupyter-widgets/base",
            "_model_module_version": "1.2.0",
            "_model_name": "LayoutModel",
            "_view_count": null,
            "_view_module": "@jupyter-widgets/base",
            "_view_module_version": "1.2.0",
            "_view_name": "LayoutView",
            "align_content": null,
            "align_items": null,
            "align_self": null,
            "border": null,
            "bottom": null,
            "display": null,
            "flex": null,
            "flex_flow": null,
            "grid_area": null,
            "grid_auto_columns": null,
            "grid_auto_flow": null,
            "grid_auto_rows": null,
            "grid_column": null,
            "grid_gap": null,
            "grid_row": null,
            "grid_template_areas": null,
            "grid_template_columns": null,
            "grid_template_rows": null,
            "height": null,
            "justify_content": null,
            "justify_items": null,
            "left": null,
            "margin": null,
            "max_height": null,
            "max_width": null,
            "min_height": null,
            "min_width": null,
            "object_fit": null,
            "object_position": null,
            "order": null,
            "overflow": null,
            "overflow_x": null,
            "overflow_y": null,
            "padding": null,
            "right": null,
            "top": null,
            "visibility": null,
            "width": null
          }
        },
        "17719011995043b3b46d8db58381d4f9": {
          "model_module": "@jupyter-widgets/controls",
          "model_name": "DescriptionStyleModel",
          "model_module_version": "1.5.0",
          "state": {
            "_model_module": "@jupyter-widgets/controls",
            "_model_module_version": "1.5.0",
            "_model_name": "DescriptionStyleModel",
            "_view_count": null,
            "_view_module": "@jupyter-widgets/base",
            "_view_module_version": "1.2.0",
            "_view_name": "StyleView",
            "description_width": ""
          }
        }
      }
    }
  },
  "cells": [
    {
      "cell_type": "markdown",
      "metadata": {
        "id": "view-in-github",
        "colab_type": "text"
      },
      "source": [
        "<a href=\"https://colab.research.google.com/github/ulfhms/project-kecil/blob/main/LDA_with_Gensim.ipynb\" target=\"_parent\"><img src=\"https://colab.research.google.com/assets/colab-badge.svg\" alt=\"Open In Colab\"/></a>"
      ]
    },
    {
      "cell_type": "markdown",
      "source": [
        "#Install Library\n"
      ],
      "metadata": {
        "id": "yL7rFVJ0mjSh"
      }
    },
    {
      "cell_type": "code",
      "execution_count": 1,
      "metadata": {
        "colab": {
          "base_uri": "https://localhost:8080/"
        },
        "id": "QTNKGR3nYt83",
        "outputId": "8742eaf4-9b79-429f-c81d-2a2c7181734c"
      },
      "outputs": [
        {
          "output_type": "stream",
          "name": "stdout",
          "text": [
            "Looking in indexes: https://pypi.org/simple, https://us-python.pkg.dev/colab-wheels/public/simple/\n",
            "Requirement already satisfied: gensim in /usr/local/lib/python3.8/dist-packages (3.6.0)\n",
            "Requirement already satisfied: six>=1.5.0 in /usr/local/lib/python3.8/dist-packages (from gensim) (1.15.0)\n",
            "Requirement already satisfied: scipy>=0.18.1 in /usr/local/lib/python3.8/dist-packages (from gensim) (1.7.3)\n",
            "Requirement already satisfied: numpy>=1.11.3 in /usr/local/lib/python3.8/dist-packages (from gensim) (1.21.6)\n",
            "Requirement already satisfied: smart-open>=1.2.1 in /usr/local/lib/python3.8/dist-packages (from gensim) (6.3.0)\n"
          ]
        }
      ],
      "source": [
        "pip install gensim"
      ]
    },
    {
      "cell_type": "code",
      "source": [
        "pip install pyldavis==3.2.1"
      ],
      "metadata": {
        "colab": {
          "base_uri": "https://localhost:8080/"
        },
        "id": "d2QD3Jl-ZPxB",
        "outputId": "5d724b4f-84cd-4d7f-f052-ef1d3f05fb4d"
      },
      "execution_count": 2,
      "outputs": [
        {
          "output_type": "stream",
          "name": "stdout",
          "text": [
            "Looking in indexes: https://pypi.org/simple, https://us-python.pkg.dev/colab-wheels/public/simple/\n",
            "Collecting pyldavis==3.2.1\n",
            "  Downloading pyLDAvis-3.2.1.tar.gz (1.7 MB)\n",
            "\u001b[2K     \u001b[90m━━━━━━━━━━━━━━━━━━━━━━━━━━━━━━━━━━━━━━━━\u001b[0m \u001b[32m1.7/1.7 MB\u001b[0m \u001b[31m16.0 MB/s\u001b[0m eta \u001b[36m0:00:00\u001b[0m\n",
            "\u001b[?25h  Preparing metadata (setup.py) ... \u001b[?25l\u001b[?25hdone\n",
            "Requirement already satisfied: wheel>=0.23.0 in /usr/local/lib/python3.8/dist-packages (from pyldavis==3.2.1) (0.38.4)\n",
            "Requirement already satisfied: numpy>=1.9.2 in /usr/local/lib/python3.8/dist-packages (from pyldavis==3.2.1) (1.21.6)\n",
            "Requirement already satisfied: scipy>=0.18.0 in /usr/local/lib/python3.8/dist-packages (from pyldavis==3.2.1) (1.7.3)\n",
            "Requirement already satisfied: joblib>=0.8.4 in /usr/local/lib/python3.8/dist-packages (from pyldavis==3.2.1) (1.2.0)\n",
            "Requirement already satisfied: jinja2>=2.7.2 in /usr/local/lib/python3.8/dist-packages (from pyldavis==3.2.1) (2.11.3)\n",
            "Requirement already satisfied: numexpr in /usr/local/lib/python3.8/dist-packages (from pyldavis==3.2.1) (2.8.4)\n",
            "Requirement already satisfied: future in /usr/local/lib/python3.8/dist-packages (from pyldavis==3.2.1) (0.16.0)\n",
            "\u001b[33mWARNING: Retrying (Retry(total=4, connect=None, read=None, redirect=None, status=None)) after connection broken by 'ProtocolError('Connection aborted.', ConnectionResetError(104, 'Connection reset by peer'))': /simple/funcy/\u001b[0m\u001b[33m\n",
            "\u001b[0mCollecting funcy\n",
            "  Downloading funcy-1.17-py2.py3-none-any.whl (33 kB)\n",
            "Requirement already satisfied: pandas>=0.17.0 in /usr/local/lib/python3.8/dist-packages (from pyldavis==3.2.1) (1.3.5)\n",
            "Requirement already satisfied: MarkupSafe>=0.23 in /usr/local/lib/python3.8/dist-packages (from jinja2>=2.7.2->pyldavis==3.2.1) (2.0.1)\n",
            "Requirement already satisfied: python-dateutil>=2.7.3 in /usr/local/lib/python3.8/dist-packages (from pandas>=0.17.0->pyldavis==3.2.1) (2.8.2)\n",
            "Requirement already satisfied: pytz>=2017.3 in /usr/local/lib/python3.8/dist-packages (from pandas>=0.17.0->pyldavis==3.2.1) (2022.7)\n",
            "Requirement already satisfied: six>=1.5 in /usr/local/lib/python3.8/dist-packages (from python-dateutil>=2.7.3->pandas>=0.17.0->pyldavis==3.2.1) (1.15.0)\n",
            "Building wheels for collected packages: pyldavis\n",
            "  Building wheel for pyldavis (setup.py) ... \u001b[?25l\u001b[?25hdone\n",
            "  Created wheel for pyldavis: filename=pyLDAvis-3.2.1-py2.py3-none-any.whl size=136188 sha256=06da6fc707a2351084f0c84866daf4bf2283811385a464a1ab23435725dc14e6\n",
            "  Stored in directory: /root/.cache/pip/wheels/ae/5f/79/278ffb79ffde795f9686b558a8e313971ee0d3a914105d57dd\n",
            "Successfully built pyldavis\n",
            "Installing collected packages: funcy, pyldavis\n",
            "Successfully installed funcy-1.17 pyldavis-3.2.1\n"
          ]
        }
      ]
    },
    {
      "cell_type": "code",
      "source": [
        "pip install Sastrawi"
      ],
      "metadata": {
        "colab": {
          "base_uri": "https://localhost:8080/"
        },
        "id": "BXbUB7YGZjXD",
        "outputId": "0393c6cd-441b-4a1d-b362-9f947133cdd9"
      },
      "execution_count": 3,
      "outputs": [
        {
          "output_type": "stream",
          "name": "stdout",
          "text": [
            "Looking in indexes: https://pypi.org/simple, https://us-python.pkg.dev/colab-wheels/public/simple/\n",
            "Collecting Sastrawi\n",
            "  Downloading Sastrawi-1.0.1-py2.py3-none-any.whl (209 kB)\n",
            "\u001b[?25l     \u001b[90m━━━━━━━━━━━━━━━━━━━━━━━━━━━━━━━━━━━━━━━━\u001b[0m \u001b[32m0.0/209.7 KB\u001b[0m \u001b[31m?\u001b[0m eta \u001b[36m-:--:--\u001b[0m\r\u001b[2K     \u001b[91m━━━━━━━━━━━━━━━━━━━━━━━━━━━━━━━━━━━━━━\u001b[0m\u001b[90m╺\u001b[0m \u001b[32m204.8/209.7 KB\u001b[0m \u001b[31m7.6 MB/s\u001b[0m eta \u001b[36m0:00:01\u001b[0m\r\u001b[2K     \u001b[90m━━━━━━━━━━━━━━━━━━━━━━━━━━━━━━━━━━━━━━━\u001b[0m \u001b[32m209.7/209.7 KB\u001b[0m \u001b[31m5.5 MB/s\u001b[0m eta \u001b[36m0:00:00\u001b[0m\n",
            "\u001b[?25hInstalling collected packages: Sastrawi\n",
            "Successfully installed Sastrawi-1.0.1\n"
          ]
        }
      ]
    },
    {
      "cell_type": "code",
      "source": [
        "pip install swifter"
      ],
      "metadata": {
        "colab": {
          "base_uri": "https://localhost:8080/",
          "height": 0
        },
        "id": "ycTZ_EVyZnbT",
        "outputId": "280fef94-4aef-469c-c767-fe24e811b86f"
      },
      "execution_count": 4,
      "outputs": [
        {
          "output_type": "stream",
          "name": "stdout",
          "text": [
            "Looking in indexes: https://pypi.org/simple, https://us-python.pkg.dev/colab-wheels/public/simple/\n",
            "Collecting swifter\n",
            "  Downloading swifter-1.3.4.tar.gz (830 kB)\n",
            "\u001b[2K     \u001b[90m━━━━━━━━━━━━━━━━━━━━━━━━━━━━━━━━━━━━━━\u001b[0m \u001b[32m830.9/830.9 KB\u001b[0m \u001b[31m14.0 MB/s\u001b[0m eta \u001b[36m0:00:00\u001b[0m\n",
            "\u001b[?25h  Preparing metadata (setup.py) ... \u001b[?25l\u001b[?25hdone\n",
            "Requirement already satisfied: pandas>=1.0.0 in /usr/local/lib/python3.8/dist-packages (from swifter) (1.3.5)\n",
            "Collecting psutil>=5.6.6\n",
            "  Downloading psutil-5.9.4-cp36-abi3-manylinux_2_12_x86_64.manylinux2010_x86_64.manylinux_2_17_x86_64.manylinux2014_x86_64.whl (280 kB)\n",
            "\u001b[2K     \u001b[90m━━━━━━━━━━━━━━━━━━━━━━━━━━━━━━━━━━━━━━\u001b[0m \u001b[32m280.2/280.2 KB\u001b[0m \u001b[31m24.5 MB/s\u001b[0m eta \u001b[36m0:00:00\u001b[0m\n",
            "\u001b[?25hRequirement already satisfied: dask[dataframe]>=2.10.0 in /usr/local/lib/python3.8/dist-packages (from swifter) (2022.2.1)\n",
            "Requirement already satisfied: tqdm>=4.33.0 in /usr/local/lib/python3.8/dist-packages (from swifter) (4.64.1)\n",
            "Requirement already satisfied: ipywidgets>=7.0.0 in /usr/local/lib/python3.8/dist-packages (from swifter) (7.7.1)\n",
            "Requirement already satisfied: cloudpickle>=0.2.2 in /usr/local/lib/python3.8/dist-packages (from swifter) (2.2.0)\n",
            "Requirement already satisfied: parso>0.4.0 in /usr/local/lib/python3.8/dist-packages (from swifter) (0.8.3)\n",
            "Requirement already satisfied: bleach>=3.1.1 in /usr/local/lib/python3.8/dist-packages (from swifter) (5.0.1)\n",
            "Requirement already satisfied: webencodings in /usr/local/lib/python3.8/dist-packages (from bleach>=3.1.1->swifter) (0.5.1)\n",
            "Requirement already satisfied: six>=1.9.0 in /usr/local/lib/python3.8/dist-packages (from bleach>=3.1.1->swifter) (1.15.0)\n",
            "Requirement already satisfied: partd>=0.3.10 in /usr/local/lib/python3.8/dist-packages (from dask[dataframe]>=2.10.0->swifter) (1.3.0)\n",
            "Requirement already satisfied: toolz>=0.8.2 in /usr/local/lib/python3.8/dist-packages (from dask[dataframe]>=2.10.0->swifter) (0.12.0)\n",
            "Requirement already satisfied: packaging>=20.0 in /usr/local/lib/python3.8/dist-packages (from dask[dataframe]>=2.10.0->swifter) (21.3)\n",
            "Requirement already satisfied: fsspec>=0.6.0 in /usr/local/lib/python3.8/dist-packages (from dask[dataframe]>=2.10.0->swifter) (2022.11.0)\n",
            "Requirement already satisfied: pyyaml>=5.3.1 in /usr/local/lib/python3.8/dist-packages (from dask[dataframe]>=2.10.0->swifter) (6.0)\n",
            "Requirement already satisfied: numpy>=1.18 in /usr/local/lib/python3.8/dist-packages (from dask[dataframe]>=2.10.0->swifter) (1.21.6)\n",
            "Requirement already satisfied: ipykernel>=4.5.1 in /usr/local/lib/python3.8/dist-packages (from ipywidgets>=7.0.0->swifter) (5.3.4)\n",
            "Requirement already satisfied: ipython-genutils~=0.2.0 in /usr/local/lib/python3.8/dist-packages (from ipywidgets>=7.0.0->swifter) (0.2.0)\n",
            "Requirement already satisfied: jupyterlab-widgets>=1.0.0 in /usr/local/lib/python3.8/dist-packages (from ipywidgets>=7.0.0->swifter) (3.0.5)\n",
            "Requirement already satisfied: ipython>=4.0.0 in /usr/local/lib/python3.8/dist-packages (from ipywidgets>=7.0.0->swifter) (7.9.0)\n",
            "Requirement already satisfied: widgetsnbextension~=3.6.0 in /usr/local/lib/python3.8/dist-packages (from ipywidgets>=7.0.0->swifter) (3.6.1)\n",
            "Requirement already satisfied: traitlets>=4.3.1 in /usr/local/lib/python3.8/dist-packages (from ipywidgets>=7.0.0->swifter) (5.7.1)\n",
            "Requirement already satisfied: python-dateutil>=2.7.3 in /usr/local/lib/python3.8/dist-packages (from pandas>=1.0.0->swifter) (2.8.2)\n",
            "Requirement already satisfied: pytz>=2017.3 in /usr/local/lib/python3.8/dist-packages (from pandas>=1.0.0->swifter) (2022.7)\n",
            "Requirement already satisfied: jupyter-client in /usr/local/lib/python3.8/dist-packages (from ipykernel>=4.5.1->ipywidgets>=7.0.0->swifter) (6.1.12)\n",
            "Requirement already satisfied: tornado>=4.2 in /usr/local/lib/python3.8/dist-packages (from ipykernel>=4.5.1->ipywidgets>=7.0.0->swifter) (6.0.4)\n",
            "Requirement already satisfied: pexpect in /usr/local/lib/python3.8/dist-packages (from ipython>=4.0.0->ipywidgets>=7.0.0->swifter) (4.8.0)\n",
            "Requirement already satisfied: decorator in /usr/local/lib/python3.8/dist-packages (from ipython>=4.0.0->ipywidgets>=7.0.0->swifter) (4.4.2)\n",
            "Requirement already satisfied: setuptools>=18.5 in /usr/local/lib/python3.8/dist-packages (from ipython>=4.0.0->ipywidgets>=7.0.0->swifter) (57.4.0)\n",
            "Requirement already satisfied: prompt-toolkit<2.1.0,>=2.0.0 in /usr/local/lib/python3.8/dist-packages (from ipython>=4.0.0->ipywidgets>=7.0.0->swifter) (2.0.10)\n",
            "Requirement already satisfied: pygments in /usr/local/lib/python3.8/dist-packages (from ipython>=4.0.0->ipywidgets>=7.0.0->swifter) (2.6.1)\n",
            "Requirement already satisfied: backcall in /usr/local/lib/python3.8/dist-packages (from ipython>=4.0.0->ipywidgets>=7.0.0->swifter) (0.2.0)\n",
            "Requirement already satisfied: pickleshare in /usr/local/lib/python3.8/dist-packages (from ipython>=4.0.0->ipywidgets>=7.0.0->swifter) (0.7.5)\n",
            "Collecting jedi>=0.10\n",
            "  Downloading jedi-0.18.2-py2.py3-none-any.whl (1.6 MB)\n",
            "\u001b[2K     \u001b[90m━━━━━━━━━━━━━━━━━━━━━━━━━━━━━━━━━━━━━━━━\u001b[0m \u001b[32m1.6/1.6 MB\u001b[0m \u001b[31m41.1 MB/s\u001b[0m eta \u001b[36m0:00:00\u001b[0m\n",
            "\u001b[?25hRequirement already satisfied: pyparsing!=3.0.5,>=2.0.2 in /usr/local/lib/python3.8/dist-packages (from packaging>=20.0->dask[dataframe]>=2.10.0->swifter) (3.0.9)\n",
            "Requirement already satisfied: locket in /usr/local/lib/python3.8/dist-packages (from partd>=0.3.10->dask[dataframe]>=2.10.0->swifter) (1.0.0)\n",
            "Requirement already satisfied: notebook>=4.4.1 in /usr/local/lib/python3.8/dist-packages (from widgetsnbextension~=3.6.0->ipywidgets>=7.0.0->swifter) (5.7.16)\n",
            "Requirement already satisfied: Send2Trash in /usr/local/lib/python3.8/dist-packages (from notebook>=4.4.1->widgetsnbextension~=3.6.0->ipywidgets>=7.0.0->swifter) (1.8.0)\n",
            "Requirement already satisfied: nbconvert<6.0 in /usr/local/lib/python3.8/dist-packages (from notebook>=4.4.1->widgetsnbextension~=3.6.0->ipywidgets>=7.0.0->swifter) (5.6.1)\n",
            "Requirement already satisfied: prometheus-client in /usr/local/lib/python3.8/dist-packages (from notebook>=4.4.1->widgetsnbextension~=3.6.0->ipywidgets>=7.0.0->swifter) (0.15.0)\n",
            "Requirement already satisfied: terminado>=0.8.1 in /usr/local/lib/python3.8/dist-packages (from notebook>=4.4.1->widgetsnbextension~=3.6.0->ipywidgets>=7.0.0->swifter) (0.13.3)\n",
            "Requirement already satisfied: jupyter-core>=4.4.0 in /usr/local/lib/python3.8/dist-packages (from notebook>=4.4.1->widgetsnbextension~=3.6.0->ipywidgets>=7.0.0->swifter) (5.1.2)\n",
            "Requirement already satisfied: nbformat in /usr/local/lib/python3.8/dist-packages (from notebook>=4.4.1->widgetsnbextension~=3.6.0->ipywidgets>=7.0.0->swifter) (5.7.1)\n",
            "Requirement already satisfied: jinja2<=3.0.0 in /usr/local/lib/python3.8/dist-packages (from notebook>=4.4.1->widgetsnbextension~=3.6.0->ipywidgets>=7.0.0->swifter) (2.11.3)\n",
            "Requirement already satisfied: pyzmq>=17 in /usr/local/lib/python3.8/dist-packages (from notebook>=4.4.1->widgetsnbextension~=3.6.0->ipywidgets>=7.0.0->swifter) (23.2.1)\n",
            "Requirement already satisfied: wcwidth in /usr/local/lib/python3.8/dist-packages (from prompt-toolkit<2.1.0,>=2.0.0->ipython>=4.0.0->ipywidgets>=7.0.0->swifter) (0.2.5)\n",
            "Requirement already satisfied: ptyprocess>=0.5 in /usr/local/lib/python3.8/dist-packages (from pexpect->ipython>=4.0.0->ipywidgets>=7.0.0->swifter) (0.7.0)\n",
            "Requirement already satisfied: MarkupSafe>=0.23 in /usr/local/lib/python3.8/dist-packages (from jinja2<=3.0.0->notebook>=4.4.1->widgetsnbextension~=3.6.0->ipywidgets>=7.0.0->swifter) (2.0.1)\n",
            "Requirement already satisfied: platformdirs>=2.5 in /usr/local/lib/python3.8/dist-packages (from jupyter-core>=4.4.0->notebook>=4.4.1->widgetsnbextension~=3.6.0->ipywidgets>=7.0.0->swifter) (2.6.2)\n",
            "Requirement already satisfied: pandocfilters>=1.4.1 in /usr/local/lib/python3.8/dist-packages (from nbconvert<6.0->notebook>=4.4.1->widgetsnbextension~=3.6.0->ipywidgets>=7.0.0->swifter) (1.5.0)\n",
            "Requirement already satisfied: entrypoints>=0.2.2 in /usr/local/lib/python3.8/dist-packages (from nbconvert<6.0->notebook>=4.4.1->widgetsnbextension~=3.6.0->ipywidgets>=7.0.0->swifter) (0.4)\n",
            "Requirement already satisfied: mistune<2,>=0.8.1 in /usr/local/lib/python3.8/dist-packages (from nbconvert<6.0->notebook>=4.4.1->widgetsnbextension~=3.6.0->ipywidgets>=7.0.0->swifter) (0.8.4)\n",
            "Requirement already satisfied: testpath in /usr/local/lib/python3.8/dist-packages (from nbconvert<6.0->notebook>=4.4.1->widgetsnbextension~=3.6.0->ipywidgets>=7.0.0->swifter) (0.6.0)\n",
            "Requirement already satisfied: defusedxml in /usr/local/lib/python3.8/dist-packages (from nbconvert<6.0->notebook>=4.4.1->widgetsnbextension~=3.6.0->ipywidgets>=7.0.0->swifter) (0.7.1)\n",
            "Requirement already satisfied: fastjsonschema in /usr/local/lib/python3.8/dist-packages (from nbformat->notebook>=4.4.1->widgetsnbextension~=3.6.0->ipywidgets>=7.0.0->swifter) (2.16.2)\n",
            "Requirement already satisfied: jsonschema>=2.6 in /usr/local/lib/python3.8/dist-packages (from nbformat->notebook>=4.4.1->widgetsnbextension~=3.6.0->ipywidgets>=7.0.0->swifter) (4.3.3)\n",
            "Requirement already satisfied: importlib-resources>=1.4.0 in /usr/local/lib/python3.8/dist-packages (from jsonschema>=2.6->nbformat->notebook>=4.4.1->widgetsnbextension~=3.6.0->ipywidgets>=7.0.0->swifter) (5.10.2)\n",
            "Requirement already satisfied: attrs>=17.4.0 in /usr/local/lib/python3.8/dist-packages (from jsonschema>=2.6->nbformat->notebook>=4.4.1->widgetsnbextension~=3.6.0->ipywidgets>=7.0.0->swifter) (22.2.0)\n",
            "Requirement already satisfied: pyrsistent!=0.17.0,!=0.17.1,!=0.17.2,>=0.14.0 in /usr/local/lib/python3.8/dist-packages (from jsonschema>=2.6->nbformat->notebook>=4.4.1->widgetsnbextension~=3.6.0->ipywidgets>=7.0.0->swifter) (0.19.3)\n",
            "Requirement already satisfied: zipp>=3.1.0 in /usr/local/lib/python3.8/dist-packages (from importlib-resources>=1.4.0->jsonschema>=2.6->nbformat->notebook>=4.4.1->widgetsnbextension~=3.6.0->ipywidgets>=7.0.0->swifter) (3.11.0)\n",
            "Building wheels for collected packages: swifter\n",
            "  Building wheel for swifter (setup.py) ... \u001b[?25l\u001b[?25hdone\n",
            "  Created wheel for swifter: filename=swifter-1.3.4-py3-none-any.whl size=16321 sha256=f5e8925f38cc94b9f33c2185e023a48ecd7ef795db36274a9a1d41e6f6983d17\n",
            "  Stored in directory: /root/.cache/pip/wheels/08/66/b4/921e351e63d88696932279d6163e125727c9da70ed8ca38419\n",
            "Successfully built swifter\n",
            "Installing collected packages: psutil, jedi, swifter\n",
            "  Attempting uninstall: psutil\n",
            "    Found existing installation: psutil 5.4.8\n",
            "    Uninstalling psutil-5.4.8:\n",
            "      Successfully uninstalled psutil-5.4.8\n",
            "Successfully installed jedi-0.18.2 psutil-5.9.4 swifter-1.3.4\n"
          ]
        },
        {
          "output_type": "display_data",
          "data": {
            "application/vnd.colab-display-data+json": {
              "pip_warning": {
                "packages": [
                  "psutil"
                ]
              }
            }
          },
          "metadata": {}
        }
      ]
    },
    {
      "cell_type": "markdown",
      "source": [
        "#Text Preproscessing"
      ],
      "metadata": {
        "id": "h7owUZL3Z3F8"
      }
    },
    {
      "cell_type": "code",
      "source": [
        "import pandas as pd \n",
        "import numpy as np\n",
        "import nltk"
      ],
      "metadata": {
        "id": "KP_ro0j1ZqXq"
      },
      "execution_count": 5,
      "outputs": []
    },
    {
      "cell_type": "code",
      "source": [
        "textTW = pd.read_csv('/content/menolak-vaksin2-jan-tweet.csv') #lokasi file\n",
        "\n",
        "textTW.head()"
      ],
      "metadata": {
        "colab": {
          "base_uri": "https://localhost:8080/",
          "height": 508
        },
        "id": "CA-UrqeFZ6aR",
        "outputId": "f9fc085d-f982-46bb-b56f-26bc14e0eb1e"
      },
      "execution_count": 7,
      "outputs": [
        {
          "output_type": "execute_result",
          "data": {
            "text/plain": [
              "                    id      conversation_id               created_at  \\\n",
              "0  1349506509101699074  1349266633559212034  2021-01-13 23:59:59 UTC   \n",
              "1  1349506443485986818  1349502836510363649  2021-01-13 23:59:43 UTC   \n",
              "2  1349505689761296385  1349505689761296385  2021-01-13 23:56:43 UTC   \n",
              "3  1349505238319853568  1349155995079962624  2021-01-13 23:54:56 UTC   \n",
              "4  1349505076000276481  1349505076000276481  2021-01-13 23:54:17 UTC   \n",
              "\n",
              "         date      time  timezone              user_id       username  \\\n",
              "0  2021-01-13  23:59:59         0             84247699   arifbsantoso   \n",
              "1  2021-01-13  23:59:43         0  1347404515243220992     1975ichwan   \n",
              "2  2021-01-13  23:56:43         0             71995583     heriwebcom   \n",
              "3  2021-01-13  23:54:56         0  1338904702751133696       izal_hmn   \n",
              "4  2021-01-13  23:54:17         0           1290987798  tsalisrosyadi   \n",
              "\n",
              "             name  place  ... geo source user_rt_id user_rt retweet_id  \\\n",
              "0  arif b santoso    NaN  ... NaN    NaN        NaN     NaN        NaN   \n",
              "1    @ichwan_1975    NaN  ... NaN    NaN        NaN     NaN        NaN   \n",
              "2         Heriweb    NaN  ... NaN    NaN        NaN     NaN        NaN   \n",
              "3            izal    NaN  ... NaN    NaN        NaN     NaN        NaN   \n",
              "4  Tsalis Rosyadi    NaN  ... NaN    NaN        NaN     NaN        NaN   \n",
              "\n",
              "                                            reply_to  retweet_date  translate  \\\n",
              "0  [{'screen_name': 'Pipelpawer165', 'name': 'My ...           NaN        NaN   \n",
              "1  [{'screen_name': 'Namaku_Mei', 'name': '❤࿐ཽ༵რє...           NaN        NaN   \n",
              "2                                                 []           NaN        NaN   \n",
              "3  [{'screen_name': 'jcowacko', 'name': 'dr. Jaka...           NaN        NaN   \n",
              "4                                                 []           NaN        NaN   \n",
              "\n",
              "  trans_src trans_dest  \n",
              "0       NaN        NaN  \n",
              "1       NaN        NaN  \n",
              "2       NaN        NaN  \n",
              "3       NaN        NaN  \n",
              "4       NaN        NaN  \n",
              "\n",
              "[5 rows x 36 columns]"
            ],
            "text/html": [
              "\n",
              "  <div id=\"df-284d314d-4be2-49ae-b6df-432a31b9548d\">\n",
              "    <div class=\"colab-df-container\">\n",
              "      <div>\n",
              "<style scoped>\n",
              "    .dataframe tbody tr th:only-of-type {\n",
              "        vertical-align: middle;\n",
              "    }\n",
              "\n",
              "    .dataframe tbody tr th {\n",
              "        vertical-align: top;\n",
              "    }\n",
              "\n",
              "    .dataframe thead th {\n",
              "        text-align: right;\n",
              "    }\n",
              "</style>\n",
              "<table border=\"1\" class=\"dataframe\">\n",
              "  <thead>\n",
              "    <tr style=\"text-align: right;\">\n",
              "      <th></th>\n",
              "      <th>id</th>\n",
              "      <th>conversation_id</th>\n",
              "      <th>created_at</th>\n",
              "      <th>date</th>\n",
              "      <th>time</th>\n",
              "      <th>timezone</th>\n",
              "      <th>user_id</th>\n",
              "      <th>username</th>\n",
              "      <th>name</th>\n",
              "      <th>place</th>\n",
              "      <th>...</th>\n",
              "      <th>geo</th>\n",
              "      <th>source</th>\n",
              "      <th>user_rt_id</th>\n",
              "      <th>user_rt</th>\n",
              "      <th>retweet_id</th>\n",
              "      <th>reply_to</th>\n",
              "      <th>retweet_date</th>\n",
              "      <th>translate</th>\n",
              "      <th>trans_src</th>\n",
              "      <th>trans_dest</th>\n",
              "    </tr>\n",
              "  </thead>\n",
              "  <tbody>\n",
              "    <tr>\n",
              "      <th>0</th>\n",
              "      <td>1349506509101699074</td>\n",
              "      <td>1349266633559212034</td>\n",
              "      <td>2021-01-13 23:59:59 UTC</td>\n",
              "      <td>2021-01-13</td>\n",
              "      <td>23:59:59</td>\n",
              "      <td>0</td>\n",
              "      <td>84247699</td>\n",
              "      <td>arifbsantoso</td>\n",
              "      <td>arif b santoso</td>\n",
              "      <td>NaN</td>\n",
              "      <td>...</td>\n",
              "      <td>NaN</td>\n",
              "      <td>NaN</td>\n",
              "      <td>NaN</td>\n",
              "      <td>NaN</td>\n",
              "      <td>NaN</td>\n",
              "      <td>[{'screen_name': 'Pipelpawer165', 'name': 'My ...</td>\n",
              "      <td>NaN</td>\n",
              "      <td>NaN</td>\n",
              "      <td>NaN</td>\n",
              "      <td>NaN</td>\n",
              "    </tr>\n",
              "    <tr>\n",
              "      <th>1</th>\n",
              "      <td>1349506443485986818</td>\n",
              "      <td>1349502836510363649</td>\n",
              "      <td>2021-01-13 23:59:43 UTC</td>\n",
              "      <td>2021-01-13</td>\n",
              "      <td>23:59:43</td>\n",
              "      <td>0</td>\n",
              "      <td>1347404515243220992</td>\n",
              "      <td>1975ichwan</td>\n",
              "      <td>@ichwan_1975</td>\n",
              "      <td>NaN</td>\n",
              "      <td>...</td>\n",
              "      <td>NaN</td>\n",
              "      <td>NaN</td>\n",
              "      <td>NaN</td>\n",
              "      <td>NaN</td>\n",
              "      <td>NaN</td>\n",
              "      <td>[{'screen_name': 'Namaku_Mei', 'name': '❤࿐ཽ༵რє...</td>\n",
              "      <td>NaN</td>\n",
              "      <td>NaN</td>\n",
              "      <td>NaN</td>\n",
              "      <td>NaN</td>\n",
              "    </tr>\n",
              "    <tr>\n",
              "      <th>2</th>\n",
              "      <td>1349505689761296385</td>\n",
              "      <td>1349505689761296385</td>\n",
              "      <td>2021-01-13 23:56:43 UTC</td>\n",
              "      <td>2021-01-13</td>\n",
              "      <td>23:56:43</td>\n",
              "      <td>0</td>\n",
              "      <td>71995583</td>\n",
              "      <td>heriwebcom</td>\n",
              "      <td>Heriweb</td>\n",
              "      <td>NaN</td>\n",
              "      <td>...</td>\n",
              "      <td>NaN</td>\n",
              "      <td>NaN</td>\n",
              "      <td>NaN</td>\n",
              "      <td>NaN</td>\n",
              "      <td>NaN</td>\n",
              "      <td>[]</td>\n",
              "      <td>NaN</td>\n",
              "      <td>NaN</td>\n",
              "      <td>NaN</td>\n",
              "      <td>NaN</td>\n",
              "    </tr>\n",
              "    <tr>\n",
              "      <th>3</th>\n",
              "      <td>1349505238319853568</td>\n",
              "      <td>1349155995079962624</td>\n",
              "      <td>2021-01-13 23:54:56 UTC</td>\n",
              "      <td>2021-01-13</td>\n",
              "      <td>23:54:56</td>\n",
              "      <td>0</td>\n",
              "      <td>1338904702751133696</td>\n",
              "      <td>izal_hmn</td>\n",
              "      <td>izal</td>\n",
              "      <td>NaN</td>\n",
              "      <td>...</td>\n",
              "      <td>NaN</td>\n",
              "      <td>NaN</td>\n",
              "      <td>NaN</td>\n",
              "      <td>NaN</td>\n",
              "      <td>NaN</td>\n",
              "      <td>[{'screen_name': 'jcowacko', 'name': 'dr. Jaka...</td>\n",
              "      <td>NaN</td>\n",
              "      <td>NaN</td>\n",
              "      <td>NaN</td>\n",
              "      <td>NaN</td>\n",
              "    </tr>\n",
              "    <tr>\n",
              "      <th>4</th>\n",
              "      <td>1349505076000276481</td>\n",
              "      <td>1349505076000276481</td>\n",
              "      <td>2021-01-13 23:54:17 UTC</td>\n",
              "      <td>2021-01-13</td>\n",
              "      <td>23:54:17</td>\n",
              "      <td>0</td>\n",
              "      <td>1290987798</td>\n",
              "      <td>tsalisrosyadi</td>\n",
              "      <td>Tsalis Rosyadi</td>\n",
              "      <td>NaN</td>\n",
              "      <td>...</td>\n",
              "      <td>NaN</td>\n",
              "      <td>NaN</td>\n",
              "      <td>NaN</td>\n",
              "      <td>NaN</td>\n",
              "      <td>NaN</td>\n",
              "      <td>[]</td>\n",
              "      <td>NaN</td>\n",
              "      <td>NaN</td>\n",
              "      <td>NaN</td>\n",
              "      <td>NaN</td>\n",
              "    </tr>\n",
              "  </tbody>\n",
              "</table>\n",
              "<p>5 rows × 36 columns</p>\n",
              "</div>\n",
              "      <button class=\"colab-df-convert\" onclick=\"convertToInteractive('df-284d314d-4be2-49ae-b6df-432a31b9548d')\"\n",
              "              title=\"Convert this dataframe to an interactive table.\"\n",
              "              style=\"display:none;\">\n",
              "        \n",
              "  <svg xmlns=\"http://www.w3.org/2000/svg\" height=\"24px\"viewBox=\"0 0 24 24\"\n",
              "       width=\"24px\">\n",
              "    <path d=\"M0 0h24v24H0V0z\" fill=\"none\"/>\n",
              "    <path d=\"M18.56 5.44l.94 2.06.94-2.06 2.06-.94-2.06-.94-.94-2.06-.94 2.06-2.06.94zm-11 1L8.5 8.5l.94-2.06 2.06-.94-2.06-.94L8.5 2.5l-.94 2.06-2.06.94zm10 10l.94 2.06.94-2.06 2.06-.94-2.06-.94-.94-2.06-.94 2.06-2.06.94z\"/><path d=\"M17.41 7.96l-1.37-1.37c-.4-.4-.92-.59-1.43-.59-.52 0-1.04.2-1.43.59L10.3 9.45l-7.72 7.72c-.78.78-.78 2.05 0 2.83L4 21.41c.39.39.9.59 1.41.59.51 0 1.02-.2 1.41-.59l7.78-7.78 2.81-2.81c.8-.78.8-2.07 0-2.86zM5.41 20L4 18.59l7.72-7.72 1.47 1.35L5.41 20z\"/>\n",
              "  </svg>\n",
              "      </button>\n",
              "      \n",
              "  <style>\n",
              "    .colab-df-container {\n",
              "      display:flex;\n",
              "      flex-wrap:wrap;\n",
              "      gap: 12px;\n",
              "    }\n",
              "\n",
              "    .colab-df-convert {\n",
              "      background-color: #E8F0FE;\n",
              "      border: none;\n",
              "      border-radius: 50%;\n",
              "      cursor: pointer;\n",
              "      display: none;\n",
              "      fill: #1967D2;\n",
              "      height: 32px;\n",
              "      padding: 0 0 0 0;\n",
              "      width: 32px;\n",
              "    }\n",
              "\n",
              "    .colab-df-convert:hover {\n",
              "      background-color: #E2EBFA;\n",
              "      box-shadow: 0px 1px 2px rgba(60, 64, 67, 0.3), 0px 1px 3px 1px rgba(60, 64, 67, 0.15);\n",
              "      fill: #174EA6;\n",
              "    }\n",
              "\n",
              "    [theme=dark] .colab-df-convert {\n",
              "      background-color: #3B4455;\n",
              "      fill: #D2E3FC;\n",
              "    }\n",
              "\n",
              "    [theme=dark] .colab-df-convert:hover {\n",
              "      background-color: #434B5C;\n",
              "      box-shadow: 0px 1px 3px 1px rgba(0, 0, 0, 0.15);\n",
              "      filter: drop-shadow(0px 1px 2px rgba(0, 0, 0, 0.3));\n",
              "      fill: #FFFFFF;\n",
              "    }\n",
              "  </style>\n",
              "\n",
              "      <script>\n",
              "        const buttonEl =\n",
              "          document.querySelector('#df-284d314d-4be2-49ae-b6df-432a31b9548d button.colab-df-convert');\n",
              "        buttonEl.style.display =\n",
              "          google.colab.kernel.accessAllowed ? 'block' : 'none';\n",
              "\n",
              "        async function convertToInteractive(key) {\n",
              "          const element = document.querySelector('#df-284d314d-4be2-49ae-b6df-432a31b9548d');\n",
              "          const dataTable =\n",
              "            await google.colab.kernel.invokeFunction('convertToInteractive',\n",
              "                                                     [key], {});\n",
              "          if (!dataTable) return;\n",
              "\n",
              "          const docLinkHtml = 'Like what you see? Visit the ' +\n",
              "            '<a target=\"_blank\" href=https://colab.research.google.com/notebooks/data_table.ipynb>data table notebook</a>'\n",
              "            + ' to learn more about interactive tables.';\n",
              "          element.innerHTML = '';\n",
              "          dataTable['output_type'] = 'display_data';\n",
              "          await google.colab.output.renderOutput(dataTable, element);\n",
              "          const docLink = document.createElement('div');\n",
              "          docLink.innerHTML = docLinkHtml;\n",
              "          element.appendChild(docLink);\n",
              "        }\n",
              "      </script>\n",
              "    </div>\n",
              "  </div>\n",
              "  "
            ]
          },
          "metadata": {},
          "execution_count": 7
        }
      ]
    },
    {
      "cell_type": "code",
      "source": [
        "textTW.shape"
      ],
      "metadata": {
        "colab": {
          "base_uri": "https://localhost:8080/"
        },
        "id": "XMDJd_-XbuUP",
        "outputId": "bf31cc21-4555-42f8-fee5-0fbb4dccd89e"
      },
      "execution_count": 8,
      "outputs": [
        {
          "output_type": "execute_result",
          "data": {
            "text/plain": [
              "(1797, 36)"
            ]
          },
          "metadata": {},
          "execution_count": 8
        }
      ]
    },
    {
      "cell_type": "code",
      "source": [
        "textTW.info()"
      ],
      "metadata": {
        "colab": {
          "base_uri": "https://localhost:8080/"
        },
        "id": "WKxwTv56aYJF",
        "outputId": "1363b7c9-7b9b-45b0-f28b-29703e3f4c4e"
      },
      "execution_count": 9,
      "outputs": [
        {
          "output_type": "stream",
          "name": "stdout",
          "text": [
            "<class 'pandas.core.frame.DataFrame'>\n",
            "RangeIndex: 1797 entries, 0 to 1796\n",
            "Data columns (total 36 columns):\n",
            " #   Column           Non-Null Count  Dtype  \n",
            "---  ------           --------------  -----  \n",
            " 0   id               1797 non-null   int64  \n",
            " 1   conversation_id  1797 non-null   int64  \n",
            " 2   created_at       1797 non-null   object \n",
            " 3   date             1797 non-null   object \n",
            " 4   time             1797 non-null   object \n",
            " 5   timezone         1797 non-null   int64  \n",
            " 6   user_id          1797 non-null   int64  \n",
            " 7   username         1797 non-null   object \n",
            " 8   name             1797 non-null   object \n",
            " 9   place            0 non-null      float64\n",
            " 10  tweet            1797 non-null   object \n",
            " 11  language         1797 non-null   object \n",
            " 12  mentions         1797 non-null   object \n",
            " 13  urls             1797 non-null   object \n",
            " 14  photos           1797 non-null   object \n",
            " 15  replies_count    1797 non-null   int64  \n",
            " 16  retweets_count   1797 non-null   int64  \n",
            " 17  likes_count      1797 non-null   int64  \n",
            " 18  hashtags         1797 non-null   object \n",
            " 19  cashtags         1797 non-null   object \n",
            " 20  link             1797 non-null   object \n",
            " 21  retweet          1797 non-null   bool   \n",
            " 22  quote_url        176 non-null    object \n",
            " 23  video            1797 non-null   int64  \n",
            " 24  thumbnail        196 non-null    object \n",
            " 25  near             0 non-null      float64\n",
            " 26  geo              0 non-null      float64\n",
            " 27  source           0 non-null      float64\n",
            " 28  user_rt_id       0 non-null      float64\n",
            " 29  user_rt          0 non-null      float64\n",
            " 30  retweet_id       0 non-null      float64\n",
            " 31  reply_to         1797 non-null   object \n",
            " 32  retweet_date     0 non-null      float64\n",
            " 33  translate        0 non-null      float64\n",
            " 34  trans_src        0 non-null      float64\n",
            " 35  trans_dest       0 non-null      float64\n",
            "dtypes: bool(1), float64(11), int64(8), object(16)\n",
            "memory usage: 493.2+ KB\n"
          ]
        }
      ]
    },
    {
      "cell_type": "code",
      "source": [
        "# Print out the first rows of papers\n",
        "textTW = textTW[['tweet']]\n",
        "textTW['index'] = textTW.index\n",
        "documents = textTW\n",
        "\n",
        "textTW['index'] = textTW.index"
      ],
      "metadata": {
        "colab": {
          "base_uri": "https://localhost:8080/"
        },
        "id": "GLPZ66Qib0_b",
        "outputId": "46bd4a9c-1e05-46c4-f5ae-a946b3d29a7b"
      },
      "execution_count": 10,
      "outputs": [
        {
          "output_type": "stream",
          "name": "stderr",
          "text": [
            "<ipython-input-10-59cac42269a7>:3: SettingWithCopyWarning: \n",
            "A value is trying to be set on a copy of a slice from a DataFrame.\n",
            "Try using .loc[row_indexer,col_indexer] = value instead\n",
            "\n",
            "See the caveats in the documentation: https://pandas.pydata.org/pandas-docs/stable/user_guide/indexing.html#returning-a-view-versus-a-copy\n",
            "  textTW['index'] = textTW.index\n",
            "<ipython-input-10-59cac42269a7>:6: SettingWithCopyWarning: \n",
            "A value is trying to be set on a copy of a slice from a DataFrame.\n",
            "Try using .loc[row_indexer,col_indexer] = value instead\n",
            "\n",
            "See the caveats in the documentation: https://pandas.pydata.org/pandas-docs/stable/user_guide/indexing.html#returning-a-view-versus-a-copy\n",
            "  textTW['index'] = textTW.index\n"
          ]
        }
      ]
    },
    {
      "cell_type": "code",
      "source": [
        "textTW.head(5)"
      ],
      "metadata": {
        "colab": {
          "base_uri": "https://localhost:8080/",
          "height": 206
        },
        "id": "re_L4TwMcdTe",
        "outputId": "9b3f82ce-633e-42c3-b625-5815ba0002d8"
      },
      "execution_count": 11,
      "outputs": [
        {
          "output_type": "execute_result",
          "data": {
            "text/plain": [
              "                                               tweet  index\n",
              "0  @Laudate_Dom @Pipelpawer165 @dayatia Beliau da...      0\n",
              "1  @Namaku_Mei Secara pribadi saya mengakui mayor...      1\n",
              "2  Anggota DPR RI Menolak Disuntik Vaksin, Dinkes...      2\n",
              "3  @jcowacko Komisi 9 aja menolak untuk di vaksin...      3\n",
              "4  Orang yg menolak vaksin dan susah diajak proto...      4"
            ],
            "text/html": [
              "\n",
              "  <div id=\"df-d98bc5ef-9b6a-4276-a940-06023c92c984\">\n",
              "    <div class=\"colab-df-container\">\n",
              "      <div>\n",
              "<style scoped>\n",
              "    .dataframe tbody tr th:only-of-type {\n",
              "        vertical-align: middle;\n",
              "    }\n",
              "\n",
              "    .dataframe tbody tr th {\n",
              "        vertical-align: top;\n",
              "    }\n",
              "\n",
              "    .dataframe thead th {\n",
              "        text-align: right;\n",
              "    }\n",
              "</style>\n",
              "<table border=\"1\" class=\"dataframe\">\n",
              "  <thead>\n",
              "    <tr style=\"text-align: right;\">\n",
              "      <th></th>\n",
              "      <th>tweet</th>\n",
              "      <th>index</th>\n",
              "    </tr>\n",
              "  </thead>\n",
              "  <tbody>\n",
              "    <tr>\n",
              "      <th>0</th>\n",
              "      <td>@Laudate_Dom @Pipelpawer165 @dayatia Beliau da...</td>\n",
              "      <td>0</td>\n",
              "    </tr>\n",
              "    <tr>\n",
              "      <th>1</th>\n",
              "      <td>@Namaku_Mei Secara pribadi saya mengakui mayor...</td>\n",
              "      <td>1</td>\n",
              "    </tr>\n",
              "    <tr>\n",
              "      <th>2</th>\n",
              "      <td>Anggota DPR RI Menolak Disuntik Vaksin, Dinkes...</td>\n",
              "      <td>2</td>\n",
              "    </tr>\n",
              "    <tr>\n",
              "      <th>3</th>\n",
              "      <td>@jcowacko Komisi 9 aja menolak untuk di vaksin...</td>\n",
              "      <td>3</td>\n",
              "    </tr>\n",
              "    <tr>\n",
              "      <th>4</th>\n",
              "      <td>Orang yg menolak vaksin dan susah diajak proto...</td>\n",
              "      <td>4</td>\n",
              "    </tr>\n",
              "  </tbody>\n",
              "</table>\n",
              "</div>\n",
              "      <button class=\"colab-df-convert\" onclick=\"convertToInteractive('df-d98bc5ef-9b6a-4276-a940-06023c92c984')\"\n",
              "              title=\"Convert this dataframe to an interactive table.\"\n",
              "              style=\"display:none;\">\n",
              "        \n",
              "  <svg xmlns=\"http://www.w3.org/2000/svg\" height=\"24px\"viewBox=\"0 0 24 24\"\n",
              "       width=\"24px\">\n",
              "    <path d=\"M0 0h24v24H0V0z\" fill=\"none\"/>\n",
              "    <path d=\"M18.56 5.44l.94 2.06.94-2.06 2.06-.94-2.06-.94-.94-2.06-.94 2.06-2.06.94zm-11 1L8.5 8.5l.94-2.06 2.06-.94-2.06-.94L8.5 2.5l-.94 2.06-2.06.94zm10 10l.94 2.06.94-2.06 2.06-.94-2.06-.94-.94-2.06-.94 2.06-2.06.94z\"/><path d=\"M17.41 7.96l-1.37-1.37c-.4-.4-.92-.59-1.43-.59-.52 0-1.04.2-1.43.59L10.3 9.45l-7.72 7.72c-.78.78-.78 2.05 0 2.83L4 21.41c.39.39.9.59 1.41.59.51 0 1.02-.2 1.41-.59l7.78-7.78 2.81-2.81c.8-.78.8-2.07 0-2.86zM5.41 20L4 18.59l7.72-7.72 1.47 1.35L5.41 20z\"/>\n",
              "  </svg>\n",
              "      </button>\n",
              "      \n",
              "  <style>\n",
              "    .colab-df-container {\n",
              "      display:flex;\n",
              "      flex-wrap:wrap;\n",
              "      gap: 12px;\n",
              "    }\n",
              "\n",
              "    .colab-df-convert {\n",
              "      background-color: #E8F0FE;\n",
              "      border: none;\n",
              "      border-radius: 50%;\n",
              "      cursor: pointer;\n",
              "      display: none;\n",
              "      fill: #1967D2;\n",
              "      height: 32px;\n",
              "      padding: 0 0 0 0;\n",
              "      width: 32px;\n",
              "    }\n",
              "\n",
              "    .colab-df-convert:hover {\n",
              "      background-color: #E2EBFA;\n",
              "      box-shadow: 0px 1px 2px rgba(60, 64, 67, 0.3), 0px 1px 3px 1px rgba(60, 64, 67, 0.15);\n",
              "      fill: #174EA6;\n",
              "    }\n",
              "\n",
              "    [theme=dark] .colab-df-convert {\n",
              "      background-color: #3B4455;\n",
              "      fill: #D2E3FC;\n",
              "    }\n",
              "\n",
              "    [theme=dark] .colab-df-convert:hover {\n",
              "      background-color: #434B5C;\n",
              "      box-shadow: 0px 1px 3px 1px rgba(0, 0, 0, 0.15);\n",
              "      filter: drop-shadow(0px 1px 2px rgba(0, 0, 0, 0.3));\n",
              "      fill: #FFFFFF;\n",
              "    }\n",
              "  </style>\n",
              "\n",
              "      <script>\n",
              "        const buttonEl =\n",
              "          document.querySelector('#df-d98bc5ef-9b6a-4276-a940-06023c92c984 button.colab-df-convert');\n",
              "        buttonEl.style.display =\n",
              "          google.colab.kernel.accessAllowed ? 'block' : 'none';\n",
              "\n",
              "        async function convertToInteractive(key) {\n",
              "          const element = document.querySelector('#df-d98bc5ef-9b6a-4276-a940-06023c92c984');\n",
              "          const dataTable =\n",
              "            await google.colab.kernel.invokeFunction('convertToInteractive',\n",
              "                                                     [key], {});\n",
              "          if (!dataTable) return;\n",
              "\n",
              "          const docLinkHtml = 'Like what you see? Visit the ' +\n",
              "            '<a target=\"_blank\" href=https://colab.research.google.com/notebooks/data_table.ipynb>data table notebook</a>'\n",
              "            + ' to learn more about interactive tables.';\n",
              "          element.innerHTML = '';\n",
              "          dataTable['output_type'] = 'display_data';\n",
              "          await google.colab.output.renderOutput(dataTable, element);\n",
              "          const docLink = document.createElement('div');\n",
              "          docLink.innerHTML = docLinkHtml;\n",
              "          element.appendChild(docLink);\n",
              "        }\n",
              "      </script>\n",
              "    </div>\n",
              "  </div>\n",
              "  "
            ]
          },
          "metadata": {},
          "execution_count": 11
        }
      ]
    },
    {
      "cell_type": "markdown",
      "source": [
        "Case Folding"
      ],
      "metadata": {
        "id": "mdmyP-4LeFpU"
      }
    },
    {
      "cell_type": "code",
      "source": [
        "# ------ Case Folding --------\n",
        "# gunakan fungsi Series.str.lower() pada Pandas\n",
        "\n",
        "textTW['tweet'] = textTW['tweet'].str.lower()\n",
        "\n",
        "print('Case Folding Result : \\n')\n",
        "print(textTW['tweet'].head(5))"
      ],
      "metadata": {
        "colab": {
          "base_uri": "https://localhost:8080/"
        },
        "id": "QHzKWERscgtn",
        "outputId": "cb27b64f-0294-4a6c-b581-1252a74662fc"
      },
      "execution_count": 12,
      "outputs": [
        {
          "output_type": "stream",
          "name": "stdout",
          "text": [
            "Case Folding Result : \n",
            "\n",
            "0    @laudate_dom @pipelpawer165 @dayatia beliau da...\n",
            "1    @namaku_mei secara pribadi saya mengakui mayor...\n",
            "2    anggota dpr ri menolak disuntik vaksin, dinkes...\n",
            "3    @jcowacko komisi 9 aja menolak untuk di vaksin...\n",
            "4    orang yg menolak vaksin dan susah diajak proto...\n",
            "Name: tweet, dtype: object\n"
          ]
        }
      ]
    },
    {
      "cell_type": "markdown",
      "source": [
        "#Tokenizing"
      ],
      "metadata": {
        "id": "JWmnLoMoeSG8"
      }
    },
    {
      "cell_type": "code",
      "source": [
        "import nltk\n",
        "import string \n",
        "import re #regex library\n",
        "\n",
        "# import word_tokenize & FreqDist from NLTK\n",
        "from nltk.tokenize import word_tokenize \n",
        "from nltk.probability import FreqDist"
      ],
      "metadata": {
        "id": "mSKZcZAMeQ64"
      },
      "execution_count": 13,
      "outputs": []
    },
    {
      "cell_type": "code",
      "source": [
        "# ------ Tokenizing ---------\n",
        "\n",
        "nltk.download('punkt')\n",
        "\n",
        "def remove_tweet_special(text):\n",
        "    # remove tab, new line, ans back slice\n",
        "    text = text.replace('\\\\t',\" \").replace('\\\\n',\" \").replace('\\\\u',\" \").replace('\\\\',\"\")\n",
        "    # remove non ASCII (emoticon, chinese word, .etc)\n",
        "    text = text.encode('ascii', 'replace').decode('ascii')\n",
        "    # remove mention, link, hashtag\n",
        "    text = ' '.join(re.sub(\"([@#][A-Za-z0-9]+)|(\\w+:\\/\\/\\S+)\",\" \", text).split())\n",
        "    # remove incomplete URL\n",
        "    return text.replace(\"http://\", \" \").replace(\"https://\", \" \")\n",
        "                \n",
        "textTW['tweet'] = textTW['tweet'].apply(remove_tweet_special)\n",
        "\n",
        "#remove number\n",
        "def remove_number(text):\n",
        "    return  re.sub(r\"\\d+\", \"\", text)\n",
        "\n",
        "textTW['tweet'] = textTW['tweet'].apply(remove_number)\n",
        "\n",
        "#remove punctuation\n",
        "def remove_punctuation(text):\n",
        "    return text.translate(str.maketrans(\"\",\"\",string.punctuation))\n",
        "\n",
        "textTW['tweet'] = textTW['tweet'].apply(remove_punctuation)\n",
        "\n",
        "#remove whitespace leading & trailing\n",
        "def remove_whitespace_LT(text):\n",
        "    return text.strip()\n",
        "\n",
        "textTW['tweet'] = textTW['tweet'].apply(remove_whitespace_LT)\n",
        "\n",
        "#remove multiple whitespace into single whitespace\n",
        "def remove_whitespace_multiple(text):\n",
        "    return re.sub('\\s+',' ',text)\n",
        "\n",
        "textTW['tweet'] = textTW['tweet'].apply(remove_whitespace_multiple)\n",
        "\n",
        "# remove single char\n",
        "def remove_singl_char(text):\n",
        "    return re.sub(r\"\\b[a-zA-Z]\\b\", \"\", text)\n",
        "\n",
        "textTW['tweet'] = textTW['tweet'].apply(remove_singl_char)\n",
        "\n",
        "# NLTK word tokenize \n",
        "def word_tokenize_wrapper(text):\n",
        "    return word_tokenize(text)\n",
        "\n",
        "textTW['tweet_tokens'] = textTW['tweet'].apply(word_tokenize_wrapper)\n",
        "\n",
        "print('Tokenizing Result : \\n') \n",
        "print(textTW['tweet_tokens'].head())"
      ],
      "metadata": {
        "colab": {
          "base_uri": "https://localhost:8080/"
        },
        "id": "OKc1PmSqkyKU",
        "outputId": "dcb44f05-74be-4015-85d9-e47ed0c45529"
      },
      "execution_count": 14,
      "outputs": [
        {
          "output_type": "stream",
          "name": "stderr",
          "text": [
            "[nltk_data] Downloading package punkt to /root/nltk_data...\n",
            "[nltk_data]   Unzipping tokenizers/punkt.zip.\n"
          ]
        },
        {
          "output_type": "stream",
          "name": "stdout",
          "text": [
            "Tokenizing Result : \n",
            "\n",
            "0    [dom, beliau, dan, dr, agni, serta, semua, yan...\n",
            "1    [mei, secara, pribadi, saya, mengakui, mayorit...\n",
            "2    [anggota, dpr, ri, menolak, disuntik, vaksin, ...\n",
            "3    [komisi, aja, menolak, untuk, di, vaksinkatany...\n",
            "4    [orang, yg, menolak, vaksin, dan, susah, diaja...\n",
            "Name: tweet_tokens, dtype: object\n"
          ]
        }
      ]
    },
    {
      "cell_type": "markdown",
      "source": [
        "frequency distribution"
      ],
      "metadata": {
        "id": "EhZIzTuflIFq"
      }
    },
    {
      "cell_type": "code",
      "source": [
        "# NLTK calc \n",
        "def freqDist_wrapper(text):\n",
        "    return FreqDist(text)\n",
        "\n",
        "textTW['tweet_tokens_fdist'] = textTW['tweet_tokens'].apply(freqDist_wrapper)\n",
        "\n",
        "\n",
        "print('Frequency Tokens : \\n') \n",
        "print(textTW['tweet_tokens_fdist'].head().apply(lambda x : x.most_common()))"
      ],
      "metadata": {
        "colab": {
          "base_uri": "https://localhost:8080/"
        },
        "id": "g4pS__9RlEhk",
        "outputId": "d2903c02-dbed-43a1-acd2-98494990809b"
      },
      "execution_count": 15,
      "outputs": [
        {
          "output_type": "stream",
          "name": "stdout",
          "text": [
            "Frequency Tokens : \n",
            "\n",
            "0    [(kami, 3), (dan, 2), (yang, 2), (tidak, 2), (...\n",
            "1    [(itu, 3), (saya, 2), (vaksin, 2), (mei, 1), (...\n",
            "2    [(anggota, 1), (dpr, 1), (ri, 1), (menolak, 1)...\n",
            "3    [(di, 3), (komisi, 1), (aja, 1), (menolak, 1),...\n",
            "4    [(dan, 2), (orang, 1), (yg, 1), (menolak, 1), ...\n",
            "Name: tweet_tokens_fdist, dtype: object\n"
          ]
        }
      ]
    },
    {
      "cell_type": "markdown",
      "source": [
        "#Stoprwords"
      ],
      "metadata": {
        "id": "qASE3YMClODL"
      }
    },
    {
      "cell_type": "code",
      "source": [
        "nltk.download('stopwords')"
      ],
      "metadata": {
        "colab": {
          "base_uri": "https://localhost:8080/"
        },
        "id": "2NQonWWalRko",
        "outputId": "31f83d15-22c4-4764-dc43-018045cb82ee"
      },
      "execution_count": 16,
      "outputs": [
        {
          "output_type": "stream",
          "name": "stderr",
          "text": [
            "[nltk_data] Downloading package stopwords to /root/nltk_data...\n",
            "[nltk_data]   Unzipping corpora/stopwords.zip.\n"
          ]
        },
        {
          "output_type": "execute_result",
          "data": {
            "text/plain": [
              "True"
            ]
          },
          "metadata": {},
          "execution_count": 16
        }
      ]
    },
    {
      "cell_type": "code",
      "source": [
        "from nltk.corpus import stopwords\n",
        "\n",
        "# ----------------------- get stopword from NLTK stopword -------------------------------\n",
        "# get stopword indonesia\n",
        "list_stopwords = stopwords.words('indonesian')\n",
        "\n",
        "\n",
        "# ---------------------------- manualy add stopword  ------------------------------------\n",
        "# append additional stopword\n",
        "list_stopwords.extend(['yg', 'dg', 'rt', 'dgn', 'ny', 'd', 'klo','pas' \n",
        "                       'kalo', 'amp', 'biar', 'bikin', 'bilang', \n",
        "                       'gak', 'ga', 'krn', 'nya', 'nih', 'sih', \n",
        "                       'si', 'tau', 'tdk', 'tuh', 'utk', 'ya', \n",
        "                       'jd', 'jgn', 'sdh', 'aja', 'n', 't', 'twitter','https'\n",
        "                       'nyg', 'hehe', 'pen', 'u', 'nan', 'loh', 'rt',\n",
        "                       '&amp', 'yah', 'pd','gue', 'nggak','dong','tragedi','kanjuruhan'])\n",
        "\n",
        "# convert list to dictionary\n",
        "list_stopwords = set(list_stopwords)\n",
        "\n",
        "#remove stopword pada list token\n",
        "def stopwords_removal(words):\n",
        "    return [word for word in words if word not in list_stopwords]\n",
        "\n",
        "textTW['tweet_tokens_WSW'] = textTW['tweet_tokens'].apply(stopwords_removal) \n",
        "\n",
        "print(textTW['tweet_tokens_WSW'].head())"
      ],
      "metadata": {
        "colab": {
          "base_uri": "https://localhost:8080/"
        },
        "id": "rkyiaAZ4lqWa",
        "outputId": "1f3c9abf-13eb-4334-b71d-f7bdea9656aa"
      },
      "execution_count": 17,
      "outputs": [
        {
          "output_type": "stream",
          "name": "stdout",
          "text": [
            "0    [dom, beliau, dr, agni, heal, menolak, vaksin,...\n",
            "1    [mei, pribadi, mengakui, mayoritas, berfikir, ...\n",
            "2    [anggota, dpr, ri, menolak, disuntik, vaksin, ...\n",
            "3    [komisi, menolak, vaksinkatanya, paksa, hamdan...\n",
            "4    [orang, menolak, vaksin, susah, diajak, protok...\n",
            "Name: tweet_tokens_WSW, dtype: object\n"
          ]
        }
      ]
    },
    {
      "cell_type": "code",
      "source": [
        "textTW['tweet_tokens_WSW'].sample(5, random_state=123)"
      ],
      "metadata": {
        "colab": {
          "base_uri": "https://localhost:8080/"
        },
        "id": "qajjkvjs2O7A",
        "outputId": "30ff3ef8-adf1-41bd-9b92-8bc934df2f3b"
      },
      "execution_count": 18,
      "outputs": [
        {
          "output_type": "execute_result",
          "data": {
            "text/plain": [
              "708     [tumben, dukung, pemerintah, rame, rame, kader...\n",
              "1347    [kampanye, pilkada, pergi, liburan, makanmakan...\n",
              "270     [vaksin, memulihkan, indonesia, kemiskinan, pe...\n",
              "756     [prexxxxxx, org, sak, indonesia, raya, menolak...\n",
              "1564    [sekedar, ukonten, hiburan, pake, baju, seraga...\n",
              "Name: tweet_tokens_WSW, dtype: object"
            ]
          },
          "metadata": {},
          "execution_count": 18
        }
      ]
    },
    {
      "cell_type": "code",
      "source": [
        "!pip install --upgrade numpy interval"
      ],
      "metadata": {
        "colab": {
          "base_uri": "https://localhost:8080/"
        },
        "id": "E9Fzx9rDrT3l",
        "outputId": "f67baf74-511b-45e7-987d-9e83fa0f3832"
      },
      "execution_count": 20,
      "outputs": [
        {
          "output_type": "stream",
          "name": "stdout",
          "text": [
            "Looking in indexes: https://pypi.org/simple, https://us-python.pkg.dev/colab-wheels/public/simple/\n",
            "Requirement already satisfied: numpy in /usr/local/lib/python3.8/dist-packages (1.24.1)\n",
            "Requirement already satisfied: interval in /usr/local/lib/python3.8/dist-packages (1.0.0)\n"
          ]
        }
      ]
    },
    {
      "cell_type": "markdown",
      "source": [
        "#Normalisasi Text"
      ],
      "metadata": {
        "id": "aNsdQs9QmPuJ"
      }
    },
    {
      "cell_type": "code",
      "source": [
        "import pandas as pd\n",
        "\n",
        "read_file = pd.read_csv (r'/content/menolak-vaksin2-jan-tweet.csv')\n",
        "read_file.to_excel (r'/content/menolak-vaksin.xlsx', index = None, header=True)"
      ],
      "metadata": {
        "id": "ZNm9wXXbmSR4"
      },
      "execution_count": 21,
      "outputs": []
    },
    {
      "cell_type": "code",
      "source": [
        "normalizad_word = pd.read_excel('/content/menolak-vaksin.xlsx') #lokasi file\n",
        "\n",
        "normalizad_word_dict = {}\n",
        "\n",
        "for index, row in normalizad_word.iterrows():\n",
        "    if row[0] not in normalizad_word_dict:\n",
        "        normalizad_word_dict[row[0]] = row[1] \n",
        "\n",
        "def normalized_term(document):\n",
        "    return [normalizad_word_dict[term] if term in normalizad_word_dict else term for term in document]\n",
        "\n",
        "textTW['tweet_normalized'] = textTW['tweet_tokens_WSW'].apply(normalized_term)\n",
        "\n",
        "textTW['tweet_normalized'].head(10)"
      ],
      "metadata": {
        "colab": {
          "base_uri": "https://localhost:8080/"
        },
        "id": "TOZcOmLmmzoo",
        "outputId": "f7cd5e30-ec40-411c-aaba-58849222ba22"
      },
      "execution_count": 22,
      "outputs": [
        {
          "output_type": "execute_result",
          "data": {
            "text/plain": [
              "0    [dom, beliau, dr, agni, heal, menolak, vaksin,...\n",
              "1    [mei, pribadi, mengakui, mayoritas, berfikir, ...\n",
              "2    [anggota, dpr, ri, menolak, disuntik, vaksin, ...\n",
              "3    [komisi, menolak, vaksinkatanya, paksa, hamdan...\n",
              "4    [orang, menolak, vaksin, susah, diajak, protok...\n",
              "5         [ngak, menolak, vaksin, menolak, dikucilkan]\n",
              "6    [as, you, know, pemerintah, menolak, perusahaa...\n",
              "7                  [masyarakat, menolak, vaksin, hmmm]\n",
              "8      [vonis, denda, murah, ancaman, menolak, vaksin]\n",
              "9          [menolak, vaksin, menolak, jenis, vaksinya]\n",
              "Name: tweet_normalized, dtype: object"
            ]
          },
          "metadata": {},
          "execution_count": 22
        }
      ]
    },
    {
      "cell_type": "markdown",
      "source": [
        "#Stemming Text"
      ],
      "metadata": {
        "id": "r-x9qZganFcy"
      }
    },
    {
      "cell_type": "code",
      "source": [
        "# import Sastrawi package\n",
        "from Sastrawi.Stemmer.StemmerFactory import StemmerFactory\n",
        "import swifter\n",
        "\n",
        "# create stemmer\n",
        "factory = StemmerFactory()\n",
        "stemmer = factory.create_stemmer()\n",
        "\n",
        "# stemmed\n",
        "def stemmed_wrapper(term):\n",
        "    return stemmer.stem(term)\n",
        "\n",
        "term_dict = {}\n",
        "\n",
        "for document in textTW['tweet_normalized']:\n",
        "    for term in document:\n",
        "        if term not in term_dict:\n",
        "            term_dict[term] = ' '\n",
        "            \n",
        "print(len(term_dict))\n"
      ],
      "metadata": {
        "colab": {
          "base_uri": "https://localhost:8080/"
        },
        "id": "3BT4zpVTnHQb",
        "outputId": "b14c2684-e3f2-4d2d-a6b3-50577e62d90c"
      },
      "execution_count": 23,
      "outputs": [
        {
          "output_type": "stream",
          "name": "stdout",
          "text": [
            "6150\n"
          ]
        }
      ]
    },
    {
      "cell_type": "code",
      "source": [
        "for term in term_dict:\n",
        "    term_dict[term] = stemmed_wrapper(term)"
      ],
      "metadata": {
        "id": "FBoCu_NCnP8X"
      },
      "execution_count": 24,
      "outputs": []
    },
    {
      "cell_type": "code",
      "source": [
        "# apply stemmed term to dataframe\n",
        "def get_stemmed_term(document):\n",
        "    return [term_dict[term] for term in document]\n",
        "\n",
        "textTW['tweet_tokens_stemmed'] = textTW['tweet_normalized'].swifter.apply(get_stemmed_term)\n",
        "\n",
        "print(textTW['tweet_tokens_stemmed'])"
      ],
      "metadata": {
        "colab": {
          "base_uri": "https://localhost:8080/",
          "height": 257,
          "referenced_widgets": [
            "8347b0e4026442adb7bf405173297a3e",
            "8ca96c46cb71481e809c550c585ab0b9",
            "e84c81e8342542a58aa5c35d2b2d4274",
            "13a12844d9e14b459d04e3afd2b02107",
            "59a962c3a0e54dcca1ca0e2218f5db34",
            "8bbaaaa8ea404260a2623a3252a42896",
            "e415371cde964c73ba0390439bffe10d",
            "92f55ce31cbd406ba7d8cee1bd2b6ef3",
            "16a45f7d58594959b1fa1ab8ab663859",
            "bd3e6d5f8a534e6a8c2fecfef405d952",
            "17719011995043b3b46d8db58381d4f9"
          ]
        },
        "id": "lkK1j9-nnU7t",
        "outputId": "7d8d3b7e-db79-4b1f-a671-e50b8976748e"
      },
      "execution_count": 25,
      "outputs": [
        {
          "output_type": "display_data",
          "data": {
            "text/plain": [
              "Pandas Apply:   0%|          | 0/1797 [00:00<?, ?it/s]"
            ],
            "application/vnd.jupyter.widget-view+json": {
              "version_major": 2,
              "version_minor": 0,
              "model_id": "8347b0e4026442adb7bf405173297a3e"
            }
          },
          "metadata": {}
        },
        {
          "output_type": "stream",
          "name": "stdout",
          "text": [
            "0       [dom, beliau, dr, agni, heal, tolak, vaksin, m...\n",
            "1       [mei, pribadi, aku, mayoritas, berfikir, reali...\n",
            "2       [anggota, dpr, ri, tolak, suntik, vaksin, dink...\n",
            "3       [komisi, tolak, vaksinkatanya, paksa, hamdan, ...\n",
            "4       [orang, tolak, vaksin, susah, ajak, protokol, ...\n",
            "                              ...                        \n",
            "1792    [vaksin, lawan, virus, tubuh, sehat, tubuh, se...\n",
            "1793    [haram, gimana, antivaxxers, hak, asasi, tolak...\n",
            "1794    [warga, jakarta, tolak, vaksin, denda, juta, h...\n",
            "1795    [sanksi, pidana, tolak, vaksin, dudududu, syal...\n",
            "1796    [aktris, lauren, goodger, nyata, kontroversial...\n",
            "Name: tweet_tokens_stemmed, Length: 1797, dtype: object\n"
          ]
        }
      ]
    },
    {
      "cell_type": "markdown",
      "source": [
        "Stopword #2"
      ],
      "metadata": {
        "id": "bT7khY1J7YD_"
      }
    },
    {
      "cell_type": "code",
      "source": [
        "from nltk.corpus import stopwords\n",
        "\n",
        "# ----------------------- get stopword from NLTK stopword -------------------------------\n",
        "# get stopword indonesia\n",
        "list_stopwords = stopwords.words('indonesian')\n",
        "\n",
        "\n",
        "# ---------------------------- manualy add stopword  ------------------------------------\n",
        "# append additional stopword\n",
        "list_stopwords.extend([\"ada\", \"hmmm\",\"tumben\",\"liburan\",\"org\",\"ngak\",\"org\",\"sak\",\"pergi\",\n",
        "                       \"mei\",\"baju\",\"raya\",\"sekedar\",\"ukonten\",\"hiuran\",\"tumben\",\"rame\",\"dan\",\"di\"])\n",
        "\n",
        "# convert list to dictionary\n",
        "list_stopwords = set(list_stopwords)\n",
        "\n",
        "#remove stopword pada list token\n",
        "def stopwords_removal(words):\n",
        "    return [word for word in words if word not in list_stopwords]\n",
        "\n",
        "textTW['tweet_normalized'] = textTW['tweet_normalized'].apply(stopwords_removal) \n",
        "\n",
        "print(textTW['tweet_normalized'].head())"
      ],
      "metadata": {
        "colab": {
          "base_uri": "https://localhost:8080/"
        },
        "id": "Cl8UeTnu7QSH",
        "outputId": "b75c4ae7-a6ed-42e1-f1e3-80f5002c9eeb"
      },
      "execution_count": 28,
      "outputs": [
        {
          "output_type": "stream",
          "name": "stdout",
          "text": [
            "0    [dom, beliau, dr, agni, heal, menolak, vaksin,...\n",
            "1    [pribadi, mengakui, mayoritas, berfikir, reali...\n",
            "2    [anggota, dpr, ri, menolak, disuntik, vaksin, ...\n",
            "3    [komisi, menolak, vaksinkatanya, paksa, hamdan...\n",
            "4    [orang, menolak, vaksin, susah, diajak, protok...\n",
            "Name: tweet_normalized, dtype: object\n"
          ]
        }
      ]
    },
    {
      "cell_type": "code",
      "source": [
        "print(textTW['tweet_normalized'].head(100))"
      ],
      "metadata": {
        "colab": {
          "base_uri": "https://localhost:8080/"
        },
        "id": "uMoPTLBb9-jK",
        "outputId": "4716a92d-df9c-4c76-f69a-c9b7c173549e"
      },
      "execution_count": 29,
      "outputs": [
        {
          "output_type": "stream",
          "name": "stdout",
          "text": [
            "0     [dom, beliau, dr, agni, heal, menolak, vaksin,...\n",
            "1     [pribadi, mengakui, mayoritas, berfikir, reali...\n",
            "2     [anggota, dpr, ri, menolak, disuntik, vaksin, ...\n",
            "3     [komisi, menolak, vaksinkatanya, paksa, hamdan...\n",
            "4     [orang, menolak, vaksin, susah, diajak, protok...\n",
            "                            ...                        \n",
            "95    [menolak, disuntik, vaksin, terima, disuntik, ...\n",
            "96    [melolak, menghalangi, vaksinasi, kenakan, san...\n",
            "97    [madu, gk, butuh, tu, vaksin, warga, negara, d...\n",
            "98    [tu, kawan, sekolam, menolak, vaksin, gk, bera...\n",
            "99                    [vaksin, covid, manusia, menolak]\n",
            "Name: tweet_normalized, Length: 100, dtype: object\n"
          ]
        }
      ]
    },
    {
      "cell_type": "code",
      "source": [
        "for i in range(len(textTW)):\n",
        "        a=textTW.iloc[i][5]\n",
        "        document.append(a)\n",
        "        \n",
        "document[10]"
      ],
      "metadata": {
        "colab": {
          "base_uri": "https://localhost:8080/",
          "height": 35
        },
        "id": "sNw4xwxdoquy",
        "outputId": "80ef8a24-2d95-46f7-9d26-08f39fab7e15"
      },
      "execution_count": 30,
      "outputs": [
        {
          "output_type": "execute_result",
          "data": {
            "text/plain": [
              "'memilih'"
            ],
            "application/vnd.google.colaboratory.intrinsic+json": {
              "type": "string"
            }
          },
          "metadata": {},
          "execution_count": 30
        }
      ]
    },
    {
      "cell_type": "code",
      "source": [
        "doc_clean = textTW['tweet_tokens_stemmed']\n",
        "doc_clean"
      ],
      "metadata": {
        "colab": {
          "base_uri": "https://localhost:8080/"
        },
        "id": "_zWlnLL6oy6O",
        "outputId": "001994be-4b37-4acd-fb4f-c4095dc7edba"
      },
      "execution_count": 31,
      "outputs": [
        {
          "output_type": "execute_result",
          "data": {
            "text/plain": [
              "0       [dom, beliau, dr, agni, heal, tolak, vaksin, m...\n",
              "1       [mei, pribadi, aku, mayoritas, berfikir, reali...\n",
              "2       [anggota, dpr, ri, tolak, suntik, vaksin, dink...\n",
              "3       [komisi, tolak, vaksinkatanya, paksa, hamdan, ...\n",
              "4       [orang, tolak, vaksin, susah, ajak, protokol, ...\n",
              "                              ...                        \n",
              "1792    [vaksin, lawan, virus, tubuh, sehat, tubuh, se...\n",
              "1793    [haram, gimana, antivaxxers, hak, asasi, tolak...\n",
              "1794    [warga, jakarta, tolak, vaksin, denda, juta, h...\n",
              "1795    [sanksi, pidana, tolak, vaksin, dudududu, syal...\n",
              "1796    [aktris, lauren, goodger, nyata, kontroversial...\n",
              "Name: tweet_tokens_stemmed, Length: 1797, dtype: object"
            ]
          },
          "metadata": {},
          "execution_count": 31
        }
      ]
    },
    {
      "cell_type": "markdown",
      "source": [
        "#Text Labelling"
      ],
      "metadata": {
        "id": "zlTQI7YE1UEN"
      }
    },
    {
      "cell_type": "markdown",
      "source": [
        "#Ekstraksi Fitur"
      ],
      "metadata": {
        "id": "DWon6JPSx0EG"
      }
    },
    {
      "cell_type": "code",
      "source": [],
      "metadata": {
        "id": "itKq3Sooxxmy"
      },
      "execution_count": null,
      "outputs": []
    },
    {
      "cell_type": "markdown",
      "source": [
        "# #LDA With Gensim "
      ],
      "metadata": {
        "id": "8teBxbZdo5m5"
      }
    },
    {
      "cell_type": "code",
      "source": [
        "pip uninstall numpy"
      ],
      "metadata": {
        "colab": {
          "base_uri": "https://localhost:8080/"
        },
        "id": "Xgsz0BHOSBwr",
        "outputId": "f1e2947e-4dba-4bc4-b1c1-7ee05f489948"
      },
      "execution_count": null,
      "outputs": [
        {
          "output_type": "stream",
          "name": "stdout",
          "text": [
            "Found existing installation: numpy 1.24.1\n",
            "Uninstalling numpy-1.24.1:\n",
            "  Would remove:\n",
            "    /usr/local/bin/f2py\n",
            "    /usr/local/bin/f2py3\n",
            "    /usr/local/bin/f2py3.8\n",
            "    /usr/local/lib/python3.8/dist-packages/numpy-1.24.1.dist-info/*\n",
            "    /usr/local/lib/python3.8/dist-packages/numpy.libs/libgfortran-040039e1.so.5.0.0\n",
            "    /usr/local/lib/python3.8/dist-packages/numpy.libs/libopenblas64_p-r0-15028c96.3.21.so\n",
            "    /usr/local/lib/python3.8/dist-packages/numpy.libs/libquadmath-96973f99.so.0.0.0\n",
            "    /usr/local/lib/python3.8/dist-packages/numpy/*\n",
            "Proceed (Y/n)? Y\n",
            "  Successfully uninstalled numpy-1.24.1\n"
          ]
        }
      ]
    },
    {
      "cell_type": "code",
      "source": [
        "!pip install numpy --upgrade"
      ],
      "metadata": {
        "colab": {
          "base_uri": "https://localhost:8080/"
        },
        "id": "ZUF1ikC2SIDz",
        "outputId": "6598eb12-80eb-4361-9045-792479e382e0"
      },
      "execution_count": null,
      "outputs": [
        {
          "output_type": "stream",
          "name": "stdout",
          "text": [
            "Looking in indexes: https://pypi.org/simple, https://us-python.pkg.dev/colab-wheels/public/simple/\n",
            "Requirement already satisfied: numpy in /usr/local/lib/python3.8/dist-packages (1.24.1)\n"
          ]
        }
      ]
    },
    {
      "cell_type": "code",
      "source": [
        "dictionary = textTW['tweet_tokens_stemmed']\n"
      ],
      "metadata": {
        "id": "KOB4Eh-E4am9"
      },
      "execution_count": null,
      "outputs": []
    },
    {
      "cell_type": "code",
      "source": [
        "dictionary.filter_extremes(no_below=15, no_above=0.5, keep_n=100000)"
      ],
      "metadata": {
        "id": "l8HYanB4pASs"
      },
      "execution_count": null,
      "outputs": []
    },
    {
      "cell_type": "code",
      "source": [
        "pip uninstall gensim"
      ],
      "metadata": {
        "colab": {
          "base_uri": "https://localhost:8080/"
        },
        "id": "fUFc-UFqTOyq",
        "outputId": "9e9773ae-3c76-4a90-f9f0-b8c43985c177"
      },
      "execution_count": null,
      "outputs": [
        {
          "output_type": "stream",
          "name": "stdout",
          "text": [
            "Found existing installation: gensim 4.3.0\n",
            "Uninstalling gensim-4.3.0:\n",
            "  Would remove:\n",
            "    /usr/local/lib/python3.8/dist-packages/gensim-4.3.0.dist-info/*\n",
            "    /usr/local/lib/python3.8/dist-packages/gensim/*\n",
            "Proceed (Y/n)? Y\n",
            "  Successfully uninstalled gensim-4.3.0\n"
          ]
        }
      ]
    },
    {
      "cell_type": "code",
      "source": [
        "pip install gensim"
      ],
      "metadata": {
        "colab": {
          "base_uri": "https://localhost:8080/"
        },
        "id": "49fFyymmTXDo",
        "outputId": "02567e59-f803-477e-d5f2-c5a2dfaa8c52"
      },
      "execution_count": null,
      "outputs": [
        {
          "output_type": "stream",
          "name": "stdout",
          "text": [
            "Looking in indexes: https://pypi.org/simple, https://us-python.pkg.dev/colab-wheels/public/simple/\n",
            "Requirement already satisfied: gensim in /usr/local/lib/python3.8/dist-packages (4.3.0)\n",
            "Requirement already satisfied: smart-open>=1.8.1 in /usr/local/lib/python3.8/dist-packages (from gensim) (6.3.0)\n",
            "Requirement already satisfied: numpy>=1.18.5 in /usr/local/lib/python3.8/dist-packages (from gensim) (1.22.4)\n",
            "Requirement already satisfied: FuzzyTM>=0.4.0 in /usr/local/lib/python3.8/dist-packages (from gensim) (2.0.5)\n",
            "Requirement already satisfied: scipy>=1.7.0 in /usr/local/lib/python3.8/dist-packages (from gensim) (1.7.3)\n",
            "Requirement already satisfied: pyfume in /usr/local/lib/python3.8/dist-packages (from FuzzyTM>=0.4.0->gensim) (0.2.25)\n",
            "Requirement already satisfied: pandas in /usr/local/lib/python3.8/dist-packages (from FuzzyTM>=0.4.0->gensim) (1.3.5)\n",
            "Requirement already satisfied: pytz>=2017.3 in /usr/local/lib/python3.8/dist-packages (from pandas->FuzzyTM>=0.4.0->gensim) (2022.7)\n",
            "Requirement already satisfied: python-dateutil>=2.7.3 in /usr/local/lib/python3.8/dist-packages (from pandas->FuzzyTM>=0.4.0->gensim) (2.8.2)\n",
            "Requirement already satisfied: simpful in /usr/local/lib/python3.8/dist-packages (from pyfume->FuzzyTM>=0.4.0->gensim) (2.9.0)\n",
            "Requirement already satisfied: fst-pso in /usr/local/lib/python3.8/dist-packages (from pyfume->FuzzyTM>=0.4.0->gensim) (1.8.1)\n",
            "Requirement already satisfied: six>=1.5 in /usr/local/lib/python3.8/dist-packages (from python-dateutil>=2.7.3->pandas->FuzzyTM>=0.4.0->gensim) (1.15.0)\n",
            "Requirement already satisfied: miniful in /usr/local/lib/python3.8/dist-packages (from fst-pso->pyfume->FuzzyTM>=0.4.0->gensim) (0.0.6)\n",
            "Requirement already satisfied: requests in /usr/local/lib/python3.8/dist-packages (from simpful->pyfume->FuzzyTM>=0.4.0->gensim) (2.25.1)\n",
            "Requirement already satisfied: idna<3,>=2.5 in /usr/local/lib/python3.8/dist-packages (from requests->simpful->pyfume->FuzzyTM>=0.4.0->gensim) (2.10)\n",
            "Requirement already satisfied: certifi>=2017.4.17 in /usr/local/lib/python3.8/dist-packages (from requests->simpful->pyfume->FuzzyTM>=0.4.0->gensim) (2022.12.7)\n",
            "Requirement already satisfied: urllib3<1.27,>=1.21.1 in /usr/local/lib/python3.8/dist-packages (from requests->simpful->pyfume->FuzzyTM>=0.4.0->gensim) (1.24.3)\n",
            "Requirement already satisfied: chardet<5,>=3.0.2 in /usr/local/lib/python3.8/dist-packages (from requests->simpful->pyfume->FuzzyTM>=0.4.0->gensim) (4.0.0)\n"
          ]
        }
      ]
    },
    {
      "cell_type": "code",
      "source": [
        "import gensim\n",
        "from gensim import corpora\n",
        "\n",
        "dictionary = corpora.Dictionary(doc_clean)\n",
        "\n",
        "bow_corpus = [dictionary.doc2bow(doc) for doc in doc_clean]\n",
        "bow_corpus[112]"
      ],
      "metadata": {
        "colab": {
          "base_uri": "https://localhost:8080/"
        },
        "id": "Kw3q3G_k414_",
        "outputId": "890df2fb-7ac1-45e2-99a0-8d142208de8d"
      },
      "execution_count": 32,
      "outputs": [
        {
          "output_type": "execute_result",
          "data": {
            "text/plain": [
              "[(14, 1),\n",
              " (19, 1),\n",
              " (20, 1),\n",
              " (131, 1),\n",
              " (148, 1),\n",
              " (337, 1),\n",
              " (338, 1),\n",
              " (365, 1),\n",
              " (417, 2),\n",
              " (514, 1),\n",
              " (612, 1),\n",
              " (794, 1),\n",
              " (795, 1),\n",
              " (796, 1),\n",
              " (797, 1),\n",
              " (798, 1),\n",
              " (799, 1)]"
            ]
          },
          "metadata": {},
          "execution_count": 32
        }
      ]
    },
    {
      "cell_type": "code",
      "source": [
        "# Creating the object for LDA model using gensim library\n",
        "#Lda = gensim.models.ldamodel.LdaModel\n",
        "Lda = gensim.models.LdaModel\n",
        "\n",
        "\n",
        "total_topics = 10 # jumlah topik yang akan di extract\n",
        "number_words = 8 # jumlah kata per topik"
      ],
      "metadata": {
        "id": "U0Ssw8na77ZL"
      },
      "execution_count": 35,
      "outputs": []
    },
    {
      "cell_type": "code",
      "source": [
        "# Running and Training LDA model on the document term matrix.\n",
        "lda_model = Lda(bow_corpus, num_topics=total_topics, id2word = dictionary, chunksize=1000, passes=50, update_every=1)\n",
        "\n",
        "#lda_model.show_topics(num_topics=total_topics, num_words=number_words)\n",
        "\n",
        "for idx, topic in lda_model.show_topics(num_topics=total_topics, num_words=number_words):\n",
        "    print('Topic: {} \\nWords: {}'.format(idx, topic))"
      ],
      "metadata": {
        "colab": {
          "base_uri": "https://localhost:8080/"
        },
        "id": "6ln3X4YN7_cD",
        "outputId": "aee8e376-a1ac-4b45-b364-1800390cfe5a"
      },
      "execution_count": 36,
      "outputs": [
        {
          "output_type": "stream",
          "name": "stdout",
          "text": [
            "Topic: 0 \n",
            "Words: 0.105*\"vaksin\" + 0.068*\"tolak\" + 0.021*\"rakyat\" + 0.013*\"dpr\" + 0.012*\"hak\" + 0.011*\"covid\" + 0.010*\"anggota\" + 0.010*\"orang\"\n",
            "Topic: 1 \n",
            "Words: 0.074*\"vaksin\" + 0.063*\"tolak\" + 0.026*\"penjara\" + 0.021*\"orang\" + 0.018*\"denda\" + 0.012*\"covid\" + 0.012*\"hukum\" + 0.009*\"salah\"\n",
            "Topic: 2 \n",
            "Words: 0.112*\"vaksin\" + 0.090*\"tolak\" + 0.019*\"ribka\" + 0.013*\"covid\" + 0.011*\"tjiptaning\" + 0.011*\"masyarakat\" + 0.011*\"rakyat\" + 0.010*\"vaksinasi\"\n",
            "Topic: 3 \n",
            "Words: 0.089*\"vaksin\" + 0.076*\"tolak\" + 0.027*\"suntik\" + 0.023*\"paksa\" + 0.022*\"covid\" + 0.019*\"hak\" + 0.013*\"warga\" + 0.013*\"ham\"\n",
            "Topic: 4 \n",
            "Words: 0.078*\"vaksin\" + 0.060*\"tolak\" + 0.015*\"alas\" + 0.014*\"perintah\" + 0.013*\"aman\" + 0.013*\"halal\" + 0.013*\"jamin\" + 0.012*\"pidana\"\n",
            "Topic: 5 \n",
            "Words: 0.048*\"vaksin\" + 0.036*\"tolak\" + 0.022*\"sinovac\" + 0.014*\"pakai\" + 0.012*\"data\" + 0.010*\"alas\" + 0.009*\"rakyat\" + 0.008*\"china\"\n",
            "Topic: 6 \n",
            "Words: 0.103*\"vaksin\" + 0.067*\"tolak\" + 0.015*\"denda\" + 0.015*\"penjara\" + 0.013*\"rakyat\" + 0.011*\"negara\" + 0.010*\"kalo\" + 0.010*\"orang\"\n",
            "Topic: 7 \n",
            "Words: 0.068*\"vaksin\" + 0.054*\"tolak\" + 0.018*\"orang\" + 0.013*\"perintah\" + 0.012*\"efek\" + 0.012*\"covid\" + 0.012*\"aman\" + 0.012*\"vaksinasi\"\n",
            "Topic: 8 \n",
            "Words: 0.055*\"vaksin\" + 0.045*\"tolak\" + 0.016*\"covid\" + 0.014*\"biaya\" + 0.012*\"tanggung\" + 0.012*\"perintah\" + 0.010*\"kena\" + 0.009*\"fatwa\"\n",
            "Topic: 9 \n",
            "Words: 0.024*\"vaksin\" + 0.023*\"tolak\" + 0.015*\"mui\" + 0.011*\"halal\" + 0.009*\"islam\" + 0.008*\"covid\" + 0.007*\"alas\" + 0.005*\"vaksinasi\"\n"
          ]
        }
      ]
    },
    {
      "cell_type": "code",
      "source": [
        "# Word Count of Topic Keywords\n",
        "\n",
        "from collections import Counter\n",
        "topics = lda_model.show_topics(formatted=False)\n",
        "data_flat = [w for w_list in doc_clean for w in w_list]\n",
        "counter = Counter(data_flat)\n",
        "\n",
        "out = []\n",
        "for i, topic in topics:\n",
        "    for word, weight in topic:\n",
        "        out.append([word, i , weight, counter[word]])\n",
        "\n",
        "df_imp_wcount = pd.DataFrame(out, columns=['word', 'topic_id', 'importance', 'word_count']) \n",
        "print(df_imp_wcount)"
      ],
      "metadata": {
        "colab": {
          "base_uri": "https://localhost:8080/"
        },
        "id": "RfRE0Zid8J-i",
        "outputId": "3c91f82d-53c7-4a75-9119-6058d80ee57e"
      },
      "execution_count": 37,
      "outputs": [
        {
          "output_type": "stream",
          "name": "stdout",
          "text": [
            "         word  topic_id  importance  word_count\n",
            "0      vaksin         0    0.105041        2613\n",
            "1       tolak         0    0.067662        2003\n",
            "2      rakyat         0    0.021076         280\n",
            "3         dpr         0    0.013202         103\n",
            "4         hak         0    0.012186         157\n",
            "..        ...       ...         ...         ...\n",
            "95      covid         9    0.007529         316\n",
            "96       alas         9    0.006881         128\n",
            "97  vaksinasi         9    0.004924         136\n",
            "98      tahap         9    0.004906           7\n",
            "99      jalan         9    0.004765          20\n",
            "\n",
            "[100 rows x 4 columns]\n"
          ]
        }
      ]
    },
    {
      "cell_type": "code",
      "source": [
        "from google.colab import drive\n",
        "drive.mount('drive')"
      ],
      "metadata": {
        "colab": {
          "base_uri": "https://localhost:8080/"
        },
        "id": "PKvbzJWM8T7O",
        "outputId": "5c9907d4-f5e0-4da3-d2f0-c70ffa2f8984"
      },
      "execution_count": 38,
      "outputs": [
        {
          "output_type": "stream",
          "name": "stdout",
          "text": [
            "Mounted at drive\n"
          ]
        }
      ]
    },
    {
      "cell_type": "code",
      "source": [
        "#simpan ke google drive\n",
        "df_imp_wcount.to_csv('df_imp_wcount.csv')\n",
        "!cp df_imp_wcount.csv \"drive/My Drive/Pengen Skripsi/\""
      ],
      "metadata": {
        "id": "lsSe3pFP8Zql"
      },
      "execution_count": 39,
      "outputs": []
    },
    {
      "cell_type": "code",
      "source": [
        "#jika simpan ke local drive\n",
        "#filedisimpan='df_imp_wcount.xlsx'\n",
        "#df_imp_wcount.to_excel(filedisimpan, index = False, header=True)"
      ],
      "metadata": {
        "id": "e6kb37Yy8deS"
      },
      "execution_count": null,
      "outputs": []
    },
    {
      "cell_type": "code",
      "source": [
        "#Dominant topic and its percentage contribution in each topic\n",
        "def format_topics_sentences(ldamodel=None, corpus=bow_corpus, texts=document):\n",
        "    # Init output\n",
        "    sent_topics_df = pd.DataFrame()\n",
        "\n",
        "    # Get main topic in each document\n",
        "    for i, row_list in enumerate(ldamodel[corpus]):\n",
        "        row = row_list[0] if ldamodel.per_word_topics else row_list            \n",
        "        # print(row)\n",
        "        row = sorted(row, key=lambda x: (x[1]), reverse=True)\n",
        "        # Get the Dominant topic, Perc Contribution and Keywords for each document\n",
        "        for j, (topic_num, prop_topic) in enumerate(row):\n",
        "            if j == 0:  # => dominant topic\n",
        "                wp = ldamodel.show_topic(topic_num)\n",
        "                topic_keywords = \", \".join([word for word, prop in wp])\n",
        "                sent_topics_df = sent_topics_df.append(pd.Series([int(topic_num), round(prop_topic,4), topic_keywords]), ignore_index=True)\n",
        "            else:\n",
        "                break\n",
        "    sent_topics_df.columns = ['Dominant_Topic', 'Perc_Contribution', 'Topic_Keywords']\n",
        "\n",
        "    # Add original text to the end of the output\n",
        "    contents = pd.Series(texts)\n",
        "    sent_topics_df = pd.concat([sent_topics_df, contents], axis=1)\n",
        "    return(sent_topics_df)"
      ],
      "metadata": {
        "id": "Hmw42_H88g4J"
      },
      "execution_count": 40,
      "outputs": []
    },
    {
      "cell_type": "code",
      "source": [
        "df_topic_sents_keywords = format_topics_sentences(ldamodel=lda_model, corpus=bow_corpus, texts=doc_clean)\n",
        "\n",
        "# Format\n",
        "df_dominant_topic = df_topic_sents_keywords.reset_index()\n",
        "df_dominant_topic.columns = ['Document_No', 'Dominant_Topic', 'Topic_Perc_Contrib', 'Keywords', 'Text']\n",
        "print(df_dominant_topic.head(10))"
      ],
      "metadata": {
        "colab": {
          "base_uri": "https://localhost:8080/"
        },
        "id": "2peEuQnK8j1R",
        "outputId": "9c468b24-f36d-4560-c2d8-5c5944c52876"
      },
      "execution_count": 41,
      "outputs": [
        {
          "output_type": "stream",
          "name": "stdout",
          "text": [
            "   Document_No  Dominant_Topic  Topic_Perc_Contrib  \\\n",
            "0            0             6.0              0.9609   \n",
            "1            1             2.0              0.9550   \n",
            "2            2             0.0              0.9100   \n",
            "3            3             3.0              0.9400   \n",
            "4            4             5.0              0.9470   \n",
            "5            5             6.0              0.8500   \n",
            "6            6             7.0              0.5841   \n",
            "7            7             2.0              0.8200   \n",
            "8            8             2.0              0.8714   \n",
            "9            9             2.0              0.5162   \n",
            "\n",
            "                                            Keywords  \\\n",
            "0  vaksin, tolak, denda, penjara, rakyat, negara,...   \n",
            "1  vaksin, tolak, ribka, covid, tjiptaning, masya...   \n",
            "2  vaksin, tolak, rakyat, dpr, hak, covid, anggot...   \n",
            "3  vaksin, tolak, suntik, paksa, covid, hak, warg...   \n",
            "4  vaksin, tolak, sinovac, pakai, data, alas, rak...   \n",
            "5  vaksin, tolak, denda, penjara, rakyat, negara,...   \n",
            "6  vaksin, tolak, orang, perintah, efek, covid, a...   \n",
            "7  vaksin, tolak, ribka, covid, tjiptaning, masya...   \n",
            "8  vaksin, tolak, ribka, covid, tjiptaning, masya...   \n",
            "9  vaksin, tolak, ribka, covid, tjiptaning, masya...   \n",
            "\n",
            "                                                Text  \n",
            "0  [dom, beliau, dr, agni, heal, tolak, vaksin, m...  \n",
            "1  [mei, pribadi, aku, mayoritas, berfikir, reali...  \n",
            "2  [anggota, dpr, ri, tolak, suntik, vaksin, dink...  \n",
            "3  [komisi, tolak, vaksinkatanya, paksa, hamdan, ...  \n",
            "4  [orang, tolak, vaksin, susah, ajak, protokol, ...  \n",
            "5                [ngak, tolak, vaksin, tolak, kucil]  \n",
            "6  [as, you, know, perintah, tolak, usaha, vaksin...  \n",
            "7                  [masyarakat, tolak, vaksin, hmmm]  \n",
            "8        [vonis, denda, murah, ancam, tolak, vaksin]  \n",
            "9            [tolak, vaksin, tolak, jenis, vaksinya]  \n"
          ]
        }
      ]
    },
    {
      "cell_type": "code",
      "source": [
        "#simpan ke google drive\n",
        "df_dominant_topic.to_csv('df_dominant_topic.csv')\n",
        "!cp df_dominant_topic.csv \"drive/My Drive/Text Mining/\""
      ],
      "metadata": {
        "id": "oF8etEKT8l21"
      },
      "execution_count": 42,
      "outputs": []
    },
    {
      "cell_type": "code",
      "source": [
        "import pandas as pd \n",
        "import numpy as np\n",
        "import nltk"
      ],
      "metadata": {
        "id": "XO639cV2H84k"
      },
      "execution_count": 43,
      "outputs": []
    },
    {
      "cell_type": "code",
      "source": [
        "# pip uninstall pyldavis"
      ],
      "metadata": {
        "colab": {
          "base_uri": "https://localhost:8080/"
        },
        "id": "W-TNJdoS9Hb1",
        "outputId": "61da8947-6e73-4c49-eff7-ef883104b951"
      },
      "execution_count": null,
      "outputs": [
        {
          "output_type": "stream",
          "name": "stdout",
          "text": [
            "Found existing installation: pyLDAvis 3.3.1\n",
            "Uninstalling pyLDAvis-3.3.1:\n",
            "  Would remove:\n",
            "    /usr/local/lib/python3.8/dist-packages/pyLDAvis-3.3.1.dist-info/*\n",
            "    /usr/local/lib/python3.8/dist-packages/pyLDAvis/*\n",
            "Proceed (Y/n)? y\n",
            "  Successfully uninstalled pyLDAvis-3.3.1\n"
          ]
        }
      ]
    },
    {
      "cell_type": "code",
      "source": [
        "!apt-get -qq install -y graphviz && pip install pyLDAvis\n",
        "import pyLDAvis"
      ],
      "metadata": {
        "colab": {
          "base_uri": "https://localhost:8080/"
        },
        "id": "JGDoQ4Aq9OGZ",
        "outputId": "dc7d38dd-ff8c-4cea-dadc-b73e6d333649"
      },
      "execution_count": 44,
      "outputs": [
        {
          "output_type": "stream",
          "name": "stdout",
          "text": [
            "Looking in indexes: https://pypi.org/simple, https://us-python.pkg.dev/colab-wheels/public/simple/\n",
            "Requirement already satisfied: pyLDAvis in /usr/local/lib/python3.8/dist-packages (3.2.1)\n",
            "Requirement already satisfied: scipy>=0.18.0 in /usr/local/lib/python3.8/dist-packages (from pyLDAvis) (1.7.3)\n",
            "Requirement already satisfied: wheel>=0.23.0 in /usr/local/lib/python3.8/dist-packages (from pyLDAvis) (0.38.4)\n",
            "Requirement already satisfied: funcy in /usr/local/lib/python3.8/dist-packages (from pyLDAvis) (1.17)\n",
            "Requirement already satisfied: jinja2>=2.7.2 in /usr/local/lib/python3.8/dist-packages (from pyLDAvis) (2.11.3)\n",
            "Requirement already satisfied: joblib>=0.8.4 in /usr/local/lib/python3.8/dist-packages (from pyLDAvis) (1.2.0)\n",
            "Requirement already satisfied: pandas>=0.17.0 in /usr/local/lib/python3.8/dist-packages (from pyLDAvis) (1.3.5)\n",
            "Requirement already satisfied: numexpr in /usr/local/lib/python3.8/dist-packages (from pyLDAvis) (2.8.4)\n",
            "Requirement already satisfied: numpy>=1.9.2 in /usr/local/lib/python3.8/dist-packages (from pyLDAvis) (1.24.1)\n",
            "Requirement already satisfied: future in /usr/local/lib/python3.8/dist-packages (from pyLDAvis) (0.16.0)\n",
            "Requirement already satisfied: MarkupSafe>=0.23 in /usr/local/lib/python3.8/dist-packages (from jinja2>=2.7.2->pyLDAvis) (2.0.1)\n",
            "Requirement already satisfied: python-dateutil>=2.7.3 in /usr/local/lib/python3.8/dist-packages (from pandas>=0.17.0->pyLDAvis) (2.8.2)\n",
            "Requirement already satisfied: pytz>=2017.3 in /usr/local/lib/python3.8/dist-packages (from pandas>=0.17.0->pyLDAvis) (2022.7)\n",
            "Collecting numpy>=1.9.2\n",
            "  Downloading numpy-1.22.4-cp38-cp38-manylinux_2_17_x86_64.manylinux2014_x86_64.whl (16.9 MB)\n",
            "\u001b[2K     \u001b[90m━━━━━━━━━━━━━━━━━━━━━━━━━━━━━━━━━━━━━━━━\u001b[0m \u001b[32m16.9/16.9 MB\u001b[0m \u001b[31m42.0 MB/s\u001b[0m eta \u001b[36m0:00:00\u001b[0m\n",
            "\u001b[?25hRequirement already satisfied: six>=1.5 in /usr/local/lib/python3.8/dist-packages (from python-dateutil>=2.7.3->pandas>=0.17.0->pyLDAvis) (1.15.0)\n",
            "Installing collected packages: numpy\n",
            "  Attempting uninstall: numpy\n",
            "    Found existing installation: numpy 1.24.1\n",
            "    Uninstalling numpy-1.24.1:\n",
            "      Successfully uninstalled numpy-1.24.1\n",
            "Successfully installed numpy-1.22.4\n"
          ]
        },
        {
          "output_type": "stream",
          "name": "stderr",
          "text": [
            "/usr/local/lib/python3.8/dist-packages/past/types/oldstr.py:5: DeprecationWarning: Using or importing the ABCs from 'collections' instead of from 'collections.abc' is deprecated since Python 3.3, and in 3.10 it will stop working\n",
            "  from collections import Iterable\n"
          ]
        }
      ]
    },
    {
      "cell_type": "code",
      "source": [
        "import os\n",
        "LDAvis_data_filepath = os.path.join('ldavis_prepared_'+str(total_topics))"
      ],
      "metadata": {
        "id": "Ip4kRU5OGqUF"
      },
      "execution_count": 45,
      "outputs": []
    },
    {
      "cell_type": "code",
      "source": [
        "corpus = [dictionary.doc2bow(text) for text in doc_clean]"
      ],
      "metadata": {
        "id": "VpIvHmetAGWN"
      },
      "execution_count": 46,
      "outputs": []
    },
    {
      "cell_type": "code",
      "source": [
        "# Plotting tools\n",
        "import pyLDAvis\n",
        "import pyLDAvis.gensim  # don't skip this\n",
        "import matplotlib.pyplot as plt\n",
        "%matplotlib inline\n",
        "import pickle\n",
        "from pathlib import Path\n"
      ],
      "metadata": {
        "id": "QGpjZleJ9DYD"
      },
      "execution_count": 50,
      "outputs": []
    },
    {
      "cell_type": "code",
      "source": [
        "if 1 == 1:\n",
        "    LDAvis_prepared = pyLDAvis.gensim.prepare(lda_model, corpus, dictionary)\n",
        "    with open(LDAvis_data_filepath, 'wb') as f:\n",
        "        pickle.dump(LDAvis_prepared, f)"
      ],
      "metadata": {
        "id": "SG5iztpCALcP"
      },
      "execution_count": 51,
      "outputs": []
    },
    {
      "cell_type": "code",
      "source": [
        "# load the pre-prepared pyLDAvis data from disk\n",
        "with open(LDAvis_data_filepath, 'rb') as f:\n",
        "    LDAvis_prepared = pickle.load(f)"
      ],
      "metadata": {
        "id": "9lfCU2OAAVSE"
      },
      "execution_count": 52,
      "outputs": []
    },
    {
      "cell_type": "code",
      "source": [
        "pyLDAvis.save_html(LDAvis_prepared, 'drive/My Drive/Pengen Sripsi'+ str(total_topics) +'.html')"
      ],
      "metadata": {
        "id": "iTw6P5HbAovT"
      },
      "execution_count": 54,
      "outputs": []
    },
    {
      "cell_type": "code",
      "source": [
        "# proses ini mungkin agak lama\n",
        "LDAvis_prepared"
      ],
      "metadata": {
        "colab": {
          "base_uri": "https://localhost:8080/"
        },
        "id": "sSRb8O12AvTo",
        "outputId": "8af29c7b-42e1-4f0a-90bd-dab459d9a30e"
      },
      "execution_count": 55,
      "outputs": [
        {
          "output_type": "execute_result",
          "data": {
            "text/plain": [
              "PreparedData(topic_coordinates=              x         y  topics  cluster       Freq\n",
              "topic                                                \n",
              "2      0.138450  0.005608       1        1  30.809155\n",
              "0      0.087899  0.009547       2        1  12.361979\n",
              "6      0.079273  0.025760       3        1  11.715011\n",
              "7      0.042369  0.053129       4        1   9.438025\n",
              "3      0.083779 -0.117305       5        1   8.228284\n",
              "4     -0.045624  0.160225       6        1   7.663756\n",
              "1      0.015479 -0.089014       7        1   6.801617\n",
              "8     -0.077087  0.013036       8        1   5.256940\n",
              "5     -0.128053  0.023804       9        1   4.327980\n",
              "9     -0.196486 -0.084789      10        1   3.397253, topic_info=            Term         Freq        Total Category  logprob  loglift\n",
              "20        vaksin  2243.000000  2243.000000  Default  30.0000  30.0000\n",
              "43        suntik   150.000000   150.000000  Default  29.0000  29.0000\n",
              "110      penjara   133.000000   133.000000  Default  28.0000  28.0000\n",
              "53         paksa    82.000000    82.000000  Default  27.0000  27.0000\n",
              "19         tolak  1716.000000  1716.000000  Default  26.0000  26.0000\n",
              "...          ...          ...          ...      ...      ...      ...\n",
              "1210       cegah     3.018399    11.437359  Topic10  -5.6363   2.0500\n",
              "270    vaksinasi     4.167820   125.758634  Topic10  -5.3136  -0.0248\n",
              "120       rakyat     3.979330   241.737511  Topic10  -5.3599  -0.7245\n",
              "238   orangorang     2.790388    10.226104  Topic10  -5.7148   2.0834\n",
              "778      menteri     2.631883    11.395023  Topic10  -5.7733   1.9167\n",
              "\n",
              "[636 rows x 6 columns], token_table=      Topic      Freq       Term\n",
              "term                            \n",
              "1807     10  0.872728       abal\n",
              "791       5  0.908944       aceh\n",
              "1315      5  0.930880       adik\n",
              "2279      5  0.896636  adityason\n",
              "1585      2  0.696065       alam\n",
              "...     ...       ...        ...\n",
              "783       3  0.215705        who\n",
              "783       5  0.647116        who\n",
              "1603      5  0.656968        wib\n",
              "3858     10  0.829098         wr\n",
              "1818      6  0.797373     yahudi\n",
              "\n",
              "[1051 rows x 3 columns], R=30, lambda_step=0.01, plot_opts={'xlab': 'PC1', 'ylab': 'PC2'}, topic_order=[3, 1, 7, 8, 4, 5, 2, 9, 6, 10])"
            ]
          },
          "metadata": {},
          "execution_count": 55
        }
      ]
    },
    {
      "cell_type": "code",
      "source": [
        "pyLDAvis.enable_notebook()\n",
        "vis = pyLDAvis.gensim.prepare(lda_model, corpus, dictionary=lda_model.id2word)\n",
        "vis"
      ],
      "metadata": {
        "colab": {
          "base_uri": "https://localhost:8080/",
          "height": 861
        },
        "id": "3urRfp8rAzeD",
        "outputId": "14eebfbd-aa70-419a-ffc8-a354ff5d8d27"
      },
      "execution_count": 57,
      "outputs": [
        {
          "output_type": "execute_result",
          "data": {
            "text/plain": [
              "PreparedData(topic_coordinates=              x         y  topics  cluster       Freq\n",
              "topic                                                \n",
              "2      0.138450  0.005608       1        1  30.789340\n",
              "0      0.087899  0.009547       2        1  12.374451\n",
              "6      0.079273  0.025760       3        1  11.704330\n",
              "7      0.042369  0.053129       4        1   9.433845\n",
              "3      0.083779 -0.117305       5        1   8.227269\n",
              "4     -0.045624  0.160225       6        1   7.672318\n",
              "1      0.015479 -0.089014       7        1   6.807420\n",
              "8     -0.077087  0.013036       8        1   5.256839\n",
              "5     -0.128053  0.023804       9        1   4.336944\n",
              "9     -0.196486 -0.084789      10        1   3.397244, topic_info=            Term         Freq        Total Category  logprob  loglift\n",
              "20        vaksin  2243.000000  2243.000000  Default  30.0000  30.0000\n",
              "43        suntik   150.000000   150.000000  Default  29.0000  29.0000\n",
              "110      penjara   133.000000   133.000000  Default  28.0000  28.0000\n",
              "53         paksa    82.000000    82.000000  Default  27.0000  27.0000\n",
              "19         tolak  1716.000000  1716.000000  Default  26.0000  26.0000\n",
              "...          ...          ...          ...      ...      ...      ...\n",
              "1210       cegah     3.018391    11.435400  Topic10  -5.6363   2.0502\n",
              "270    vaksinasi     4.167809   125.700331  Topic10  -5.3136  -0.0243\n",
              "120       rakyat     3.979320   241.730239  Topic10  -5.3599  -0.7245\n",
              "238   orangorang     2.790381    10.232849  Topic10  -5.7148   2.0828\n",
              "778      menteri     2.631876    11.389986  Topic10  -5.7733   1.9172\n",
              "\n",
              "[636 rows x 6 columns], token_table=      Topic      Freq       Term\n",
              "term                            \n",
              "1807     10  0.872690       abal\n",
              "791       5  0.909031       aceh\n",
              "1315      5  0.930928       adik\n",
              "2279      5  0.896664  adityason\n",
              "1585      2  0.695475       alam\n",
              "...     ...       ...        ...\n",
              "783       3  0.215768        who\n",
              "783       5  0.647305        who\n",
              "1603      5  0.656983        wib\n",
              "3858     10  0.829027         wr\n",
              "1818      6  0.796626     yahudi\n",
              "\n",
              "[1051 rows x 3 columns], R=30, lambda_step=0.01, plot_opts={'xlab': 'PC1', 'ylab': 'PC2'}, topic_order=[3, 1, 7, 8, 4, 5, 2, 9, 6, 10])"
            ],
            "text/html": [
              "\n",
              "<link rel=\"stylesheet\" type=\"text/css\" href=\"https://cdn.jsdelivr.net/gh/bmabey/pyLDAvis/pyLDAvis/js/ldavis.v1.0.0.css\">\n",
              "\n",
              "\n",
              "<div id=\"ldavis_el63551403522904493283038196182\"></div>\n",
              "<script type=\"text/javascript\">\n",
              "\n",
              "var ldavis_el63551403522904493283038196182_data = {\"mdsDat\": {\"x\": [0.13845014584711096, 0.08789915360766462, 0.07927319275190778, 0.04236911897050013, 0.08377881697411836, -0.045623677602428685, 0.015479038536231398, -0.07708740747245475, -0.12805254914924538, -0.19648583246340426], \"y\": [0.005608466818671594, 0.009546974236762616, 0.025759748722916895, 0.053128876597259865, -0.11730527589030228, 0.16022499059667522, -0.08901429116865006, 0.01303618692030123, 0.02380369999982156, -0.08478937683345678], \"topics\": [1, 2, 3, 4, 5, 6, 7, 8, 9, 10], \"cluster\": [1, 1, 1, 1, 1, 1, 1, 1, 1, 1], \"Freq\": [30.78934018766312, 12.37445055131532, 11.70433034230172, 9.433844934498852, 8.227268876430728, 7.672318037056152, 6.807420044181421, 5.256839167271625, 4.336943912626357, 3.397243946654702]}, \"tinfo\": {\"Term\": [\"vaksin\", \"suntik\", \"penjara\", \"paksa\", \"tolak\", \"denda\", \"ribka\", \"sinovac\", \"covid\", \"orang\", \"hak\", \"halal\", \"alas\", \"dpr\", \"aman\", \"rakyat\", \"tjiptaning\", \"anggota\", \"perintah\", \"kalo\", \"vaksinasi\", \"pidana\", \"warga\", \"efek\", \"anak\", \"negara\", \"pandemi\", \"ham\", \"kena\", \"jamin\", \"distribusi\", \"ikut\", \"bu\", \"hoax\", \"ribka\", \"politikus\", \"tjiptaning\", \"sangsi\", \"demokrat\", \"pks\", \"banyak\", \"penting\", \"ketimbang\", \"demokrasi\", \"tuduh\", \"dadak\", \"cacat\", \"bantu\", \"henti\", \"ttg\", \"larang\", \"gera\", \"lupa\", \"enak\", \"mu\", \"tum\", \"jakarta\", \"herd\", \"bunuh\", \"politis\", \"kadrun\", \"kamil\", \"duluan\", \"pdip\", \"keluarga\", \"kader\", \"gw\", \"edar\", \"juang\", \"komisi\", \"jual\", \"bijak\", \"ix\", \"tanggap\", \"vaksinasi\", \"partai\", \"tolak\", \"vaksin\", \"masyarakat\", \"karna\", \"solusi\", \"takut\", \"anggota\", \"bayar\", \"suntik\", \"negara\", \"covid\", \"indonesia\", \"pilih\", \"dpr\", \"ri\", \"rakyat\", \"denda\", \"sinovac\", \"paksa\", \"perintah\", \"orang\", \"sehat\", \"alas\", \"allah\", \"kpd\", \"bio\", \"farma\", \"grup\", \"kompak\", \"seleksi\", \"biarin\", \"gajah\", \"siar\", \"tgl\", \"kunci\", \"viral\", \"pasrah\", \"kaki\", \"diri\", \"temu\", \"joko\", \"lulus\", \"tawakal\", \"hey\", \"berat\", \"kristen\", \"remeh\", \"sok\", \"emergency\", \"simak\", \"nek\", \"ampuh\", \"suci\", \"sikap\", \"kah\", \"kecuali\", \"produk\", \"alam\", \"sy\", \"dpr\", \"jabat\", \"uji\", \"saran\", \"vaksin\", \"anggota\", \"rakyat\", \"baca\", \"tolak\", \"ri\", \"wakil\", \"hak\", \"langsung\", \"tunggu\", \"baik\", \"kalo\", \"orang\", \"dah\", \"covid\", \"mati\", \"coba\", \"sedia\", \"sehat\", \"perintah\", \"sinovac\", \"sakit\", \"salah\", \"cina\", \"takut\", \"pdip\", \"indonesia\", \"masyarakat\", \"aman\", \"tular\", \"biar\", \"bubar\", \"jt\", \"logika\", \"tingkat\", \"partisipasi\", \"lu\", \"dn\", \"kemenkes\", \"korupsi\", \"produksi\", \"immunity\", \"sma\", \"mentah\", \"imun\", \"juara\", \"kalah\", \"dapet\", \"nurut\", \"ketemu\", \"ngajak\", \"jamaah\", \"sabar\", \"mmg\", \"asing\", \"staf\", \"treatment\", \"tvone\", \"mundur\", \"guna\", \"juta\", \"virus\", \"bkn\", \"kabar\", \"corona\", \"jenis\", \"china\", \"denda\", \"dr\", \"penjara\", \"atur\", \"vaksin\", \"gratis\", \"tolak\", \"negara\", \"manusia\", \"kalo\", \"indonesia\", \"kasih\", \"ancam\", \"kena\", \"rakyat\", \"sinovac\", \"orang\", \"org\", \"warga\", \"sehat\", \"perintah\", \"udah\", \"haram\", \"jahat\", \"efektif\", \"pace\", \"umur\", \"ijin\", \"jatuh\", \"rizieq\", \"pungut\", \"pbnu\", \"pig\", \"desember\", \"status\", \"liar\", \"jangkit\", \"kh\", \"samping\", \"darurat\", \"menit\", \"sukses\", \"hilang\", \"babi\", \"persuasif\", \"terimakasih\", \"krna\", \"karantina\", \"aneh\", \"minim\", \"protes\", \"artikel\", \"efek\", \"sembuh\", \"normal\", \"keluar\", \"mrk\", \"pandemi\", \"uu\", \"lindung\", \"lawan\", \"efektifitas\", \"tubuh\", \"aman\", \"orang\", \"dampak\", \"vaksin\", \"bukti\", \"tolak\", \"vaksinasi\", \"perintah\", \"sakit\", \"nyata\", \"halal\", \"percaya\", \"covid\", \"masyarakat\", \"wajib\", \"sehat\", \"alas\", \"hidup\", \"cina\", \"sanksi\", \"pidana\", \"rakyat\", \"bahaya\", \"rs\", \"langgar\", \"aceh\", \"pemda\", \"kota\", \"provinsi\", \"daftar\", \"natalius\", \"wali\", \"spesialis\", \"pusat\", \"klinik\", \"laboratorium\", \"patologi\", \"ham\", \"dki\", \"bekas\", \"adik\", \"tifauzia\", \"nanggung\", \"streaming\", \"sepenuh\", \"diy\", \"galang\", \"of\", \"adityason\", \"pola\", \"kepala\", \"wib\", \"standar\", \"awam\", \"kendali\", \"pigai\", \"tenaga\", \"sudut\", \"paksa\", \"medis\", \"asasi\", \"suntik\", \"hak\", \"iya\", \"who\", \"dokter\", \"warga\", \"wajib\", \"tolak\", \"vaksin\", \"terima\", \"covid\", \"sanksi\", \"tuju\", \"rakyat\", \"pidana\", \"negara\", \"orang\", \"org\", \"sinovac\", \"masyarakat\", \"perintah\", \"manjur\", \"cucu\", \"oposisi\", \"jatah\", \"ciderai\", \"gerindra\", \"pan\", \"reformasi\", \"kayak\", \"lumpuh\", \"ntar\", \"fpi\", \"napi\", \"negeri\", \"amerika\", \"antri\", \"scr\", \"gada\", \"elu\", \"yahudi\", \"hik\", \"group\", \"hmm\", \"rutan\", \"gantung\", \"ulang\", \"hrus\", \"gegara\", \"tukang\", \"valid\", \"keras\", \"jelas\", \"jamin\", \"syarat\", \"kovid\", \"komunis\", \"bangga\", \"halal\", \"bebas\", \"beri\", \"anak\", \"aman\", \"pidana\", \"alas\", \"vaksin\", \"mas\", \"tolak\", \"gin\", \"rezim\", \"perintah\", \"pki\", \"partai\", \"kalo\", \"org\", \"cina\", \"dr\", \"nolak\", \"percaya\", \"terang\", \"gara\", \"golong\", \"langkah\", \"bego\", \"temen\", \"om\", \"rasa\", \"rela\", \"imbang\", \"hoaks\", \"tiongkok\", \"mulia\", \"kurung\", \"klu\", \"inews\", \"duhh\", \"masalah\", \"wamenkumham\", \"mnolak\", \"nurani\", \"belanda\", \"ilmu\", \"jajah\", \"sains\", \"mnrt\", \"gebetannya\", \"gaji\", \"jejak\", \"seh\", \"piye\", \"hudhi\", \"makan\", \"hukum\", \"penjara\", \"emang\", \"dasar\", \"masuk\", \"salah\", \"denda\", \"bingung\", \"orang\", \"vaksin\", \"tolak\", \"bayar\", \"wajib\", \"covid\", \"juta\", \"dapat\", \"terima\", \"sinovac\", \"kalo\", \"perintah\", \"hak\", \"biaya\", \"fatwa\", \"sila\", \"pasal\", \"tentu\", \"faktor\", \"timbul\", \"tanda\", \"ayat\", \"simple\", \"sdg\", \"alias\", \"basmi\", \"mungkar\", \"survey\", \"ana\", \"peran\", \"tonton\", \"lgi\", \"poin\", \"endangerment\", \"public\", \"bppom\", \"jenazah\", \"fee\", \"hti\", \"input\", \"konten\", \"moeldoko\", \"anggara\", \"wabah\", \"mandiri\", \"arab\", \"raja\", \"bpom\", \"tanggung\", \"obat\", \"no\", \"uu\", \"manusia\", \"izin\", \"main\", \"mui\", \"kena\", \"tentang\", \"benci\", \"kuasa\", \"vaksin\", \"tolak\", \"covid\", \"perintah\", \"sehat\", \"halal\", \"hak\", \"kalo\", \"anak\", \"orang\", \"sedia\", \"buat\", \"tahun\", \"in\", \"saudi\", \"lumayan\", \"kualitas\", \"ogah\", \"urut\", \"tinggi\", \"tutup\", \"tambah\", \"moderna\", \"autisme\", \"duli\", \"populasi\", \"sah\", \"data\", \"made\", \"demo\", \"th\", \"mak\", \"silalahi\", \"deportasi\", \"uyghur\", \"kamuh\", \"followers\", \"bln\", \"tuan\", \"brasil\", \"nyemplung\", \"portap\", \"hindar\", \"kasi\", \"pakai\", \"buku\", \"vaduka\", \"ato\", \"sinovac\", \"cari\", \"usia\", \"ribu\", \"china\", \"sengaja\", \"vaksin\", \"pfizer\", \"tolak\", \"alas\", \"suka\", \"anak\", \"bebas\", \"mudah\", \"dar\", \"rakyat\", \"bangga\", \"orang\", \"jamin\", \"wajar\", \"nama\", \"negara\", \"percaya\", \"duduk\", \"pki\", \"abal\", \"peka\", \"gapapa\", \"label\", \"fulan\", \"km\", \"laksana\", \"sd\", \"kv\", \"bla\", \"simpul\", \"nomer\", \"syariat\", \"nulis\", \"tunda\", \"tinjau\", \"tahap\", \"minimal\", \"assalamualaikum\", \"djana\", \"ir\", \"januari\", \"mang\", \"marufamin\", \"wassallam\", \"wb\", \"wr\", \"tet\", \"hai\", \"angota\", \"islam\", \"tokoh\", \"mui\", \"lingkung\", \"syukur\", \"gt\", \"turun\", \"umat\", \"oke\", \"halal\", \"alhamdulillah\", \"kontra\", \"rencana\", \"jalan\", \"tolak\", \"vaksin\", \"alas\", \"covid\", \"cegah\", \"vaksinasi\", \"rakyat\", \"orangorang\", \"menteri\"], \"Freq\": [2243.0, 150.0, 133.0, 82.0, 1716.0, 121.0, 149.0, 124.0, 271.0, 213.0, 130.0, 58.0, 110.0, 88.0, 82.0, 241.0, 92.0, 82.0, 172.0, 108.0, 125.0, 77.0, 82.0, 38.0, 60.0, 118.0, 47.0, 30.0, 51.0, 35.0, 21.360368173850038, 17.44683541102714, 34.846848773597074, 16.446433837696585, 142.57770973880943, 12.47709539414078, 87.11130668415377, 10.810775380834949, 10.754969700102038, 10.394083975110242, 9.255915811116747, 8.89497561280797, 8.645578014564892, 8.589827700154158, 7.451510404292867, 7.340112024566386, 7.340034333114299, 7.339845462515263, 7.034895350512451, 6.979070470167818, 14.437250730272535, 6.674029718137572, 6.6183780808010395, 6.562608566778582, 6.257484318762474, 6.201860811089627, 6.201821518860987, 6.201538882716329, 6.201531738674757, 11.643928689948892, 42.54426066078914, 11.78831512813268, 16.55800947895455, 71.92633198688011, 32.85428270686748, 20.543504172523477, 29.03697839799736, 18.60098033098928, 34.53570075902871, 25.04754733752274, 12.359035642151815, 13.222272510321801, 20.33404444567862, 10.934637880590067, 78.45612886372768, 38.91727361937403, 691.4114879591639, 855.3735859255959, 83.36569997649156, 27.263571880555826, 18.455254385010903, 39.34943812613661, 49.66652004917239, 43.57571023878785, 76.92526077161574, 61.71370309565589, 103.30136944602866, 49.63861185077476, 35.67391089426643, 44.75699537267872, 33.47442123544973, 81.43785892639643, 45.3762873323348, 41.48770692070948, 34.108769262716976, 45.178283076149256, 45.73396806167675, 33.75459982980724, 32.25760163878404, 10.771915314820658, 9.760754984692772, 8.30848818664598, 8.30848818664598, 7.193104710997378, 6.90815135542125, 6.8561065389939415, 6.5190703230587665, 6.233992786346965, 6.181989602901559, 6.129861520510446, 6.129263584753134, 5.8449067293142525, 5.84487012100258, 5.507823855726946, 5.118668888931086, 5.06662371359876, 4.729621952545159, 4.392576405079558, 4.3925681502641805, 4.0034802987063856, 4.003418567043566, 4.003315920208878, 4.003288643427632, 6.121148024522431, 2.9402144972034208, 2.9402004999077818, 2.9401314106921257, 2.940103416100847, 2.94009713526306, 12.000745077101271, 6.122132859887416, 5.700520676838972, 8.365956057871003, 9.815858389669792, 19.135298023724115, 40.70193922058738, 12.734542892749763, 19.397835607596335, 7.634241326937662, 323.83702168762085, 31.45399920827902, 64.97648000440235, 13.97355335472541, 208.60014357261886, 22.4867875216938, 18.800445385908684, 37.570283352019274, 9.622470317496191, 9.575767443332893, 8.24283440980704, 22.816559500097156, 30.23270860477278, 9.075156677125943, 33.44554304556896, 14.585938627998008, 12.55038872883795, 12.194053472361231, 16.222269863702515, 18.466052146514233, 16.289250153482048, 11.824661251388095, 12.089036428944253, 10.032810729599763, 10.685737913524239, 10.91403093416223, 10.743060069312605, 10.931927373899706, 10.534889417323765, 28.475024434322183, 13.862466819608203, 12.809657901028668, 11.219229823889311, 9.481236591025972, 8.84505734870084, 6.788514514123083, 23.090420805864287, 6.470768096161934, 5.785417442047572, 5.7853678795674455, 5.467266376988411, 4.781940504114111, 4.51288277296453, 4.512884130840698, 4.463776878700398, 4.096583400087951, 3.8275793050469993, 3.7784951368015522, 3.7784639056496925, 3.778434032374, 3.778414682638609, 3.778381075203455, 3.77834543095405, 3.4601682267786584, 3.1421689043812524, 3.093136674899225, 3.0931346380849734, 3.0930993333046097, 3.092997492592023, 13.809946885189122, 25.225825014640733, 26.74988349938729, 5.182151760154315, 7.934877027037163, 28.413621274013195, 9.578645874739053, 20.613460499461983, 44.73240325076811, 24.205326759474563, 44.52625863822613, 12.582648163291914, 301.3967144283006, 19.639063498069593, 196.2025039533963, 32.01748708572083, 14.661236117454287, 29.66746240136285, 27.805376939150616, 16.2931371274494, 16.98701863858811, 17.716078647606633, 38.71673753632353, 23.050583434852676, 28.728545346359525, 17.334753072777563, 18.001100928861316, 19.43210415982692, 18.38309865239346, 12.886194591228048, 12.021877618321048, 7.695149814481075, 15.752543841816284, 5.761885378586746, 5.713366053066189, 5.713303668496422, 5.713164124064045, 5.0365886896368375, 5.036585953471497, 4.8193585036746445, 4.770885145731811, 4.72234940321921, 4.722227370245014, 4.722210406019903, 4.722185780531836, 4.456681155847079, 21.094668075921973, 8.267059810596493, 3.779880261395797, 6.704408422867371, 3.731391307310522, 3.731387476679045, 3.731271736885133, 3.7311691306848567, 3.417205923350106, 8.864456639627493, 11.855879939431254, 3.1030454384942905, 3.1030407870132115, 3.1030339465998598, 28.835306091959172, 6.68639952982793, 4.7450962401626136, 9.965877013738787, 11.23499148925111, 23.496495901314145, 16.361486194118918, 10.42333649705099, 9.603205959091504, 5.312369530491674, 8.777108938990082, 28.201557664677722, 42.71598450089344, 7.312076269354304, 160.0180412648982, 11.654782731550917, 125.94970075650103, 27.666720519996566, 30.659851186972926, 13.054759239579994, 12.411736306259696, 15.13934292177738, 15.60426447520675, 28.36208082395384, 21.406875485957592, 14.44946479869674, 18.62349487613501, 18.354560468195682, 11.461062225429115, 11.491273868655027, 11.76395353971271, 11.76931642378049, 12.383229841274112, 10.598375560692602, 17.939934734730123, 23.38912047159214, 10.28497907250903, 8.382818542000077, 8.03481889502932, 7.083770127792776, 6.782191400613893, 6.480742960691004, 6.132712292945009, 5.483163985085213, 5.483110056660571, 4.532104241266663, 4.532104241266663, 4.532104241266663, 26.506950822142535, 3.8824812449249513, 3.58105070160316, 3.581048076768332, 3.5810313732739742, 3.5809106308719003, 3.2794559867939634, 2.9780039675508547, 6.081613917490176, 2.6299799812026032, 2.629909587904951, 2.629875703673539, 2.6297077142445664, 7.3370027381443395, 2.328407935421464, 2.3283232248429337, 5.388359246293039, 5.108111358652115, 10.053708216539464, 21.06287158212713, 4.547123068908053, 47.397312532481024, 17.69273638102609, 11.084727110607426, 55.55099635681859, 39.654145239312236, 9.737459526129928, 6.179196686015446, 22.837494729057127, 26.715383706140347, 19.754142299832584, 156.24353174004878, 182.0732809035577, 22.643510844921746, 44.64961252719775, 16.908305924496744, 12.69107066500564, 24.8347019604051, 13.720968038738132, 13.962077730127302, 14.65642671882624, 9.473305693924358, 10.246743342195305, 10.120763678775916, 9.898493620051873, 16.650370755539715, 12.490146630343059, 8.59127984506864, 5.976163897604366, 5.928549625760387, 5.928549625760387, 5.928549625760387, 5.928549625760387, 15.977385351866186, 5.667142440078459, 4.644768524453283, 19.622258618110177, 4.335803588458457, 13.161277949776574, 3.7177900468007503, 3.670064734626027, 3.669963930478076, 3.669833085358882, 3.361082219099881, 3.0520592038939847, 2.7430784685735423, 2.695391875872866, 2.695384977575766, 2.6953680656215844, 2.6953487058845607, 2.6953010853819968, 2.69527082188504, 2.695210072365414, 2.695168905108525, 2.6949875466524986, 14.699196766776078, 6.2594867506485, 24.618019619853804, 4.606909334812099, 10.196941719799616, 8.4514073027527, 8.169646135161807, 24.916084801378595, 13.284170890094199, 6.016236773037634, 21.034745031356263, 25.308200030415748, 22.522135379775445, 27.921691540175736, 149.1054439005994, 6.892521668030862, 114.34828762033864, 9.242334004580055, 8.220203977136235, 27.287124755785662, 13.258551949817651, 13.290390038718765, 16.330661833073897, 12.491812902881371, 8.896873516512793, 9.590404274208392, 8.440704706064311, 9.622454207588202, 9.111774535568589, 8.105409456976867, 8.105411036500543, 7.449687577740715, 6.537620457473477, 5.929385378025722, 5.227117305350093, 4.922921184323346, 4.267747794683604, 3.6125262295717513, 3.6124918749318033, 3.6124539663635846, 3.6119907710456647, 3.3082689020025677, 3.3081411580252897, 3.004201709595855, 2.9572606352374367, 6.153344460489704, 6.102789435961119, 2.653076163197798, 2.653033121177633, 2.65298198409863, 2.652987709871955, 2.6528368653609187, 2.6527569019748327, 2.3488954425268895, 1.9978555852882427, 1.9978551904073238, 1.9978328796354035, 1.997822217850592, 5.520591619665702, 6.650173760680692, 10.573908801518698, 20.101888615414946, 44.64348026535729, 10.64021720542759, 9.442658683502092, 14.489424001147988, 16.005168090415623, 29.92704238295638, 6.023803775030483, 35.31574535521883, 126.07804733909849, 106.91444475232582, 12.250788788332011, 10.963912941112657, 21.175617219730977, 7.631334379978126, 6.2593072011597615, 8.813086608480177, 9.090353035477774, 7.746998949945692, 6.861506920642394, 6.043983374631223, 18.408272487336383, 12.117188934301037, 7.43675873801769, 6.556511184707418, 5.9553231091585035, 4.795965153822894, 4.194561793660992, 9.283402452504852, 3.314516412728073, 3.0354304055597314, 3.0354063156384483, 6.470688248181695, 2.713309431164987, 2.713306381807863, 2.713263080936695, 2.43423455415015, 2.1551447352854036, 2.1551384841032983, 1.833044039115537, 1.8330415996298373, 1.8330390076762815, 1.8330390076762815, 1.8330362632548693, 1.8330309268799017, 1.8330304694763329, 1.8330280299906334, 1.8330280299906334, 1.8330283349263456, 1.8330283349263456, 1.833027725054921, 5.397162682378894, 7.227499044835747, 5.728164909398695, 3.5935487512110234, 11.369762229261868, 16.253908997346272, 10.55427875217564, 6.137296544919148, 11.108260339951858, 11.991127291032061, 3.6771020512289936, 5.571399289243301, 8.490542765796587, 13.722448588171252, 5.099069117446513, 7.276311324070194, 5.478657971273551, 72.52529997727777, 58.70273977496689, 20.47107841979247, 15.686206522252732, 10.353716435384147, 8.381962477050848, 10.640596294426954, 9.773138354768188, 7.406705493941636, 9.11639160228262, 6.0704991573645, 5.882495922825902, 5.89179540408006, 5.615674279698392, 4.149948774600558, 3.555279667394163, 3.584385631920651, 3.27915325993842, 3.279104957546881, 3.2790805547761557, 3.279042315382854, 3.0030824505479377, 3.003077419048819, 2.4508978124495084, 2.4082269262991978, 2.4081964857295297, 2.408159755785964, 13.33497808890252, 2.1321988846512236, 2.1321888216529863, 2.1321780039298814, 2.132163915732349, 1.8560942384291683, 1.8134999568529386, 1.8134999568529386, 1.813498447403203, 1.813498070040769, 1.8134976926783353, 1.8134941706289522, 1.8134898938547013, 1.813491529091915, 1.813487629680098, 5.020923913781231, 4.4609885028655105, 14.898664366090497, 3.8398957233127686, 2.8030237562173594, 2.393613188684096, 23.26922630151328, 5.0263609517288215, 2.6272719825539212, 2.5785019131720084, 8.35048424133981, 3.2886660637470553, 52.27174521872167, 4.6711315793046, 38.82243536904672, 11.298348001660443, 3.8788604072122976, 7.179991003725932, 5.362278927385834, 3.83261841456254, 3.1814116096348934, 9.584392984395148, 3.7762258755908604, 6.851907575346536, 4.4241780553136225, 3.6776686192802046, 3.6673135425191106, 3.9387226679761835, 3.7404604704059117, 3.424389243022331, 3.5314306131468185, 3.856102029415314, 3.6391389590152956, 3.599483098653309, 3.343018667148498, 3.30344183000352, 3.0467115573023373, 2.790277670931283, 2.533773038089141, 2.494241131850592, 2.4942409347852132, 2.4942364022814942, 2.494236008150736, 2.2376825030945833, 2.2376809265715507, 2.2375792408359483, 2.2375352952564147, 4.152238874773954, 1.981119144769477, 1.6850412219591804, 1.6850412219591804, 1.6850412219591804, 1.6850412219591804, 1.6850412219591804, 1.6850412219591804, 1.6850412219591804, 1.6850412219591804, 1.6850412219591804, 1.6850406307630432, 1.6850396454361478, 1.6850396454361478, 7.465994515522114, 3.8956881286331084, 12.786045585608834, 2.7553166961603752, 3.494518983404406, 2.2375557900558385, 3.7880313120445273, 2.7903730505747553, 3.8560992705000072, 9.66543332876116, 3.046876501024623, 2.8580344631532038, 3.103026536549794, 4.033222421473983, 19.12780260830845, 20.51897382796449, 5.823671746981122, 6.37230964494062, 3.0183908975447347, 4.167809010374657, 3.9793195224664024, 2.7903813273206763, 2.631875928034795], \"Total\": [2243.0, 150.0, 133.0, 82.0, 1716.0, 121.0, 149.0, 124.0, 271.0, 213.0, 130.0, 58.0, 110.0, 88.0, 82.0, 241.0, 92.0, 82.0, 172.0, 108.0, 125.0, 77.0, 82.0, 38.0, 60.0, 118.0, 47.0, 30.0, 51.0, 35.0, 22.061192816891282, 18.147241256244953, 36.25690683892895, 17.14703965477966, 149.63081297609077, 13.17741898195469, 92.03768225280467, 11.511169896795591, 11.455476251151461, 11.094595095450238, 9.956295353055342, 9.595405152023922, 9.345898618948755, 9.29020822224428, 8.15188731078591, 8.040521624829399, 8.040518374636363, 8.040469432568011, 7.735320710482037, 7.679606217042771, 15.951308539053008, 7.374432769536868, 7.318765836597172, 7.263080322900046, 6.957890251312788, 6.9022192778965925, 6.90221266749058, 6.902169649796728, 6.9021693499288315, 13.009995838444105, 48.20348772149314, 13.232551479889773, 18.724124387664364, 84.80309551150447, 38.562523631297886, 23.954158057364886, 35.51981524545523, 22.115171780075713, 43.85998291369106, 31.44814665729086, 14.375522306907419, 15.59081321853117, 25.495346674436796, 12.634590434344366, 125.7003313608597, 55.396953994712625, 1716.3230781067152, 2243.1981544736354, 140.4584130740984, 36.93623411290494, 23.316994529786143, 61.26043343220959, 82.80264807469848, 70.45179189804297, 150.1844476707623, 118.11641764807945, 271.93066239200044, 97.72966374644935, 60.90148752334208, 88.7866001861074, 56.57406043727892, 241.73023928271164, 121.80261617958311, 124.74466323881006, 82.12819358341116, 172.55902122569478, 213.49863086173457, 105.98457724591549, 110.5525215636146, 11.478577599854363, 10.467351024713732, 9.015013947319098, 9.015013947319098, 7.899744015815269, 7.6146770348438455, 7.562663744235997, 7.225589632898914, 6.940512616798294, 6.888506363231112, 6.836481714290319, 6.836438204420905, 6.5514242452296525, 6.551419921167922, 6.21434166311583, 5.825252308757258, 5.773238333598902, 5.436157764340747, 5.09908365559384, 5.09907924643425, 4.70999333116907, 4.709982599155254, 4.709979587493031, 4.70996485901893, 7.472293557444063, 3.6467388380239907, 3.6467362518516264, 3.646724009062974, 3.6467270414555104, 3.64673261453225, 14.918164714887304, 7.7584788686791075, 7.283360244741213, 11.202425788308297, 14.378658721879136, 33.20449846182733, 88.7866001861074, 21.224024082042355, 37.932512343416334, 11.024713459361696, 2243.1981544736354, 82.80264807469848, 241.73023928271164, 26.616940985412526, 1716.3230781067152, 56.57406043727892, 43.39721151361671, 130.73948609862245, 15.515520403830962, 15.85728521394802, 12.44312582552427, 108.35158685578858, 213.49863086173457, 15.813938658184703, 271.93066239200044, 45.82838778809844, 34.50379876950704, 33.70185551843966, 105.98457724591549, 172.55902122569478, 124.74466323881006, 40.03512725928676, 45.404670293125186, 35.949311893390814, 61.26043343220959, 84.80309551150447, 97.72966374644935, 140.4584130740984, 82.48997397942767, 29.18652982270771, 14.573988484478434, 13.521408462502778, 11.930716998830038, 10.192765101584289, 9.556498696867935, 7.500404568791668, 25.55052938721494, 7.182270231141234, 6.4969254568572845, 6.496908213093039, 6.178774218097521, 5.493419579969173, 5.224355299165849, 5.224360501725317, 5.17528082214726, 4.808059342439384, 4.539004563494849, 4.489920789919685, 4.489921145782304, 4.489912563174344, 4.4899159939798885, 4.489921950817646, 4.489904349848646, 4.171758346763411, 3.8536449493495946, 3.80456015023309, 3.8045602647034586, 3.804555873300307, 3.804551693748399, 17.87088161570211, 33.48983109207213, 37.737282933649574, 6.636819858388384, 10.850321728561905, 47.001198077452166, 13.869838206983609, 36.50120507387908, 121.80261617958311, 54.67231217025536, 133.87167030711748, 23.40525055599065, 2243.1981544736354, 46.75878655482043, 1716.3230781067152, 118.11641764807945, 34.58528063613435, 108.35158685578858, 97.72966374644935, 41.5055842452883, 47.30652995058524, 51.75418017147935, 241.73023928271164, 124.74466323881006, 213.49863086173457, 66.94519731966913, 82.57298104315564, 105.98457724591549, 172.55902122569478, 35.287496087146785, 12.734473089042055, 8.407845304984999, 17.669351539029584, 6.474336893147542, 6.42586362884253, 6.4258623384560405, 6.425857220768584, 5.749044211588544, 5.749043455476301, 5.531812596222928, 5.483340194255044, 5.434861981178677, 5.434865011712012, 5.434870443878847, 5.43485993111291, 5.169162918809679, 24.745724732756784, 9.796337803491381, 4.492345706615231, 7.9695233359529976, 4.443871321112393, 4.443873186817723, 4.44386580478572, 4.443855574440011, 4.129697686747078, 10.780855539468181, 14.498735249976823, 3.815524405685773, 3.8155265606551714, 3.8155195465588134, 38.43763298641332, 9.155024390637267, 6.211383644221732, 14.79120118597876, 17.600371083776874, 47.03559267149493, 29.859779120519896, 16.901177713738605, 15.234246893122881, 7.181261878340938, 14.555271115540425, 82.48997397942767, 213.49863086173457, 11.396616194803414, 2243.1981544736354, 25.66743571410255, 1716.3230781067152, 125.7003313608597, 172.55902122569478, 40.03512725928676, 37.021134044041695, 58.595956077430145, 62.81340227622624, 271.93066239200044, 140.4584130740984, 57.116773565264054, 105.98457724591549, 110.5525215636146, 33.31969596986344, 35.949311893390814, 61.46771361202071, 77.85740302043415, 241.73023928271164, 36.47399874496247, 18.655720602435597, 24.8681880063182, 11.000723538753322, 9.098605747411542, 8.750574764728425, 7.799514172109798, 7.498005118315906, 7.196486634869954, 6.848453940243273, 6.198907898673277, 6.198906912400642, 5.247848554644419, 5.247848554644419, 5.247848554644419, 30.7820215884446, 4.598302357575826, 4.296788554666439, 4.2967887218009, 4.2967895071859115, 4.296798325144309, 3.9952764619084653, 3.6937618854220453, 7.635951199352304, 3.345731195982694, 3.345727849106152, 3.345734807318861, 3.3457423543787153, 9.335556273813035, 3.0442193427659943, 3.044223980571668, 7.05068684853563, 6.689276431036312, 13.403547055792709, 28.83667806630581, 5.97250488698492, 82.12819358341116, 28.386203767232526, 16.97654896411259, 150.1844476707623, 130.73948609862245, 17.677652518374536, 9.26919372227576, 64.08627545438142, 82.57298104315564, 57.116773565264054, 1716.3230781067152, 2243.1981544736354, 83.3358326833863, 271.93066239200044, 61.46771361202071, 44.80904915527704, 241.73023928271164, 77.85740302043415, 118.11641764807945, 213.49863086173457, 66.94519731966913, 124.74466323881006, 140.4584130740984, 172.55902122569478, 17.364198406553523, 13.204005797536816, 9.305150602919001, 6.690022089907017, 6.642346693148209, 6.642346693148209, 6.642346693148209, 6.642346693148209, 17.931966521791725, 6.381008473983721, 5.358616999400732, 22.680652449708298, 5.049607706205385, 15.53139722038214, 4.431581185606518, 4.383907034388888, 4.383901587279638, 4.383900689942971, 4.07489432279972, 3.765881524913115, 3.456867068458987, 3.4091925627403215, 3.409193782098173, 3.4091928900776285, 3.4091944242494865, 3.4091927848214487, 3.4091867994733915, 3.4091812164887747, 3.4092038194438663, 3.4091732318228773, 18.75549470451159, 8.064626928891373, 35.38638254195264, 6.198100399446101, 15.224299150073824, 12.650549738765086, 13.273353878649111, 58.595956077430145, 29.40463404406728, 10.22416790995734, 60.148433970696125, 82.48997397942767, 77.85740302043415, 110.5525215636146, 2243.1981544736354, 12.749934708213107, 1716.3230781067152, 21.34150528756553, 17.7205924451969, 172.55902122569478, 46.23721099601685, 55.396953994712625, 108.35158685578858, 66.94519731966913, 35.949311893390814, 54.67231217025536, 32.69758000782768, 62.81340227622624, 9.826877345069605, 8.820525270908218, 8.820529856879713, 8.165289983064596, 7.252779194313074, 6.644447982888914, 5.942267333828231, 5.638099565403622, 4.982843886370557, 4.32758536412124, 4.327585799475069, 4.32758011597558, 4.327519353587789, 4.023424637940082, 4.023425298502858, 3.7192555020173756, 3.672330242473306, 7.685298721721229, 7.694743694889789, 3.3681646584349623, 3.3681616137273864, 3.3681529601005877, 3.36816937237418, 3.368164764286892, 3.3681514740464467, 3.0639966020681, 2.712906302956805, 2.712906801359291, 2.7129067538859566, 2.7129041626499415, 8.580749725396252, 10.796123022796978, 18.766230970156833, 43.98738200687604, 133.87167030711748, 21.326814047622907, 19.469448075342385, 37.606467318826894, 45.404670293125186, 121.80261617958311, 11.878548750388388, 213.49863086173457, 2243.1981544736354, 1716.3230781067152, 70.45179189804297, 57.116773565264054, 271.93066239200044, 33.48983109207213, 21.074591792992127, 83.3358326833863, 124.74466323881006, 108.35158685578858, 172.55902122569478, 130.73948609862245, 19.12990786567155, 12.838824977515792, 8.158386952775732, 7.2781101921359515, 6.676909486880343, 5.517564134229573, 4.916373442961226, 11.1946329868534, 4.036084986120157, 3.757016586095151, 3.7570184414645302, 8.022115769109847, 3.434885328370215, 3.4348865093714975, 3.434889758602384, 3.155813489329197, 2.8767451313201384, 2.876741512185801, 2.554610544613717, 2.5546110717022934, 2.5546120770280236, 2.5546120770280236, 2.554613198774679, 2.5546113811266853, 2.5546133702207605, 2.5546121416157215, 2.55461267817552, 2.5546134811239325, 2.5546134811239325, 2.5546136087868616, 7.584455429069451, 10.269362040629236, 8.513529061739648, 5.274583123926292, 18.936916051838782, 31.633798748131614, 21.698623456316508, 12.605976326804191, 29.859779120519896, 34.58528063613435, 6.745692804912281, 12.142327009534302, 23.392930427589537, 51.75418017147935, 11.23166787452434, 21.506341492979413, 13.341353500706484, 2243.1981544736354, 1716.3230781067152, 271.93066239200044, 172.55902122569478, 105.98457724591549, 58.595956077430145, 130.73948609862245, 108.35158685578858, 60.148433970696125, 213.49863086173457, 33.70185551843966, 24.97221337493755, 6.614220363173526, 6.338120359265385, 4.872436134922003, 4.27763217368186, 4.322090095129194, 4.0015424630066665, 4.001539512341827, 4.001541753164988, 4.001553392841703, 3.725436654558067, 3.725438272778683, 3.1732369907221347, 3.1306499977436575, 3.1306552349303036, 3.130648214819748, 17.718174438420196, 2.8545421966461975, 2.8545446694622365, 2.8545478506626942, 2.8545488184237358, 2.5784463541060574, 2.5358483455307925, 2.5358483455307925, 2.535847871479958, 2.5358490977012997, 2.5358485940359006, 2.535848311186398, 2.535848564845748, 2.535852013910399, 2.535850954150878, 7.432172665660403, 7.525822188025215, 35.35899679656009, 6.675326649498012, 4.744021696906038, 3.860035200221266, 124.74466323881006, 11.933584360984847, 4.454085012149616, 4.4263621800092094, 36.50120507387908, 6.90254047693834, 2243.1981544736354, 15.607696375043643, 1716.3230781067152, 110.5525215636146, 10.94941930479617, 60.148433970696125, 29.40463404406728, 12.175310280624041, 7.085622559131976, 241.73023928271164, 13.273353878649111, 213.49863086173457, 35.38638254195264, 14.903296386728947, 21.27022934332081, 118.11641764807945, 62.81340227622624, 11.872087681925196, 46.23721099601685, 4.583528481272779, 4.366569080512429, 4.3270090774416445, 4.070448940698299, 4.030868130983499, 3.774365600207809, 3.5178077415411777, 3.2612581233374662, 3.2216676485384026, 3.221667603572315, 3.221668680987836, 3.2216694280599607, 2.965129516330368, 2.965132316145594, 2.965149147994903, 2.9651550126884407, 5.529196395951129, 2.708593787605211, 2.412466950166839, 2.412466950166839, 2.412466950166839, 2.412466950166839, 2.412466950166839, 2.412466950166839, 2.412466950166839, 2.412466950166839, 2.412466950166839, 2.412466406098047, 2.4124666213780106, 2.4124676515332566, 10.806438495748647, 6.088797690750934, 23.392930427589537, 4.190656266415214, 6.041062336484791, 3.742588995414975, 8.859280569949522, 5.43353737582526, 10.34087721518852, 58.595956077430145, 7.109966001101202, 6.710242819990775, 8.656346352413157, 17.689468968302986, 1716.3230781067152, 2243.1981544736354, 110.5525215636146, 271.93066239200044, 11.435399520459164, 125.7003313608597, 241.73023928271164, 10.23284926388434, 11.3899861488958], \"Category\": [\"Default\", \"Default\", \"Default\", \"Default\", \"Default\", \"Default\", \"Default\", \"Default\", \"Default\", \"Default\", \"Default\", \"Default\", \"Default\", \"Default\", \"Default\", \"Default\", \"Default\", \"Default\", \"Default\", \"Default\", \"Default\", \"Default\", \"Default\", \"Default\", \"Default\", \"Default\", \"Default\", \"Default\", \"Default\", \"Default\", \"Topic1\", \"Topic1\", \"Topic1\", \"Topic1\", \"Topic1\", \"Topic1\", \"Topic1\", \"Topic1\", \"Topic1\", \"Topic1\", \"Topic1\", \"Topic1\", \"Topic1\", \"Topic1\", \"Topic1\", \"Topic1\", \"Topic1\", \"Topic1\", \"Topic1\", \"Topic1\", \"Topic1\", \"Topic1\", \"Topic1\", \"Topic1\", \"Topic1\", \"Topic1\", \"Topic1\", \"Topic1\", \"Topic1\", \"Topic1\", \"Topic1\", \"Topic1\", \"Topic1\", \"Topic1\", \"Topic1\", \"Topic1\", \"Topic1\", \"Topic1\", \"Topic1\", \"Topic1\", \"Topic1\", \"Topic1\", \"Topic1\", \"Topic1\", \"Topic1\", \"Topic1\", \"Topic1\", \"Topic1\", \"Topic1\", \"Topic1\", \"Topic1\", \"Topic1\", \"Topic1\", \"Topic1\", \"Topic1\", \"Topic1\", \"Topic1\", \"Topic1\", \"Topic1\", \"Topic1\", \"Topic1\", \"Topic1\", \"Topic1\", \"Topic1\", \"Topic1\", \"Topic1\", \"Topic1\", \"Topic1\", \"Topic1\", \"Topic2\", \"Topic2\", \"Topic2\", \"Topic2\", \"Topic2\", \"Topic2\", \"Topic2\", \"Topic2\", \"Topic2\", \"Topic2\", \"Topic2\", \"Topic2\", \"Topic2\", \"Topic2\", \"Topic2\", \"Topic2\", \"Topic2\", \"Topic2\", \"Topic2\", \"Topic2\", \"Topic2\", \"Topic2\", \"Topic2\", \"Topic2\", \"Topic2\", \"Topic2\", \"Topic2\", \"Topic2\", \"Topic2\", \"Topic2\", \"Topic2\", \"Topic2\", \"Topic2\", \"Topic2\", \"Topic2\", \"Topic2\", \"Topic2\", \"Topic2\", \"Topic2\", \"Topic2\", \"Topic2\", \"Topic2\", \"Topic2\", \"Topic2\", \"Topic2\", \"Topic2\", \"Topic2\", \"Topic2\", \"Topic2\", \"Topic2\", \"Topic2\", \"Topic2\", \"Topic2\", \"Topic2\", \"Topic2\", \"Topic2\", \"Topic2\", \"Topic2\", \"Topic2\", \"Topic2\", \"Topic2\", \"Topic2\", \"Topic2\", \"Topic2\", \"Topic2\", \"Topic2\", \"Topic2\", \"Topic2\", \"Topic2\", \"Topic3\", \"Topic3\", \"Topic3\", \"Topic3\", \"Topic3\", \"Topic3\", \"Topic3\", \"Topic3\", \"Topic3\", \"Topic3\", \"Topic3\", \"Topic3\", \"Topic3\", \"Topic3\", \"Topic3\", \"Topic3\", \"Topic3\", \"Topic3\", \"Topic3\", \"Topic3\", \"Topic3\", \"Topic3\", \"Topic3\", \"Topic3\", \"Topic3\", \"Topic3\", \"Topic3\", \"Topic3\", \"Topic3\", \"Topic3\", \"Topic3\", \"Topic3\", \"Topic3\", \"Topic3\", \"Topic3\", \"Topic3\", \"Topic3\", \"Topic3\", \"Topic3\", \"Topic3\", \"Topic3\", \"Topic3\", \"Topic3\", \"Topic3\", \"Topic3\", \"Topic3\", \"Topic3\", \"Topic3\", \"Topic3\", \"Topic3\", \"Topic3\", \"Topic3\", \"Topic3\", \"Topic3\", \"Topic3\", \"Topic3\", \"Topic3\", \"Topic3\", \"Topic3\", \"Topic3\", \"Topic4\", \"Topic4\", \"Topic4\", \"Topic4\", \"Topic4\", \"Topic4\", \"Topic4\", \"Topic4\", \"Topic4\", \"Topic4\", \"Topic4\", \"Topic4\", \"Topic4\", \"Topic4\", \"Topic4\", \"Topic4\", \"Topic4\", \"Topic4\", \"Topic4\", \"Topic4\", \"Topic4\", \"Topic4\", \"Topic4\", \"Topic4\", \"Topic4\", \"Topic4\", \"Topic4\", \"Topic4\", \"Topic4\", \"Topic4\", \"Topic4\", \"Topic4\", \"Topic4\", \"Topic4\", \"Topic4\", \"Topic4\", \"Topic4\", \"Topic4\", \"Topic4\", \"Topic4\", \"Topic4\", \"Topic4\", \"Topic4\", \"Topic4\", \"Topic4\", \"Topic4\", \"Topic4\", \"Topic4\", \"Topic4\", \"Topic4\", \"Topic4\", \"Topic4\", \"Topic4\", \"Topic4\", \"Topic4\", \"Topic4\", \"Topic4\", \"Topic4\", \"Topic4\", \"Topic4\", \"Topic4\", \"Topic4\", \"Topic4\", \"Topic4\", \"Topic5\", \"Topic5\", \"Topic5\", \"Topic5\", \"Topic5\", \"Topic5\", \"Topic5\", \"Topic5\", \"Topic5\", \"Topic5\", \"Topic5\", \"Topic5\", \"Topic5\", \"Topic5\", \"Topic5\", \"Topic5\", \"Topic5\", \"Topic5\", \"Topic5\", \"Topic5\", \"Topic5\", \"Topic5\", \"Topic5\", \"Topic5\", \"Topic5\", \"Topic5\", \"Topic5\", \"Topic5\", \"Topic5\", \"Topic5\", \"Topic5\", \"Topic5\", \"Topic5\", \"Topic5\", \"Topic5\", \"Topic5\", \"Topic5\", \"Topic5\", \"Topic5\", \"Topic5\", \"Topic5\", \"Topic5\", \"Topic5\", \"Topic5\", \"Topic5\", \"Topic5\", \"Topic5\", \"Topic5\", \"Topic5\", \"Topic5\", \"Topic5\", \"Topic5\", \"Topic5\", \"Topic5\", \"Topic5\", \"Topic5\", \"Topic5\", \"Topic5\", \"Topic5\", \"Topic6\", \"Topic6\", \"Topic6\", \"Topic6\", \"Topic6\", \"Topic6\", \"Topic6\", \"Topic6\", \"Topic6\", \"Topic6\", \"Topic6\", \"Topic6\", \"Topic6\", \"Topic6\", \"Topic6\", \"Topic6\", \"Topic6\", \"Topic6\", \"Topic6\", \"Topic6\", \"Topic6\", \"Topic6\", \"Topic6\", \"Topic6\", \"Topic6\", \"Topic6\", \"Topic6\", \"Topic6\", \"Topic6\", \"Topic6\", \"Topic6\", \"Topic6\", \"Topic6\", \"Topic6\", \"Topic6\", \"Topic6\", \"Topic6\", \"Topic6\", \"Topic6\", \"Topic6\", \"Topic6\", \"Topic6\", \"Topic6\", \"Topic6\", \"Topic6\", \"Topic6\", \"Topic6\", \"Topic6\", \"Topic6\", \"Topic6\", \"Topic6\", \"Topic6\", \"Topic6\", \"Topic6\", \"Topic6\", \"Topic6\", \"Topic6\", \"Topic6\", \"Topic7\", \"Topic7\", \"Topic7\", \"Topic7\", \"Topic7\", \"Topic7\", \"Topic7\", \"Topic7\", \"Topic7\", \"Topic7\", \"Topic7\", \"Topic7\", \"Topic7\", \"Topic7\", \"Topic7\", \"Topic7\", \"Topic7\", \"Topic7\", \"Topic7\", \"Topic7\", \"Topic7\", \"Topic7\", \"Topic7\", \"Topic7\", \"Topic7\", \"Topic7\", \"Topic7\", \"Topic7\", \"Topic7\", \"Topic7\", \"Topic7\", \"Topic7\", \"Topic7\", \"Topic7\", \"Topic7\", \"Topic7\", \"Topic7\", \"Topic7\", \"Topic7\", \"Topic7\", \"Topic7\", \"Topic7\", \"Topic7\", \"Topic7\", \"Topic7\", \"Topic7\", \"Topic7\", \"Topic7\", \"Topic7\", \"Topic7\", \"Topic7\", \"Topic7\", \"Topic7\", \"Topic7\", \"Topic8\", \"Topic8\", \"Topic8\", \"Topic8\", \"Topic8\", \"Topic8\", \"Topic8\", \"Topic8\", \"Topic8\", \"Topic8\", \"Topic8\", \"Topic8\", \"Topic8\", \"Topic8\", \"Topic8\", \"Topic8\", \"Topic8\", \"Topic8\", \"Topic8\", \"Topic8\", \"Topic8\", \"Topic8\", \"Topic8\", \"Topic8\", \"Topic8\", \"Topic8\", \"Topic8\", \"Topic8\", \"Topic8\", \"Topic8\", \"Topic8\", \"Topic8\", \"Topic8\", \"Topic8\", \"Topic8\", \"Topic8\", \"Topic8\", \"Topic8\", \"Topic8\", \"Topic8\", \"Topic8\", \"Topic8\", \"Topic8\", \"Topic8\", \"Topic8\", \"Topic8\", \"Topic8\", \"Topic8\", \"Topic8\", \"Topic8\", \"Topic8\", \"Topic8\", \"Topic8\", \"Topic8\", \"Topic8\", \"Topic8\", \"Topic8\", \"Topic8\", \"Topic8\", \"Topic9\", \"Topic9\", \"Topic9\", \"Topic9\", \"Topic9\", \"Topic9\", \"Topic9\", \"Topic9\", \"Topic9\", \"Topic9\", \"Topic9\", \"Topic9\", \"Topic9\", \"Topic9\", \"Topic9\", \"Topic9\", \"Topic9\", \"Topic9\", \"Topic9\", \"Topic9\", \"Topic9\", \"Topic9\", \"Topic9\", \"Topic9\", \"Topic9\", \"Topic9\", \"Topic9\", \"Topic9\", \"Topic9\", \"Topic9\", \"Topic9\", \"Topic9\", \"Topic9\", \"Topic9\", \"Topic9\", \"Topic9\", \"Topic9\", \"Topic9\", \"Topic9\", \"Topic9\", \"Topic9\", \"Topic9\", \"Topic9\", \"Topic9\", \"Topic9\", \"Topic9\", \"Topic9\", \"Topic9\", \"Topic9\", \"Topic9\", \"Topic9\", \"Topic9\", \"Topic9\", \"Topic9\", \"Topic9\", \"Topic9\", \"Topic9\", \"Topic9\", \"Topic9\", \"Topic9\", \"Topic9\", \"Topic10\", \"Topic10\", \"Topic10\", \"Topic10\", \"Topic10\", \"Topic10\", \"Topic10\", \"Topic10\", \"Topic10\", \"Topic10\", \"Topic10\", \"Topic10\", \"Topic10\", \"Topic10\", \"Topic10\", \"Topic10\", \"Topic10\", \"Topic10\", \"Topic10\", \"Topic10\", \"Topic10\", \"Topic10\", \"Topic10\", \"Topic10\", \"Topic10\", \"Topic10\", \"Topic10\", \"Topic10\", \"Topic10\", \"Topic10\", \"Topic10\", \"Topic10\", \"Topic10\", \"Topic10\", \"Topic10\", \"Topic10\", \"Topic10\", \"Topic10\", \"Topic10\", \"Topic10\", \"Topic10\", \"Topic10\", \"Topic10\", \"Topic10\", \"Topic10\", \"Topic10\", \"Topic10\", \"Topic10\", \"Topic10\", \"Topic10\", \"Topic10\", \"Topic10\", \"Topic10\"], \"logprob\": [30.0, 29.0, 28.0, 27.0, 26.0, 25.0, 24.0, 23.0, 22.0, 21.0, 20.0, 19.0, 18.0, 17.0, 16.0, 15.0, 14.0, 13.0, 12.0, 11.0, 10.0, 9.0, 8.0, 7.0, 6.0, 5.0, 4.0, 3.0, 2.0, 1.0, -5.8836, -6.086, -5.3942, -6.1451, -3.9853, -6.4213, -4.478, -6.5646, -6.5698, -6.6039, -6.7199, -6.7597, -6.7881, -6.7946, -6.9368, -6.9518, -6.9518, -6.9519, -6.9943, -7.0023, -6.2754, -7.047, -7.0553, -7.0638, -7.1114, -7.1203, -7.1203, -7.1204, -7.1204, -6.4904, -5.1946, -6.4781, -6.1383, -4.6695, -5.4531, -5.9226, -5.5766, -6.022, -5.4032, -5.7244, -6.4308, -6.3633, -5.9329, -6.5532, -4.5826, -5.2837, -2.4064, -2.1936, -4.5219, -5.6396, -6.0298, -5.2727, -5.0399, -5.1707, -4.6023, -4.8227, -4.3075, -5.0404, -5.3708, -5.1439, -5.4344, -4.5453, -5.1302, -5.2198, -5.4156, -5.1346, -5.1223, -5.4261, -5.4714, -5.6567, -5.7553, -5.9164, -5.9164, -6.0605, -6.1009, -6.1085, -6.1589, -6.2036, -6.212, -6.2205, -6.2206, -6.2681, -6.2681, -6.3275, -6.4008, -6.411, -6.4798, -6.5537, -6.5537, -6.6465, -6.6465, -6.6465, -6.6465, -6.2219, -6.9552, -6.9552, -6.9552, -6.9552, -6.9552, -5.5487, -6.2217, -6.2931, -5.9095, -5.7496, -5.0821, -4.3274, -5.4893, -5.0685, -6.001, -2.2534, -4.5851, -3.8596, -5.3965, -2.6932, -4.9207, -5.0998, -4.4074, -5.7695, -5.7744, -5.9243, -4.9062, -4.6247, -5.8281, -4.5237, -5.3536, -5.5039, -5.5327, -5.2473, -5.1177, -5.2431, -5.5635, -5.5413, -5.7278, -5.6647, -5.6436, -5.6594, -5.642, -5.679, -4.6289, -5.3488, -5.4278, -5.5603, -5.7287, -5.7981, -6.0627, -4.8386, -6.1107, -6.2226, -6.2226, -6.2792, -6.4131, -6.471, -6.471, -6.482, -6.5678, -6.6357, -6.6486, -6.6487, -6.6487, -6.6487, -6.6487, -6.6487, -6.7367, -6.8331, -6.8488, -6.8488, -6.8488, -6.8488, -5.3526, -4.7501, -4.6914, -6.3328, -5.9067, -4.6311, -5.7184, -4.952, -4.1773, -4.7914, -4.1819, -5.4457, -2.2695, -5.0005, -2.6988, -4.5117, -5.2928, -4.5879, -4.6527, -5.1872, -5.1455, -5.1035, -4.3217, -4.8403, -4.6201, -5.1253, -5.0875, -5.011, -5.0665, -5.4218, -5.2756, -5.7217, -5.0053, -6.0111, -6.0195, -6.0195, -6.0195, -6.1456, -6.1456, -6.1897, -6.1998, -6.21, -6.21, -6.21, -6.21, -6.2679, -4.7133, -5.65, -6.4326, -5.8596, -6.4455, -6.4455, -6.4456, -6.4456, -6.5335, -5.5803, -5.2895, -6.6299, -6.6299, -6.6299, -4.4007, -5.8622, -6.2052, -5.4632, -5.3433, -4.6055, -4.9674, -5.4183, -5.5002, -6.0923, -5.5902, -4.4229, -4.0077, -5.7728, -2.687, -5.3066, -2.9264, -4.4421, -4.3394, -5.1932, -5.2437, -5.045, -5.0148, -4.4173, -4.6986, -5.0917, -4.8379, -4.8524, -5.3234, -5.3207, -5.2973, -5.2968, -5.246, -5.4016, -4.7384, -4.4732, -5.2948, -5.4993, -5.5417, -5.6677, -5.7112, -5.7566, -5.8118, -5.9238, -5.9238, -6.1143, -6.1143, -6.1143, -4.3481, -6.269, -6.3498, -6.3498, -6.3498, -6.3499, -6.4378, -6.5342, -5.8202, -6.6585, -6.6585, -6.6585, -6.6586, -5.6325, -6.7803, -6.7803, -5.9412, -5.9946, -5.3175, -4.578, -6.111, -3.7669, -4.7523, -5.2199, -3.6082, -3.9453, -5.3495, -5.8043, -4.4971, -4.3402, -4.6421, -2.5741, -2.4211, -4.5056, -3.8266, -4.7977, -5.0846, -4.4132, -5.0065, -4.9891, -4.9406, -5.377, -5.2985, -5.3109, -5.3331, -4.7432, -5.0307, -5.4049, -5.7679, -5.7759, -5.7759, -5.7759, -5.7759, -4.7845, -5.8209, -6.0199, -4.579, -6.0887, -4.9784, -6.2425, -6.2554, -6.2555, -6.2555, -6.3434, -6.4398, -6.5466, -6.5641, -6.5641, -6.5641, -6.5641, -6.5641, -6.5641, -6.5642, -6.5642, -6.5642, -4.8678, -5.7215, -4.3522, -6.0281, -5.2335, -5.4213, -5.4552, -4.3401, -4.9691, -5.7612, -4.5095, -4.3245, -4.4411, -4.2262, -2.551, -5.6252, -2.8164, -5.3318, -5.449, -4.2492, -4.971, -4.9686, -4.7626, -5.0306, -5.3699, -5.2949, -5.4226, -5.2915, -5.2265, -5.3435, -5.3435, -5.4279, -5.5585, -5.6561, -5.7822, -5.8421, -5.9849, -6.1516, -6.1516, -6.1516, -6.1518, -6.2396, -6.2396, -6.336, -6.3518, -5.619, -5.6273, -6.4603, -6.4603, -6.4603, -6.4603, -6.4604, -6.4604, -6.5821, -6.744, -6.744, -6.744, -6.744, -5.7275, -5.5414, -5.0776, -4.4352, -3.6373, -5.0714, -5.1908, -4.7626, -4.6631, -4.0373, -5.6403, -3.8717, -2.5991, -2.764, -4.9304, -5.0414, -4.3832, -5.4038, -5.602, -5.2598, -5.2288, -5.3887, -5.5101, -5.637, -4.2647, -4.6829, -5.1711, -5.2971, -5.3933, -5.6098, -5.7438, -4.9493, -5.9792, -6.0672, -6.0672, -5.3103, -6.1794, -6.1794, -6.1794, -6.2879, -6.4097, -6.4097, -6.5716, -6.5716, -6.5716, -6.5716, -6.5716, -6.5716, -6.5716, -6.5716, -6.5716, -6.5716, -6.5716, -6.5716, -5.4917, -5.1997, -5.4321, -5.8984, -4.7466, -4.3892, -4.821, -5.3632, -4.7699, -4.6934, -5.8754, -5.4599, -5.0386, -4.5585, -5.5485, -5.1929, -5.4767, -2.8936, -3.1051, -4.1585, -4.4248, -4.8402, -5.0515, -4.8129, -4.8979, -5.1752, -4.9675, -5.3741, -5.4056, -5.2116, -5.2596, -5.5621, -5.7168, -5.7086, -5.7976, -5.7976, -5.7976, -5.7976, -5.8855, -5.8855, -6.0887, -6.1063, -6.1063, -6.1063, -4.3948, -6.228, -6.228, -6.228, -6.228, -6.3667, -6.3899, -6.3899, -6.3899, -6.3899, -6.3899, -6.3899, -6.3899, -6.3899, -6.3899, -5.3716, -5.4898, -4.2839, -5.6397, -5.9545, -6.1124, -3.8381, -5.3705, -6.0192, -6.038, -4.8629, -5.7947, -3.0287, -5.4438, -3.3262, -4.5605, -5.6296, -5.0139, -5.3058, -5.6416, -5.8279, -4.725, -5.6565, -5.0607, -5.4981, -5.6829, -5.6857, -5.6143, -5.666, -5.7543, -5.7235, -5.3913, -5.4492, -5.4602, -5.5341, -5.546, -5.6269, -5.7148, -5.8113, -5.827, -5.827, -5.827, -5.827, -5.9355, -5.9355, -5.9356, -5.9356, -5.3173, -6.0573, -6.2192, -6.2192, -6.2192, -6.2192, -6.2192, -6.2192, -6.2192, -6.2192, -6.2192, -6.2192, -6.2192, -6.2192, -4.7306, -5.3811, -4.1926, -5.7274, -5.4898, -5.9356, -5.4091, -5.7148, -5.3913, -4.4724, -5.6269, -5.6908, -5.6086, -5.3464, -3.7898, -3.7196, -4.979, -4.889, -5.6363, -5.3136, -5.3599, -5.7148, -5.7733], \"loglift\": [30.0, 29.0, 28.0, 27.0, 26.0, 25.0, 24.0, 23.0, 22.0, 21.0, 20.0, 19.0, 18.0, 17.0, 16.0, 15.0, 14.0, 13.0, 12.0, 11.0, 10.0, 9.0, 8.0, 7.0, 6.0, 5.0, 4.0, 3.0, 2.0, 1.0, 1.1457, 1.1386, 1.1383, 1.1363, 1.1297, 1.1234, 1.123, 1.1152, 1.1149, 1.1128, 1.1051, 1.1022, 1.1001, 1.0996, 1.0882, 1.0869, 1.0869, 1.0868, 1.0831, 1.0823, 1.0783, 1.0782, 1.0774, 1.0766, 1.0719, 1.071, 1.071, 1.071, 1.071, 1.0671, 1.0531, 1.0624, 1.0551, 1.0133, 1.0178, 1.0244, 0.9765, 1.005, 0.939, 0.9504, 1.0269, 1.0132, 0.9518, 1.0335, 0.7066, 0.8249, 0.2688, 0.2139, 0.6563, 0.8744, 0.9442, 0.7353, 0.6669, 0.6976, 0.509, 0.5288, 0.2101, 0.5006, 0.6432, 0.493, 0.6532, 0.09, 0.1906, 0.0771, 0.2993, -0.1621, -0.3628, 0.0338, -0.0537, 2.026, 2.0196, 2.0079, 2.0079, 1.9958, 1.9922, 1.9915, 1.9866, 1.9822, 1.9813, 1.9804, 1.9803, 1.9754, 1.9754, 1.9688, 1.9602, 1.959, 1.9503, 1.9404, 1.9404, 1.927, 1.927, 1.927, 1.927, 1.8901, 1.8742, 1.8742, 1.8742, 1.8742, 1.8741, 1.8719, 1.8527, 1.8445, 1.7976, 1.7078, 1.5384, 1.3096, 1.5787, 1.4189, 1.722, 0.1541, 1.1216, 0.7757, 1.4452, -0.018, 1.1669, 1.253, 0.8425, 1.6118, 1.5851, 1.6777, 0.5316, 0.1348, 1.5342, -0.0061, 0.9447, 1.0782, 1.0729, 0.2126, -0.1453, 0.0538, 0.87, 0.7662, 0.8133, 0.3433, 0.0393, -0.1184, -0.4637, 0.0316, 2.1205, 2.0952, 2.0911, 2.0837, 2.0728, 2.0678, 2.0455, 2.044, 2.0409, 2.0292, 2.0292, 2.0229, 2.0065, 1.9988, 1.9988, 1.9973, 1.9851, 1.9747, 1.9727, 1.9727, 1.9727, 1.9727, 1.9727, 1.9727, 1.9582, 1.9411, 1.9382, 1.9382, 1.9382, 1.9382, 1.8874, 1.8618, 1.8011, 1.8978, 1.8323, 1.6419, 1.775, 1.5738, 1.1435, 1.3304, 1.0444, 1.5246, 0.138, 1.2777, -0.0236, 0.8398, 1.287, 0.8499, 0.8882, 1.2101, 1.121, 1.0732, 0.3137, 0.4566, 0.1395, 0.7941, 0.622, 0.4488, -0.0941, 1.1378, 2.3033, 2.2723, 2.246, 2.2443, 2.2433, 2.2433, 2.2433, 2.2286, 2.2286, 2.223, 2.2217, 2.2203, 2.2203, 2.2203, 2.2203, 2.2126, 2.2012, 2.1911, 2.1882, 2.188, 2.1861, 2.1861, 2.1861, 2.1861, 2.1715, 2.1651, 2.1596, 2.1542, 2.1542, 2.1542, 2.0734, 2.0466, 2.0916, 1.966, 1.912, 1.6668, 1.7593, 1.8775, 1.8994, 2.0594, 1.8551, 1.2876, 0.7518, 1.9171, -0.2795, 1.5714, -0.2512, 0.8472, 0.6331, 1.2403, 1.268, 1.0075, 0.9682, 0.1004, 0.4797, 0.9864, 0.622, 0.5653, 1.2937, 1.2203, 0.7074, 0.4715, -0.6106, 1.125, 2.4586, 2.4364, 2.4304, 2.4158, 2.4124, 2.4015, 2.3974, 2.393, 2.3873, 2.375, 2.375, 2.3511, 2.3511, 2.3511, 2.3482, 2.3285, 2.3155, 2.3155, 2.3155, 2.3155, 2.3003, 2.2823, 2.2701, 2.257, 2.257, 2.257, 2.2569, 2.2568, 2.2297, 2.2296, 2.2288, 2.228, 2.2101, 2.1836, 2.225, 1.948, 2.025, 2.0715, 1.5032, 1.3047, 1.9014, 2.0922, 1.4659, 1.3693, 1.436, 0.1012, -0.0135, 1.1947, 0.691, 1.207, 1.2362, 0.2221, 0.7618, 0.3624, -0.181, 0.5423, -0.0016, -0.1326, -0.3606, 2.5256, 2.512, 2.4877, 2.4547, 2.4539, 2.4539, 2.4539, 2.4539, 2.4521, 2.4489, 2.4246, 2.4227, 2.4151, 2.402, 2.3919, 2.3898, 2.3898, 2.3898, 2.375, 2.3574, 2.3363, 2.3326, 2.3326, 2.3326, 2.3326, 2.3326, 2.3326, 2.3326, 2.3325, 2.3325, 2.3239, 2.3142, 2.2047, 2.2709, 2.1667, 2.1642, 2.0822, 1.7124, 1.773, 2.0373, 1.5169, 1.386, 1.3272, 1.1915, -0.1435, 1.9525, -0.1411, 1.7307, 1.7994, 0.7232, 1.3184, 1.1401, 0.6752, 0.8888, 1.1711, 0.827, 1.2133, 0.6915, 2.6116, 2.6026, 2.6026, 2.5954, 2.5833, 2.5733, 2.5589, 2.5515, 2.5322, 2.5066, 2.5065, 2.5065, 2.5064, 2.4914, 2.4914, 2.4736, 2.4706, 2.4648, 2.4554, 2.4485, 2.4485, 2.4485, 2.4485, 2.4484, 2.4484, 2.4214, 2.3812, 2.3812, 2.3812, 2.3812, 2.2461, 2.2026, 2.1135, 1.9041, 1.589, 1.9918, 1.9635, 1.7334, 1.6445, 1.2835, 2.0081, 0.8879, -0.1916, -0.0888, 0.9378, 1.0367, 0.1345, 1.2082, 1.4732, 0.4405, 0.0681, 0.0491, -0.5377, -0.387, 2.9072, 2.8878, 2.853, 2.8412, 2.8313, 2.8055, 2.7869, 2.7584, 2.7487, 2.7324, 2.7324, 2.7307, 2.7098, 2.7098, 2.7098, 2.686, 2.6568, 2.6568, 2.6137, 2.6137, 2.6137, 2.6137, 2.6137, 2.6137, 2.6137, 2.6137, 2.6137, 2.6137, 2.6137, 2.6137, 2.6054, 2.5944, 2.5494, 2.5619, 2.4355, 2.2797, 2.2249, 2.2259, 1.9568, 1.8864, 2.3389, 2.1666, 1.9322, 1.6182, 2.156, 1.8619, 2.0556, -0.4861, -0.4298, 0.3591, 0.5477, 0.6197, 1.0011, 0.4371, 0.5399, 0.8512, -0.2079, 1.2315, 1.4999, 3.0223, 3.017, 2.9775, 2.953, 2.9508, 2.9389, 2.9389, 2.9389, 2.9389, 2.9225, 2.9225, 2.8797, 2.8757, 2.8756, 2.8756, 2.8538, 2.8462, 2.8462, 2.8462, 2.8462, 2.8093, 2.8027, 2.8027, 2.8027, 2.8027, 2.8027, 2.8027, 2.8027, 2.8027, 2.8027, 2.7458, 2.615, 2.2737, 2.585, 2.6118, 2.6601, 1.4589, 2.2733, 2.6101, 2.5976, 1.663, 2.3966, -0.6212, 1.9316, -0.6509, 0.8572, 2.1003, 1.0125, 1.4362, 1.9821, 2.3373, -0.0897, 1.881, -0.3011, 1.0588, 1.7387, 1.3802, -0.2628, 0.317, 1.8947, 0.5659, 3.2094, 3.2, 3.1981, 3.1853, 3.1832, 3.168, 3.1505, 3.1298, 3.1263, 3.1263, 3.1263, 3.1263, 3.1007, 3.1007, 3.1007, 3.1007, 3.0958, 3.0694, 3.0233, 3.0233, 3.0233, 3.0233, 3.0233, 3.0233, 3.0233, 3.0233, 3.0233, 3.0233, 3.0233, 3.0233, 3.0124, 2.9356, 2.7781, 2.9629, 2.8348, 2.8678, 2.5326, 2.7158, 2.3958, 1.5801, 2.5348, 2.5287, 2.3563, 1.9038, -1.1146, -1.3121, 0.4386, -0.3714, 2.0502, -0.0243, -0.7245, 2.0828, 1.9172]}, \"token.table\": {\"Topic\": [10, 5, 5, 5, 2, 4, 6, 7, 1, 2, 4, 5, 6, 7, 9, 10, 4, 10, 2, 8, 2, 1, 2, 3, 4, 6, 8, 6, 2, 8, 1, 2, 3, 6, 7, 8, 9, 1, 3, 4, 5, 6, 4, 9, 8, 1, 2, 5, 10, 6, 2, 8, 4, 2, 3, 5, 7, 8, 3, 10, 2, 9, 1, 2, 3, 4, 9, 1, 5, 8, 4, 1, 2, 4, 6, 1, 3, 4, 7, 9, 2, 4, 4, 6, 9, 1, 1, 8, 1, 2, 5, 7, 8, 1, 2, 6, 9, 7, 5, 7, 3, 4, 5, 6, 8, 2, 6, 7, 3, 2, 8, 1, 3, 1, 3, 7, 10, 2, 2, 3, 10, 9, 6, 8, 9, 8, 9, 1, 7, 1, 3, 4, 6, 8, 3, 1, 3, 4, 6, 7, 10, 1, 6, 9, 10, 1, 1, 4, 8, 9, 1, 2, 3, 6, 10, 1, 3, 6, 9, 6, 2, 3, 4, 6, 1, 2, 3, 6, 7, 1, 3, 7, 8, 1, 2, 3, 4, 5, 6, 7, 8, 10, 6, 1, 5, 1, 2, 5, 6, 1, 2, 4, 6, 2, 3, 4, 7, 3, 1, 9, 4, 6, 2, 4, 5, 7, 4, 8, 9, 9, 1, 1, 1, 2, 3, 7, 9, 4, 2, 1, 1, 5, 10, 5, 3, 1, 2, 3, 4, 5, 8, 1, 2, 4, 1, 2, 3, 6, 7, 8, 9, 1, 4, 6, 9, 7, 9, 1, 9, 1, 4, 1, 4, 5, 4, 6, 2, 4, 6, 2, 3, 4, 7, 8, 2, 1, 8, 8, 2, 8, 8, 9, 4, 6, 10, 6, 2, 7, 5, 6, 10, 7, 7, 6, 1, 6, 1, 2, 4, 5, 6, 7, 7, 1, 2, 3, 4, 5, 8, 6, 2, 1, 10, 2, 3, 1, 3, 5, 10, 1, 2, 3, 4, 5, 7, 8, 4, 6, 8, 10, 5, 6, 4, 1, 1, 2, 1, 2, 3, 4, 5, 6, 9, 6, 4, 3, 9, 6, 7, 1, 6, 8, 4, 5, 7, 1, 3, 4, 6, 7, 4, 1, 7, 7, 3, 3, 9, 1, 2, 3, 4, 6, 7, 7, 8, 10, 4, 10, 1, 2, 1, 5, 7, 2, 4, 6, 8, 1, 2, 4, 7, 1, 1, 2, 3, 8, 10, 3, 3, 4, 6, 9, 4, 10, 6, 4, 7, 2, 6, 8, 2, 3, 2, 3, 1, 7, 1, 2, 3, 3, 7, 3, 4, 1, 2, 6, 8, 1, 4, 7, 8, 2, 8, 2, 3, 1, 2, 3, 6, 7, 8, 1, 7, 9, 4, 6, 1, 2, 7, 8, 9, 1, 9, 1, 2, 3, 4, 5, 6, 4, 6, 1, 2, 1, 2, 4, 7, 1, 2, 3, 7, 3, 1, 2, 3, 7, 8, 1, 5, 5, 8, 9, 5, 6, 3, 1, 4, 5, 7, 10, 1, 2, 5, 2, 3, 6, 7, 8, 1, 3, 7, 10, 3, 5, 4, 6, 2, 2, 4, 9, 1, 8, 2, 7, 10, 10, 5, 10, 5, 6, 7, 2, 3, 5, 6, 1, 2, 1, 2, 4, 8, 9, 8, 4, 2, 4, 7, 6, 10, 3, 1, 3, 2, 9, 6, 1, 9, 1, 8, 9, 9, 1, 2, 4, 7, 3, 6, 8, 10, 6, 2, 3, 8, 10, 2, 6, 10, 1, 7, 1, 5, 6, 7, 8, 1, 2, 3, 4, 5, 8, 1, 2, 4, 3, 5, 4, 3, 1, 3, 4, 10, 4, 10, 3, 7, 7, 9, 8, 4, 7, 1, 1, 6, 7, 8, 9, 6, 8, 10, 7, 3, 8, 1, 2, 7, 9, 10, 5, 6, 5, 1, 3, 4, 5, 7, 9, 6, 7, 2, 3, 1, 2, 6, 8, 9, 1, 2, 3, 6, 8, 9, 10, 2, 4, 6, 10, 7, 3, 1, 2, 3, 4, 5, 8, 9, 2, 5, 7, 8, 5, 9, 2, 10, 7, 6, 1, 2, 3, 4, 5, 7, 8, 9, 2, 7, 10, 1, 3, 4, 5, 6, 7, 4, 2, 3, 4, 7, 8, 9, 1, 5, 6, 1, 4, 10, 1, 2, 6, 8, 3, 8, 2, 5, 4, 1, 2, 10, 10, 5, 1, 3, 5, 6, 7, 1, 8, 1, 3, 4, 6, 9, 1, 2, 3, 4, 5, 6, 7, 8, 4, 1, 2, 9, 1, 3, 4, 5, 6, 4, 4, 5, 1, 2, 3, 4, 7, 1, 7, 1, 6, 7, 8, 9, 1, 8, 5, 1, 1, 6, 9, 9, 2, 6, 7, 10, 3, 4, 5, 8, 4, 5, 7, 8, 1, 2, 3, 4, 5, 6, 8, 9, 10, 7, 6, 7, 2, 3, 9, 10, 3, 6, 9, 10, 1, 2, 1, 2, 6, 3, 9, 4, 5, 6, 3, 9, 7, 1, 2, 3, 4, 1, 2, 4, 5, 7, 8, 4, 5, 1, 1, 3, 4, 5, 7, 2, 8, 9, 6, 10, 8, 1, 2, 3, 6, 8, 7, 1, 2, 3, 4, 5, 6, 8, 9, 2, 3, 4, 6, 9, 10, 5, 2, 1, 2, 8, 9, 2, 8, 10, 1, 2, 3, 5, 6, 7, 9, 3, 2, 9, 1, 2, 7, 5, 3, 5, 4, 5, 2, 4, 5, 1, 2, 4, 9, 4, 10, 1, 2, 3, 5, 7, 8, 1, 2, 3, 4, 1, 6, 10, 3, 10, 5, 10, 9, 1, 2, 3, 7, 10, 9, 8, 9, 1, 2, 1, 3, 4, 8, 2, 7, 2, 3, 5, 1, 8, 8, 7, 1, 2, 3, 4, 5, 7, 4, 10, 2, 9, 5, 8, 9, 3, 10, 7, 1, 2, 9, 10, 1, 2, 3, 4, 5, 6, 7, 8, 9, 10, 8, 3, 1, 9, 1, 2, 4, 1, 1, 2, 3, 5, 6, 8, 6, 3, 1, 10, 1, 2, 3, 1, 10, 9, 3, 1, 2, 3, 6, 7, 9, 1, 2, 3, 5, 6, 1, 10, 4, 9, 4, 9, 2, 4, 8, 9, 4, 9, 1, 2, 3, 4, 5, 6, 7, 8, 9, 10, 1, 2, 3, 4, 6, 7, 9, 10, 6, 2, 1, 3, 6, 7, 9, 8, 9, 1, 3, 6, 9, 1, 2, 3, 4, 5, 7, 10, 1, 2, 5, 1, 7, 1, 3, 5, 6, 7, 9, 10, 10, 3, 5, 5, 10, 6], \"Freq\": [0.8726901155612015, 0.9090311164326623, 0.9309277832779946, 0.8966640133693324, 0.6954751617258712, 0.06954751617258711, 0.13909503234517423, 0.06954751617258711, 0.28945517974084767, 0.045227371834507445, 0.1628185386042268, 0.03618189746760596, 0.2532732822732417, 0.05427284620140893, 0.09950021803591638, 0.05427284620140893, 0.4219429459346719, 0.4219429459346719, 0.12465539376165875, 0.7479323625699525, 0.9583068898832522, 0.15759490969462658, 0.13334953897237634, 0.04849074144450048, 0.33943519011150336, 0.303067134028128, 0.01212268536112512, 0.9026123707248633, 0.8226554841907269, 0.6337510143621073, 0.26600858815035955, 0.08312768379698736, 0.016625536759397472, 0.34913627194734687, 0.049876610278192415, 0.11637875731578229, 0.11637875731578229, 0.23252603840294817, 0.35935842298637444, 0.1056936538195219, 0.12683238458342627, 0.16910984611123503, 0.8276583986882016, 0.1379430664480336, 0.7828972620833108, 0.6038454223697491, 0.37438416186924445, 0.012076908447394983, 0.8290266602036671, 0.9124281077638308, 0.2349202058859621, 0.7047606176578863, 0.7862625163867071, 0.11780957391445578, 0.05890478695722789, 0.6479526565295067, 0.11780957391445578, 0.05890478695722789, 0.7784837574375735, 0.8290269012231176, 0.25906499504011715, 0.5181299900802343, 0.17090182352165365, 0.21362727940206705, 0.5554309264453743, 0.08545091176082682, 0.6302712359170057, 0.14183015378249167, 0.7091507689124584, 0.7432945565608285, 0.9001156945399734, 0.18785028688083508, 0.5259808032663382, 0.11271017212850104, 0.15028022950466804, 0.49350223774096147, 0.05483358197121794, 0.3015847008416987, 0.13708395492804484, 0.02741679098560897, 0.6429252675071244, 0.3214626337535622, 0.07533890900087827, 0.6027112720070261, 0.30135563600351306, 0.8705959345665094, 0.9039506845523744, 0.8733916021072646, 0.6245405377861262, 0.11355282505202294, 0.05677641252601147, 0.1703292375780344, 0.028388206263005734, 0.3060742053960659, 0.03400824504400732, 0.44210718557209516, 0.17004122522003662, 0.9651472645808272, 0.9309278194887859, 0.8906958904593237, 0.1859916528018385, 0.23248956600229811, 0.04649791320045962, 0.1859916528018385, 0.3254853924032174, 0.8492600377584003, 0.5868448222721956, 0.39122988151479704, 0.9606155524899898, 0.9687790693410294, 0.9409350074445909, 0.8338243693759514, 0.12828067221168482, 0.2525561045411301, 0.1683707363607534, 0.5051122090822602, 0.0841853681803767, 0.8874084995042139, 0.1506745732650983, 0.7533728663254915, 0.6207965085480325, 0.7886906200566663, 0.26403454428972334, 0.5808759974373914, 0.10561381771588935, 0.7828973877373296, 0.788690629135284, 0.9653333130563854, 0.027580951801611013, 0.1201335242077837, 0.2402670484155674, 0.28031155648482864, 0.16017803227704494, 0.2402670484155674, 0.9614383025297449, 0.11687961483241194, 0.2727191012756278, 0.46751845932964775, 0.03895987161080398, 0.03895987161080398, 0.03895987161080398, 0.14980540316707955, 0.14980540316707955, 0.5992216126683182, 0.14980540316707955, 0.8692919132825778, 0.8705906353104477, 0.16759423987806338, 0.33518847975612676, 0.4189855996951584, 0.08744775363649447, 0.17489550727298894, 0.43723876818247237, 0.08744775363649447, 0.2623432609094834, 0.08218906729046199, 0.5753234710332339, 0.10958542305394932, 0.21917084610789864, 0.9032952173648494, 0.27816944117471337, 0.13908472058735669, 0.3059863852921847, 0.25035249705724205, 0.14491158012487548, 0.3767701083246763, 0.2608408442247759, 0.20287621217482568, 0.028982316024975096, 0.25531264075918836, 0.5957294951047729, 0.02127605339659903, 0.10638026698299516, 0.37877302652806694, 0.1213544648099632, 0.04412889629453207, 0.1029674246872415, 0.16548336110449527, 0.0073548160490886786, 0.07722556851543112, 0.07354816049088679, 0.022064448147266037, 0.9088151114140361, 0.8705902833945209, 0.9335816513249112, 0.06323535341920891, 0.5691181807728801, 0.06323535341920891, 0.25294141367683565, 0.08774534325863989, 0.08774534325863989, 0.6142174028104792, 0.08774534325863989, 0.3321535272786489, 0.09490100779389968, 0.284703023381699, 0.284703023381699, 0.8908843133670408, 0.42339257771126815, 0.42339257771126815, 0.8166317005880327, 0.10207896257350409, 0.25681262153149514, 0.2054500972251961, 0.05136252430629903, 0.4622627187566912, 0.1128784461938239, 0.05643922309691195, 0.7337099002598554, 0.700637135370797, 0.9687619248888942, 0.9602394312409597, 0.36945019254473965, 0.008210004278771992, 0.36945019254473965, 0.24630012836315976, 0.7886906973458497, 0.9199865640222998, 0.8583319202300244, 0.9518977588519705, 0.13095945402123862, 0.7857567241274318, 0.8290269012231176, 0.8698862512618147, 0.8353904555115331, 0.29647533524591835, 0.12483172010354457, 0.04681189503882921, 0.12483172010354457, 0.35889119529769065, 0.04681189503882921, 0.5068332372866466, 0.4617813939722781, 0.033788882485776446, 0.1646171460971515, 0.10974476406476766, 0.43897905625907063, 0.1829079401079461, 0.03658158802158922, 0.03658158802158922, 0.03658158802158922, 0.16846236766301215, 0.08423118383150607, 0.42115591915753037, 0.2526935514945182, 0.8169199940960394, 0.638844968757751, 0.9079196254004681, 0.10681407357652567, 0.8591387030110128, 0.1356534794227915, 0.10406468060647474, 0.7544689343969418, 0.13008085075809342, 0.9055227615262407, 0.05659517259539004, 0.13925129273116363, 0.6962564636558182, 0.7362154113333675, 0.09377865796241237, 0.09377865796241237, 0.23444664490603093, 0.515782618793268, 0.04688932898120619, 0.8226528230427298, 0.963778409269333, 0.782897731512627, 0.9061969880841554, 0.8874084995042139, 0.9346649729251082, 0.782897335195254, 0.7886904634084745, 0.08818088476223367, 0.8818088476223366, 0.7442565478489183, 0.9124294282432833, 0.8644894593920991, 0.7372166264605581, 0.8966649812161174, 0.8799732800984009, 0.9244260708519267, 0.9069754639653413, 0.7372167618985566, 0.8799766892678695, 0.9492255497828095, 0.9032952173648494, 0.18742820368582766, 0.09371410184291383, 0.14057115276437074, 0.09371410184291383, 0.42171345829311224, 0.046857050921456915, 0.9069749924104925, 0.2566362577850708, 0.0641590644462677, 0.42772709630845135, 0.14970448370795797, 0.04277270963084514, 0.0641590644462677, 0.8799737605870491, 0.8861046618708172, 0.2671947150021267, 0.5343894300042534, 0.16787084512742076, 0.7833972772612969, 0.8164456881208176, 0.05630659918074604, 0.11261319836149208, 0.8290270142090471, 0.19121996533733823, 0.29065434731275414, 0.038243993067467646, 0.05354159029445471, 0.30595194453974117, 0.04589279168096118, 0.08413678474842883, 0.2559903618635154, 0.42665060310585906, 0.1365281929938749, 0.17066024124234364, 0.8771353734004154, 0.129945981244506, 0.9423240299063441, 0.9049398547256595, 0.8692918755157956, 0.8492581026663912, 0.3601473438069064, 0.0900368359517266, 0.06002455730115106, 0.33013506515633084, 0.06002455730115106, 0.03001227865057553, 0.03001227865057553, 0.8678378255769463, 0.9001160724426011, 0.2691003142648712, 0.672750785662178, 0.8799734458490251, 0.9243028758633035, 0.9331056743395395, 0.8799752481921502, 0.7828977117187955, 0.18525168671909548, 0.09262584335954774, 0.6483809035168342, 0.1818703372423813, 0.2273379215529766, 0.06820137646589298, 0.045467584310595326, 0.4546758431059532, 0.9337268189037545, 0.9367815063432765, 0.8906915503139731, 0.9243029688479041, 0.9101798847172816, 0.7729049181026609, 0.9466528970578629, 0.5116153896704323, 0.1125553857274951, 0.28650461821544204, 0.05116153896704323, 0.010232307793408646, 0.030696923380225935, 0.806613043490225, 0.7828975472823462, 0.8290269012231176, 0.27761227727157545, 0.6477619803003427, 0.7844568758130765, 0.19611421895326914, 0.28284298465550733, 0.5656859693110147, 0.11313719386220294, 0.14824274228316328, 0.14824274228316328, 0.14824274228316328, 0.5929709691326531, 0.3769313476594101, 0.6125134399465415, 0.9514922919974291, 0.8906927688958114, 0.8692864576978334, 0.2826540473860063, 0.22612323790880504, 0.22612323790880504, 0.05653080947720126, 0.22612323790880504, 0.8908840830232188, 0.11303783299289676, 0.05651891649644838, 0.7064864562056047, 0.11303783299289676, 0.9199869110474274, 0.8290269012231176, 0.8968580251852939, 0.9337275625433757, 0.7372166393611606, 0.1239982963647728, 0.7439897781886368, 0.7828979447816914, 0.28839557753355466, 0.7209889438338867, 0.919767272539111, 0.921989851999565, 0.8347522784778412, 0.06956268987315344, 0.7979939269213581, 0.20519843835120635, 0.8319364872835758, 0.7464952549706384, 0.23887848159060432, 0.737305326066153, 0.18432633151653824, 0.8766745192926283, 0.041746405680601346, 0.041746405680601346, 0.041746405680601346, 0.892051634280957, 0.041490773687486375, 0.020745386843743188, 0.041490773687486375, 0.7733474694662034, 0.1288912449110339, 0.9655085486547966, 0.8812504909490909, 0.20304271158742768, 0.21227192575049256, 0.2768764248919468, 0.1476674266090383, 0.07383371330451916, 0.09229214163064894, 0.9068545864519818, 0.07557121553766515, 0.7886908447835125, 0.8348131525416924, 0.09275701694907693, 0.7309895187870986, 0.08122105764301096, 0.08122105764301096, 0.027073685881003652, 0.054147371762007304, 0.2657516946364106, 0.5315033892728211, 0.14455886139420188, 0.14455886139420188, 0.385490297051205, 0.07227943069710094, 0.16865200495990218, 0.07227943069710094, 0.05576633208548295, 0.8922613133677272, 0.13729926385585933, 0.823795583135156, 0.13521552271872883, 0.06760776135936442, 0.6760776135936442, 0.06760776135936442, 0.855753122267567, 0.07779573838796064, 0.02593191279598688, 0.05186382559197376, 0.9235137512109214, 0.23186532875682475, 0.09661055364867698, 0.3477979931352371, 0.05796633218920619, 0.2705095502162955, 0.14949299977502628, 0.7474649988751314, 0.7498214133886748, 0.10711734476981068, 0.10711734476981068, 0.15995312559142238, 0.7997656279571119, 0.8908859457102705, 0.9629892605246704, 0.7738196808316294, 0.9527713972566778, 0.745633329172613, 0.7948355611959864, 0.7949594064298877, 0.15899188128597755, 0.03179837625719551, 0.9192773334927854, 0.2371438444929471, 0.6323835853145255, 0.07904794816431569, 0.7828973012074125, 0.14902590365595367, 0.14902590365595367, 0.14902590365595367, 0.447077710967861, 0.9235162023542778, 0.9142256611812722, 0.2627378745366156, 0.656844686341539, 0.9553515475300004, 0.8492605807935295, 0.7264454271380505, 0.9254781626389105, 0.5246843957496006, 0.37477456839257184, 0.8776500014466586, 0.7456334515901218, 0.6207964998833305, 0.7370194402893899, 0.9527713972566778, 0.8528038541087745, 0.9248763920457914, 0.040212017045469194, 0.8572873730778096, 0.6445159259711897, 0.25780637038847587, 0.06445159259711897, 0.06445159259711897, 0.8776709425263959, 0.06269078160902827, 0.06564157762543713, 0.13128315525087425, 0.6564157762543713, 0.06564157762543713, 0.06564157762543713, 0.7828982011433842, 0.9199851315004887, 0.29583737208653854, 0.5916747441730771, 0.05916747441730771, 0.23862610923597022, 0.7158783277079107, 0.88297924167811, 0.07827626463977559, 0.9001770433574193, 0.7844546726767045, 0.9350967632537477, 0.9402902416542547, 0.956445411191707, 0.7006377423146173, 0.3294261468052336, 0.4941392202078504, 0.1647130734026168, 0.7006361170254526, 0.2664360258568327, 0.053287205171366536, 0.10657441034273307, 0.5861592568850319, 0.19475406476929055, 0.09737703238464528, 0.681639226692517, 0.8290269012231176, 0.9790259015690543, 0.2023982420049086, 0.43371051858194704, 0.34696841486555763, 0.8290269012231176, 0.3137270967688427, 0.5490224193454748, 0.07843177419221067, 0.13011855963043636, 0.7807113577826181, 0.2925028800695959, 0.13295585457708903, 0.13295585457708903, 0.3722763928158493, 0.02659117091541781, 0.5909222394262251, 0.07831499558660815, 0.08543454063993616, 0.14951044611988829, 0.07119545053328014, 0.02135863515998404, 0.5236928715662296, 0.32730804472889347, 0.15274375420681696, 0.35228380948717947, 0.634110857076923, 0.8904034242310818, 0.957054934924337, 0.6145749352538602, 0.08779641932198003, 0.08779641932198003, 0.2633892579659401, 0.786261515069723, 0.7383905291196469, 0.7191212315371766, 0.8906927968877768, 0.6527422382420606, 0.8052743812508261, 0.7828973012074125, 0.6249868225868964, 0.34090190322921626, 0.8623303592447356, 0.2464002913153057, 0.16426686087687045, 0.16426686087687045, 0.08213343043843523, 0.3285337217537409, 0.08549591536600337, 0.3419836614640135, 0.5557234498790219, 0.9243170678563796, 0.788529172814124, 0.8733913018130339, 0.42312660830928667, 0.1410422027697622, 0.1410422027697622, 0.18805627035968295, 0.09402813517984147, 0.9309257026545827, 0.7921407429500834, 0.8337401713396533, 0.5249058618144444, 0.2709191544848746, 0.02539867073295699, 0.11852713008713261, 0.02539867073295699, 0.03386489431060932, 0.8370141987573314, 0.1287714151934356, 0.8226561682606879, 0.8908852649722686, 0.158654906859327, 0.158654906859327, 0.0793274534296635, 0.475964720577981, 0.0793274534296635, 0.24466642479611117, 0.12233321239805559, 0.1834998185970834, 0.24466642479611117, 0.1529165154975695, 0.030583303099513896, 0.6207961569801309, 0.16099472473098175, 0.8049736236549088, 0.9330765756461346, 0.6745061557994217, 0.8906936020448379, 0.8908842427572428, 0.13505799130982366, 0.18908118783375313, 0.16206958957178838, 0.32413917914357676, 0.054023196523929465, 0.13505799130982366, 0.7886895564208849, 0.27651523664988015, 0.09217174554996006, 0.13825761832494007, 0.5069446005247803, 0.8966658781889516, 0.749710899667892, 0.5802215687453761, 0.38681437916358413, 0.8414296629732431, 0.9672062693081748, 0.21545805616800606, 0.14051612358783006, 0.13583225280156905, 0.20140644380922307, 0.07025806179391503, 0.16393547751913504, 0.04215483707634901, 0.03278709550382701, 0.48862246194194636, 0.19544898477677855, 0.29317347716516784, 0.23900146150288587, 0.2539390528468162, 0.1344383220953733, 0.1344383220953733, 0.1792510961271644, 0.029875182687860734, 0.9267358339585972, 0.0848440360811327, 0.2828134536037757, 0.0848440360811327, 0.0848440360811327, 0.056562690720755135, 0.4242201804056635, 0.4139869454874698, 0.572276071703267, 0.9032952173648494, 0.46773089803825735, 0.4889913934036327, 0.021260495365375335, 0.7040098270334929, 0.036103068052999635, 0.23466994234449765, 0.018051534026499817, 0.9332829897104759, 0.9617881311502468, 0.9158319985891517, 0.9527713972566778, 0.9038628682782845, 0.8490256112199632, 0.1297122461586055, 0.011792022378055045, 0.9160510062354468, 0.8792555938887578, 0.2390348901047414, 0.3361428142097926, 0.04481904189463901, 0.05228888221041218, 0.3361428142097926, 0.9379489304942652, 0.6952301676729352, 0.36616389443220926, 0.17512186255453488, 0.25472270917023254, 0.15920169323139535, 0.06368067729255814, 0.26078033869433714, 0.10431213547773487, 0.10431213547773487, 0.17964867776721005, 0.05795118637651937, 0.1564682032166023, 0.04056583046356356, 0.09272189820243099, 0.90011718978829, 0.44849667957360084, 0.19221286267440035, 0.32035477112400057, 0.269723869347253, 0.10275195022752495, 0.15412792534128741, 0.17981591289816864, 0.29541185690413424, 0.9118529624039294, 0.22382135023754537, 0.7460711674584846, 0.5911185664586939, 0.1313596814352653, 0.1806195619734898, 0.08209980089704082, 0.016419960179408163, 0.23307986644577744, 0.6992395993373324, 0.497434847486397, 0.28115882684013743, 0.021627602064625957, 0.10813801032312978, 0.08651040825850383, 0.9013397887860622, 0.7828980396093241, 0.8966619907458722, 0.9106487405790875, 0.9223677047259615, 0.07686397539383012, 0.6388439000516533, 0.7886898860227746, 0.7141310418989258, 0.08926638023736573, 0.08926638023736573, 0.08926638023736573, 0.8092219950933128, 0.7862610709974626, 0.8974917982752346, 0.782897731512627, 0.8697098984766252, 0.8065938189840726, 0.18958844263233837, 0.7583537705293535, 0.3350842668271543, 0.26889478202179046, 0.1613368692130743, 0.04964211360402286, 0.10342107000838095, 0.012410528401005715, 0.008273685600670476, 0.04136842800335238, 0.016547371201340953, 0.886823643676122, 0.9032952173648494, 0.8027544292409191, 0.8492632365060122, 0.4620887193226629, 0.11552217983066572, 0.34656653949199717, 0.2821576093160041, 0.4514521749056065, 0.11286304372640163, 0.11286304372640163, 0.583306196248466, 0.3888707974989774, 0.9556855112646465, 0.03341557731694568, 0.013366230926778272, 0.22591915422472714, 0.6777574626741814, 0.8697097840926897, 0.9648514996333087, 0.8799736760954259, 0.8908875753967541, 0.6388453325839911, 0.8906962834411497, 0.19982451780877697, 0.29973677671316545, 0.17484645308267985, 0.3247148414392626, 0.176193328755683, 0.2642899931335245, 0.04404833218892075, 0.0880966643778415, 0.352386657511366, 0.04404833218892075, 0.8486314394422064, 0.12123306277745807, 0.9555935755115658, 0.39044888104161607, 0.09761222026040402, 0.19522444052080803, 0.27656795740447804, 0.03253740675346801, 0.7256424422719809, 0.27211591585199285, 0.8209445725375385, 0.9124292414789671, 0.9198903878635332, 0.7985055295151984, 0.326391524466107, 0.35606348123575304, 0.05934391353929218, 0.05934391353929218, 0.17803174061787652, 0.7372173435151566, 0.3208013928395447, 0.1509653613362563, 0.17927136658680437, 0.17927136658680437, 0.018870670167032037, 0.028306005250548057, 0.0943533508351602, 0.028306005250548057, 0.9255997935033354, 0.21845927598460313, 0.764607465946111, 0.14487419571693053, 0.4346225871507916, 0.28974839143386105, 0.8121801277553719, 0.871016107646542, 0.13406474846092412, 0.8043884907655446, 0.8580127469460598, 0.7756608923878101, 0.8226534064471356, 0.7985059238500847, 0.6207963009364312, 0.3286713750752605, 0.12826200002936994, 0.1843766250422193, 0.08016375001835621, 0.008016375001835621, 0.07214737501652059, 0.1843766250422193, 0.9570558879864717, 0.802966311999703, 0.13382771866661716, 0.7719691307988265, 0.08577434786653627, 0.12866152179980442, 0.8065936906515624, 0.7885274201319178, 0.6569818820047612, 0.9199860510288871, 0.7508867104948624, 0.8226542269770433, 0.1674339358313739, 0.8371696791568694, 0.18265808846355358, 0.18265808846355358, 0.27398713269533037, 0.36531617692710716, 0.878346132499647, 0.125478018928521, 0.5127028876438733, 0.03329239530155021, 0.05992631154279038, 0.37287482737736233, 0.019975437180930127, 0.8733904756293153, 0.1505820064033829, 0.572211624332855, 0.1505820064033829, 0.1204656051227063, 0.16133975501419207, 0.8066987750709603, 0.6745067926999667, 0.3310675984786761, 0.4966013977180142, 0.1808581081931311, 0.7234324327725244, 0.9071363925832642, 0.6366262498478265, 0.17956124995707926, 0.1305899999687849, 0.016323749996098112, 0.032647499992196224, 0.8052747310384418, 0.8039566826861851, 0.08932852029846503, 0.8706257679789058, 0.07914779708899143, 0.18967054977405703, 0.06322351659135234, 0.2212823080697332, 0.5057881327308187, 0.7844553509924702, 0.9030095525544747, 0.8660650593447987, 0.24274640733251251, 0.7282392219975375, 0.5342038303687019, 0.44516985864058495, 0.8986193405481349, 0.9158555341606589, 0.33598992292282015, 0.0359989203131593, 0.13199604114825078, 0.10799676093947791, 0.275991722400888, 0.10799676093947791, 0.9001192619776031, 0.8290270881884837, 0.8776444157611335, 0.7006363545581106, 0.9309276131191525, 0.8136078445641272, 0.7497110326606423, 0.9417675118764655, 0.6745009928457818, 0.9243040897691776, 0.9452650030998455, 0.04346045991263657, 0.3284720730724983, 0.6569441461449966, 0.402604852672753, 0.121771945309125, 0.1141976137827201, 0.07341275171746292, 0.09089197831685886, 0.06642106107770454, 0.06234257487117883, 0.034375812312145336, 0.022722994579214714, 0.01107017684628409, 0.6952310423192536, 0.7885273964069619, 0.911505069682535, 0.7886907080275235, 0.13740726532153927, 0.20611089798230892, 0.6183326939469267, 0.8586968554801013, 0.4017045739494383, 0.08926768309987518, 0.11158460387484397, 0.29011997007459434, 0.06695076232490638, 0.022316920774968795, 0.8799708550395152, 0.959346663343836, 0.8692856251632246, 0.6745023269242435, 0.18918749076678076, 0.6306249692226026, 0.1261249938445205, 0.4515039306428457, 0.4515039306428457, 0.7497088519090208, 0.7885283065635765, 0.3400637996633293, 0.08501594991583232, 0.3684024496352734, 0.11335459988777642, 0.05667729994388821, 0.05667729994388821, 0.3690765292120145, 0.5008895753591626, 0.05272521845885922, 0.05272521845885922, 0.8799737032639298, 0.3680843365315463, 0.5521265047973194, 0.9337266314007913, 0.74971145249152, 0.2245130026194501, 0.6735390078583502, 0.06697973189713191, 0.5358378551770553, 0.3683885254342255, 0.7886906973458497, 0.21079161603585864, 0.6323748481075758, 0.3811522394019734, 0.14443663808916887, 0.13418341995320934, 0.07132673485884883, 0.08113416090194053, 0.06642302183730296, 0.056169803701343446, 0.03254282277934978, 0.023181188829125867, 0.009361633950223908, 0.620523423888821, 0.02386628553418542, 0.04773257106837084, 0.22275199831906392, 0.03182171404558056, 0.00795542851139514, 0.00795542851139514, 0.03182171404558056, 0.8799787502719264, 0.915831394123016, 0.10599597239241834, 0.7154728136488238, 0.07949697929431375, 0.07949697929431375, 0.026498993098104585, 0.6592431120151573, 0.26369724480606294, 0.2683969972953038, 0.33549624661912975, 0.06709924932382595, 0.2683969972953038, 0.03501598348713999, 0.03501598348713999, 0.08753995871784997, 0.2451118844099799, 0.3501598348713999, 0.19258790917926993, 0.052523975230709986, 0.5530309244055817, 0.43781614848775213, 0.8761101487070623, 0.1299588445894718, 0.7797530675368307, 0.3269834715775711, 0.21798898105171408, 0.3269834715775711, 0.036331496841952346, 0.06055249473658725, 0.01211049894731745, 0.8290269012231176, 0.8290269012231176, 0.21576849723116615, 0.6473054916934984, 0.6569828829031712, 0.8290269012231176, 0.7966262295171952], \"Term\": [\"abal\", \"aceh\", \"adik\", \"adityason\", \"alam\", \"alam\", \"alam\", \"alam\", \"alas\", \"alas\", \"alas\", \"alas\", \"alas\", \"alas\", \"alas\", \"alas\", \"alhamdulillah\", \"alhamdulillah\", \"alias\", \"alias\", \"allah\", \"aman\", \"aman\", \"aman\", \"aman\", \"aman\", \"aman\", \"amerika\", \"ampuh\", \"ana\", \"anak\", \"anak\", \"anak\", \"anak\", \"anak\", \"anak\", \"anak\", \"ancam\", \"ancam\", \"ancam\", \"ancam\", \"ancam\", \"aneh\", \"aneh\", \"anggara\", \"anggota\", \"anggota\", \"anggota\", \"angota\", \"antri\", \"arab\", \"arab\", \"artikel\", \"asasi\", \"asasi\", \"asasi\", \"asasi\", \"asasi\", \"asing\", \"assalamualaikum\", \"ato\", \"ato\", \"atur\", \"atur\", \"atur\", \"atur\", \"autisme\", \"awam\", \"awam\", \"ayat\", \"babi\", \"baca\", \"baca\", \"baca\", \"baca\", \"bahaya\", \"bahaya\", \"bahaya\", \"bahaya\", \"bahaya\", \"baik\", \"baik\", \"bangga\", \"bangga\", \"bangga\", \"bantu\", \"banyak\", \"basmi\", \"bayar\", \"bayar\", \"bayar\", \"bayar\", \"bayar\", \"bebas\", \"bebas\", \"bebas\", \"bebas\", \"bego\", \"bekas\", \"belanda\", \"benci\", \"benci\", \"benci\", \"benci\", \"benci\", \"berat\", \"beri\", \"beri\", \"biar\", \"biarin\", \"biaya\", \"bijak\", \"bijak\", \"bingung\", \"bingung\", \"bingung\", \"bingung\", \"bio\", \"bkn\", \"bkn\", \"bla\", \"bln\", \"bpom\", \"bpom\", \"bpom\", \"bppom\", \"brasil\", \"bu\", \"bu\", \"buat\", \"buat\", \"buat\", \"buat\", \"buat\", \"bubar\", \"bukti\", \"bukti\", \"bukti\", \"bukti\", \"bukti\", \"bukti\", \"buku\", \"buku\", \"buku\", \"buku\", \"bunuh\", \"cacat\", \"cari\", \"cari\", \"cari\", \"cegah\", \"cegah\", \"cegah\", \"cegah\", \"cegah\", \"china\", \"china\", \"china\", \"china\", \"ciderai\", \"cina\", \"cina\", \"cina\", \"cina\", \"coba\", \"coba\", \"coba\", \"coba\", \"coba\", \"corona\", \"corona\", \"corona\", \"corona\", \"covid\", \"covid\", \"covid\", \"covid\", \"covid\", \"covid\", \"covid\", \"covid\", \"covid\", \"cucu\", \"dadak\", \"daftar\", \"dah\", \"dah\", \"dah\", \"dah\", \"dampak\", \"dampak\", \"dampak\", \"dampak\", \"dapat\", \"dapat\", \"dapat\", \"dapat\", \"dapet\", \"dar\", \"dar\", \"darurat\", \"darurat\", \"dasar\", \"dasar\", \"dasar\", \"dasar\", \"data\", \"data\", \"data\", \"demo\", \"demokrasi\", \"demokrat\", \"denda\", \"denda\", \"denda\", \"denda\", \"deportasi\", \"desember\", \"diri\", \"distribusi\", \"diy\", \"diy\", \"djana\", \"dki\", \"dn\", \"dokter\", \"dokter\", \"dokter\", \"dokter\", \"dokter\", \"dokter\", \"dpr\", \"dpr\", \"dpr\", \"dr\", \"dr\", \"dr\", \"dr\", \"dr\", \"dr\", \"dr\", \"duduk\", \"duduk\", \"duduk\", \"duduk\", \"duhh\", \"duli\", \"duluan\", \"duluan\", \"edar\", \"edar\", \"efek\", \"efek\", \"efek\", \"efektif\", \"efektif\", \"efektifitas\", \"efektifitas\", \"elu\", \"emang\", \"emang\", \"emang\", \"emang\", \"emang\", \"emergency\", \"enak\", \"endangerment\", \"faktor\", \"farma\", \"fatwa\", \"fee\", \"followers\", \"fpi\", \"fpi\", \"fulan\", \"gada\", \"gajah\", \"gaji\", \"galang\", \"gantung\", \"gapapa\", \"gara\", \"gebetannya\", \"gegara\", \"gera\", \"gerindra\", \"gin\", \"gin\", \"gin\", \"gin\", \"gin\", \"gin\", \"golong\", \"gratis\", \"gratis\", \"gratis\", \"gratis\", \"gratis\", \"gratis\", \"group\", \"grup\", \"gt\", \"gt\", \"guna\", \"guna\", \"gw\", \"gw\", \"gw\", \"hai\", \"hak\", \"hak\", \"hak\", \"hak\", \"hak\", \"hak\", \"hak\", \"halal\", \"halal\", \"halal\", \"halal\", \"ham\", \"ham\", \"haram\", \"henti\", \"herd\", \"hey\", \"hidup\", \"hidup\", \"hidup\", \"hidup\", \"hidup\", \"hidup\", \"hidup\", \"hik\", \"hilang\", \"hindar\", \"hindar\", \"hmm\", \"hoaks\", \"hoax\", \"hrus\", \"hti\", \"hudhi\", \"hudhi\", \"hudhi\", \"hukum\", \"hukum\", \"hukum\", \"hukum\", \"hukum\", \"ijin\", \"ikut\", \"ilmu\", \"imbang\", \"immunity\", \"imun\", \"in\", \"indonesia\", \"indonesia\", \"indonesia\", \"indonesia\", \"indonesia\", \"indonesia\", \"inews\", \"input\", \"ir\", \"islam\", \"islam\", \"ix\", \"ix\", \"iya\", \"iya\", \"iya\", \"izin\", \"izin\", \"izin\", \"izin\", \"jabat\", \"jabat\", \"jahat\", \"jajah\", \"jakarta\", \"jalan\", \"jalan\", \"jalan\", \"jalan\", \"jalan\", \"jamaah\", \"jamin\", \"jamin\", \"jamin\", \"jamin\", \"jangkit\", \"januari\", \"jatah\", \"jatuh\", \"jejak\", \"jelas\", \"jelas\", \"jenazah\", \"jenis\", \"jenis\", \"joko\", \"jt\", \"jual\", \"jual\", \"juang\", \"juang\", \"juara\", \"juta\", \"juta\", \"kabar\", \"kabar\", \"kader\", \"kader\", \"kader\", \"kader\", \"kadrun\", \"kadrun\", \"kadrun\", \"kadrun\", \"kah\", \"kah\", \"kaki\", \"kalah\", \"kalo\", \"kalo\", \"kalo\", \"kalo\", \"kalo\", \"kalo\", \"kamil\", \"kamil\", \"kamuh\", \"karantina\", \"karantina\", \"karna\", \"karna\", \"karna\", \"karna\", \"karna\", \"kasi\", \"kasi\", \"kasih\", \"kasih\", \"kasih\", \"kasih\", \"kasih\", \"kasih\", \"kayak\", \"kayak\", \"kecuali\", \"kecuali\", \"keluar\", \"keluar\", \"keluar\", \"keluar\", \"keluarga\", \"keluarga\", \"keluarga\", \"keluarga\", \"kemenkes\", \"kena\", \"kena\", \"kena\", \"kena\", \"kena\", \"kendali\", \"kendali\", \"kepala\", \"kepala\", \"kepala\", \"keras\", \"keras\", \"ketemu\", \"ketimbang\", \"kh\", \"klinik\", \"klu\", \"km\", \"komisi\", \"komisi\", \"komisi\", \"kompak\", \"komunis\", \"komunis\", \"komunis\", \"konten\", \"kontra\", \"kontra\", \"kontra\", \"kontra\", \"korupsi\", \"kota\", \"kovid\", \"kovid\", \"kpd\", \"kristen\", \"krna\", \"kualitas\", \"kuasa\", \"kuasa\", \"kunci\", \"kurung\", \"kv\", \"label\", \"laboratorium\", \"laksana\", \"langgar\", \"langgar\", \"langkah\", \"langsung\", \"langsung\", \"langsung\", \"langsung\", \"larang\", \"larang\", \"lawan\", \"lawan\", \"lawan\", \"lawan\", \"lawan\", \"lgi\", \"liar\", \"lindung\", \"lindung\", \"lindung\", \"lingkung\", \"lingkung\", \"logika\", \"lu\", \"lu\", \"lulus\", \"lumayan\", \"lumpuh\", \"lupa\", \"made\", \"main\", \"main\", \"main\", \"mak\", \"makan\", \"makan\", \"makan\", \"makan\", \"mandiri\", \"mandiri\", \"mandiri\", \"mang\", \"manjur\", \"manusia\", \"manusia\", \"manusia\", \"marufamin\", \"mas\", \"mas\", \"mas\", \"masalah\", \"masalah\", \"masuk\", \"masuk\", \"masuk\", \"masuk\", \"masuk\", \"masyarakat\", \"masyarakat\", \"masyarakat\", \"masyarakat\", \"masyarakat\", \"masyarakat\", \"mati\", \"mati\", \"mati\", \"medis\", \"medis\", \"menit\", \"mentah\", \"menteri\", \"menteri\", \"menteri\", \"menteri\", \"minim\", \"minimal\", \"mmg\", \"mnolak\", \"mnrt\", \"moderna\", \"moeldoko\", \"mrk\", \"mrk\", \"mu\", \"mudah\", \"mudah\", \"mudah\", \"mudah\", \"mudah\", \"mui\", \"mui\", \"mui\", \"mulia\", \"mundur\", \"mungkar\", \"nama\", \"nama\", \"nama\", \"nama\", \"nama\", \"nanggung\", \"napi\", \"natalius\", \"negara\", \"negara\", \"negara\", \"negara\", \"negara\", \"negara\", \"negeri\", \"negeri\", \"nek\", \"ngajak\", \"no\", \"no\", \"no\", \"no\", \"no\", \"nolak\", \"nolak\", \"nolak\", \"nolak\", \"nolak\", \"nolak\", \"nomer\", \"normal\", \"normal\", \"ntar\", \"nulis\", \"nurani\", \"nurut\", \"nyata\", \"nyata\", \"nyata\", \"nyata\", \"nyata\", \"nyata\", \"nyemplung\", \"obat\", \"obat\", \"obat\", \"obat\", \"of\", \"ogah\", \"oke\", \"oke\", \"om\", \"oposisi\", \"orang\", \"orang\", \"orang\", \"orang\", \"orang\", \"orang\", \"orang\", \"orang\", \"orangorang\", \"orangorang\", \"orangorang\", \"org\", \"org\", \"org\", \"org\", \"org\", \"org\", \"pace\", \"pakai\", \"pakai\", \"pakai\", \"pakai\", \"pakai\", \"pakai\", \"paksa\", \"paksa\", \"pan\", \"pandemi\", \"pandemi\", \"pandemi\", \"partai\", \"partai\", \"partai\", \"partai\", \"partisipasi\", \"pasal\", \"pasrah\", \"patologi\", \"pbnu\", \"pdip\", \"pdip\", \"pdip\", \"peka\", \"pemda\", \"penjara\", \"penjara\", \"penjara\", \"penjara\", \"penjara\", \"penting\", \"peran\", \"percaya\", \"percaya\", \"percaya\", \"percaya\", \"percaya\", \"perintah\", \"perintah\", \"perintah\", \"perintah\", \"perintah\", \"perintah\", \"perintah\", \"perintah\", \"persuasif\", \"pfizer\", \"pfizer\", \"pfizer\", \"pidana\", \"pidana\", \"pidana\", \"pidana\", \"pidana\", \"pig\", \"pigai\", \"pigai\", \"pilih\", \"pilih\", \"pilih\", \"pilih\", \"pilih\", \"piye\", \"piye\", \"pki\", \"pki\", \"pki\", \"pki\", \"pki\", \"pks\", \"poin\", \"pola\", \"politikus\", \"politis\", \"politis\", \"populasi\", \"portap\", \"produk\", \"produk\", \"produk\", \"produk\", \"produksi\", \"protes\", \"provinsi\", \"public\", \"pungut\", \"pusat\", \"raja\", \"raja\", \"rakyat\", \"rakyat\", \"rakyat\", \"rakyat\", \"rakyat\", \"rakyat\", \"rakyat\", \"rakyat\", \"rakyat\", \"rasa\", \"reformasi\", \"rela\", \"remeh\", \"rencana\", \"rencana\", \"rencana\", \"rezim\", \"rezim\", \"rezim\", \"rezim\", \"ri\", \"ri\", \"ribka\", \"ribka\", \"ribka\", \"ribu\", \"ribu\", \"rizieq\", \"rs\", \"rutan\", \"sabar\", \"sah\", \"sains\", \"sakit\", \"sakit\", \"sakit\", \"sakit\", \"salah\", \"salah\", \"salah\", \"salah\", \"salah\", \"salah\", \"samping\", \"samping\", \"sangsi\", \"sanksi\", \"sanksi\", \"sanksi\", \"sanksi\", \"sanksi\", \"saran\", \"saran\", \"saudi\", \"scr\", \"sd\", \"sdg\", \"sedia\", \"sedia\", \"sedia\", \"sedia\", \"sedia\", \"seh\", \"sehat\", \"sehat\", \"sehat\", \"sehat\", \"sehat\", \"sehat\", \"sehat\", \"sehat\", \"seleksi\", \"sembuh\", \"sembuh\", \"sengaja\", \"sengaja\", \"sengaja\", \"sepenuh\", \"siar\", \"sikap\", \"sikap\", \"sila\", \"silalahi\", \"simak\", \"simple\", \"simpul\", \"sinovac\", \"sinovac\", \"sinovac\", \"sinovac\", \"sinovac\", \"sinovac\", \"sinovac\", \"sma\", \"sok\", \"sok\", \"solusi\", \"solusi\", \"solusi\", \"spesialis\", \"staf\", \"standar\", \"status\", \"streaming\", \"suci\", \"sudut\", \"sudut\", \"suka\", \"suka\", \"suka\", \"suka\", \"sukses\", \"sukses\", \"suntik\", \"suntik\", \"suntik\", \"suntik\", \"suntik\", \"survey\", \"sy\", \"sy\", \"sy\", \"sy\", \"syarat\", \"syarat\", \"syariat\", \"syukur\", \"syukur\", \"tahap\", \"tahap\", \"tahun\", \"takut\", \"takut\", \"takut\", \"takut\", \"takut\", \"tambah\", \"tanda\", \"tanda\", \"tanggap\", \"tanggap\", \"tanggung\", \"tanggung\", \"tanggung\", \"tanggung\", \"tawakal\", \"temen\", \"temu\", \"tenaga\", \"tenaga\", \"tentang\", \"tentang\", \"tentu\", \"terang\", \"terima\", \"terima\", \"terima\", \"terima\", \"terima\", \"terima\", \"terimakasih\", \"tet\", \"tgl\", \"th\", \"tifauzia\", \"timbul\", \"tinggi\", \"tingkat\", \"tinjau\", \"tiongkok\", \"tjiptaning\", \"tjiptaning\", \"tokoh\", \"tokoh\", \"tolak\", \"tolak\", \"tolak\", \"tolak\", \"tolak\", \"tolak\", \"tolak\", \"tolak\", \"tolak\", \"tolak\", \"tonton\", \"treatment\", \"ttg\", \"tuan\", \"tubuh\", \"tubuh\", \"tubuh\", \"tuduh\", \"tuju\", \"tuju\", \"tuju\", \"tuju\", \"tuju\", \"tuju\", \"tukang\", \"tular\", \"tum\", \"tunda\", \"tunggu\", \"tunggu\", \"tunggu\", \"turun\", \"turun\", \"tutup\", \"tvone\", \"udah\", \"udah\", \"udah\", \"udah\", \"udah\", \"udah\", \"uji\", \"uji\", \"uji\", \"uji\", \"ulang\", \"umat\", \"umat\", \"umur\", \"urut\", \"usia\", \"usia\", \"uu\", \"uu\", \"uu\", \"uyghur\", \"vaduka\", \"vaduka\", \"vaksin\", \"vaksin\", \"vaksin\", \"vaksin\", \"vaksin\", \"vaksin\", \"vaksin\", \"vaksin\", \"vaksin\", \"vaksin\", \"vaksinasi\", \"vaksinasi\", \"vaksinasi\", \"vaksinasi\", \"vaksinasi\", \"vaksinasi\", \"vaksinasi\", \"vaksinasi\", \"valid\", \"viral\", \"virus\", \"virus\", \"virus\", \"virus\", \"virus\", \"wabah\", \"wabah\", \"wajar\", \"wajar\", \"wajar\", \"wajar\", \"wajib\", \"wajib\", \"wajib\", \"wajib\", \"wajib\", \"wajib\", \"wajib\", \"wakil\", \"wakil\", \"wali\", \"wamenkumham\", \"wamenkumham\", \"warga\", \"warga\", \"warga\", \"warga\", \"warga\", \"warga\", \"wassallam\", \"wb\", \"who\", \"who\", \"wib\", \"wr\", \"yahudi\"]}, \"R\": 30, \"lambda.step\": 0.01, \"plot.opts\": {\"xlab\": \"PC1\", \"ylab\": \"PC2\"}, \"topic.order\": [3, 1, 7, 8, 4, 5, 2, 9, 6, 10]};\n",
              "\n",
              "function LDAvis_load_lib(url, callback){\n",
              "  var s = document.createElement('script');\n",
              "  s.src = url;\n",
              "  s.async = true;\n",
              "  s.onreadystatechange = s.onload = callback;\n",
              "  s.onerror = function(){console.warn(\"failed to load library \" + url);};\n",
              "  document.getElementsByTagName(\"head\")[0].appendChild(s);\n",
              "}\n",
              "\n",
              "if(typeof(LDAvis) !== \"undefined\"){\n",
              "   // already loaded: just create the visualization\n",
              "   !function(LDAvis){\n",
              "       new LDAvis(\"#\" + \"ldavis_el63551403522904493283038196182\", ldavis_el63551403522904493283038196182_data);\n",
              "   }(LDAvis);\n",
              "}else if(typeof define === \"function\" && define.amd){\n",
              "   // require.js is available: use it to load d3/LDAvis\n",
              "   require.config({paths: {d3: \"https://d3js.org/d3.v5\"}});\n",
              "   require([\"d3\"], function(d3){\n",
              "      window.d3 = d3;\n",
              "      LDAvis_load_lib(\"https://cdn.jsdelivr.net/gh/bmabey/pyLDAvis/pyLDAvis/js/ldavis.v3.0.0.js\", function(){\n",
              "        new LDAvis(\"#\" + \"ldavis_el63551403522904493283038196182\", ldavis_el63551403522904493283038196182_data);\n",
              "      });\n",
              "    });\n",
              "}else{\n",
              "    // require.js not available: dynamically load d3 & LDAvis\n",
              "    LDAvis_load_lib(\"https://d3js.org/d3.v5.js\", function(){\n",
              "         LDAvis_load_lib(\"https://cdn.jsdelivr.net/gh/bmabey/pyLDAvis/pyLDAvis/js/ldavis.v3.0.0.js\", function(){\n",
              "                 new LDAvis(\"#\" + \"ldavis_el63551403522904493283038196182\", ldavis_el63551403522904493283038196182_data);\n",
              "            })\n",
              "         });\n",
              "}\n",
              "</script>"
            ]
          },
          "metadata": {},
          "execution_count": 57
        }
      ]
    }
  ]
}